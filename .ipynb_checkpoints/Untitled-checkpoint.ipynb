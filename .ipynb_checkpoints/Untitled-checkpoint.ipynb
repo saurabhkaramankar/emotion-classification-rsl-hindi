{
 "cells": [
  {
   "cell_type": "code",
   "execution_count": 13,
   "id": "e5b50065",
   "metadata": {},
   "outputs": [],
   "source": [
    "pip install sklearn"
   ]
  },
  {
   "cell_type": "code",
   "execution_count": 14,
   "id": "98a5708f",
   "metadata": {},
   "outputs": [],
   "source": [
    "pip install text-preprocessing"
   ]
  },
  {
   "cell_type": "code",
   "execution_count": 24,
   "id": "565da6ed",
   "metadata": {},
   "outputs": [],
   "source": [
    "import pandas as pd       \n",
    "from nltk.tokenize import TweetTokenizer\n",
    "from nltk.sentiment import SentimentIntensityAnalyzer\n",
    "from nltk.sentiment.util import  mark_negation\n",
    "from nltk.corpus import opinion_lexicon\n",
    "\n",
    "from sklearn.feature_extraction.text import CountVectorizer  \n",
    "from sklearn.linear_model import LogisticRegression\n",
    "from sklearn.pipeline import Pipeline, FeatureUnion\n",
    "from sklearn.base import BaseEstimator, TransformerMixin\n",
    "from sklearn.metrics import confusion_matrix, cohen_kappa_score, classification_report\n",
    "import numpy as np\n",
    "\n"
   ]
  },
  {
   "cell_type": "code",
   "execution_count": 22,
   "id": "fa0686a0",
   "metadata": {},
   "outputs": [],
   "source": [
    "train_data = pd.read_csv(\"/content/twitter-train-B.txt\", header=None, delimiter=\"\\t\",usecols=(2,3), names=(\"sent\",\"tweet\"))\n",
    "test_data = pd.read_csv(\"/content/twitter-test-gold-B.tsv\", header=None, delimiter=\"\\t\",usecols=(2,3), names=(\"sent\",\"tweet\"))\n",
    "\n",
    "\n",
    "train_data.sent = train_data.sent.replace(['objective-OR-neutral','objective'],['neutral','neutral'])\n",
    "\n",
    "\n",
    "tokenizer = TweetTokenizer(preserve_case=False, reduce_len=True)"
   ]
  },
  {
   "cell_type": "code",
   "execution_count": 17,
   "id": "d52fac11",
   "metadata": {},
   "outputs": [],
   "source": [
    "full=pd.concat([test_data,train_data])\n",
    "full"
   ]
  },
  {
   "cell_type": "code",
   "execution_count": 18,
   "id": "a10271a3",
   "metadata": {},
   "outputs": [],
   "source": [
    "full"
   ]
  },
  {
   "cell_type": "code",
   "execution_count": 25,
   "id": "fdf6e473",
   "metadata": {},
   "outputs": [],
   "source": [
    "def remove_pattern(input_txt, pattern):\n",
    "    r = re.findall(pattern, input_txt)\n",
    "    for word in r:\n",
    "        input_txt = re.sub(word, \"\", input_txt)\n",
    "    return input_txt"
   ]
  },
  {
   "cell_type": "code",
   "execution_count": null,
   "id": "fd49f302",
   "metadata": {},
   "outputs": [],
   "source": []
  }
 ],
 "metadata": {
  "kernelspec": {
   "display_name": "Python 3 (ipykernel)",
   "language": "python",
   "name": "python3"
  },
  "language_info": {
   "codemirror_mode": {
    "name": "ipython",
    "version": 3
   },
   "file_extension": ".py",
   "mimetype": "text/x-python",
   "name": "python",
   "nbconvert_exporter": "python",
   "pygments_lexer": "ipython3",
   "version": "3.10.9"
  }
 },
 "nbformat": 4,
 "nbformat_minor": 5
}
