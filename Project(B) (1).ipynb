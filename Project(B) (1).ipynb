{
  "nbformat": 4,
  "nbformat_minor": 0,
  "metadata": {
    "colab": {
      "provenance": []
    },
    "kernelspec": {
      "name": "python3",
      "display_name": "Python 3"
    },
    "language_info": {
      "name": "python"
    }
  },
  "cells": [
    {
      "cell_type": "code",
      "execution_count": null,
      "metadata": {
        "id": "XRTOl2Hd3BYN"
      },
      "outputs": [],
      "source": []
    },
    {
      "cell_type": "markdown",
      "source": [
        "# **4 ] Experiments**"
      ],
      "metadata": {
        "id": "nPzTRFS4auf3"
      }
    },
    {
      "cell_type": "markdown",
      "source": [
        "# 4.1] Dataset Creation"
      ],
      "metadata": {
        "id": "_ZBt51UqbWEF"
      }
    },
    {
      "cell_type": "markdown",
      "source": [
        "Installing all the necessary librariies"
      ],
      "metadata": {
        "id": "hy1dpgG8bcUf"
      }
    },
    {
      "cell_type": "code",
      "execution_count": null,
      "metadata": {
        "colab": {
          "base_uri": "https://localhost:8080/"
        },
        "id": "8xXgDEg7jesb",
        "outputId": "408b74a9-9470-4546-8601-d267932633cd",
        "collapsed": true
      },
      "outputs": [
        {
          "output_type": "stream",
          "name": "stdout",
          "text": [
            "Looking in indexes: https://pypi.org/simple, https://us-python.pkg.dev/colab-wheels/public/simple/\n",
            "Collecting text-preprocessing\n",
            "  Downloading text_preprocessing-0.1.1-py2.py3-none-any.whl (9.6 kB)\n",
            "Requirement already satisfied: nltk in /usr/local/lib/python3.8/dist-packages (from text-preprocessing) (3.7)\n",
            "Collecting names-dataset==2.1\n",
            "  Downloading names_dataset-2.1.0-py3-none-any.whl (62.6 MB)\n",
            "\u001b[2K     \u001b[90m━━━━━━━━━━━━━━━━━━━━━━━━━━━━━━━━━━━━━━━━\u001b[0m \u001b[32m62.6/62.6 MB\u001b[0m \u001b[31m12.6 MB/s\u001b[0m eta \u001b[36m0:00:00\u001b[0m\n",
            "\u001b[?25hCollecting unittest-xml-reporting\n",
            "  Downloading unittest_xml_reporting-3.2.0-py2.py3-none-any.whl (20 kB)\n",
            "Collecting pyspellchecker\n",
            "  Downloading pyspellchecker-0.7.1-py3-none-any.whl (2.5 MB)\n",
            "\u001b[2K     \u001b[90m━━━━━━━━━━━━━━━━━━━━━━━━━━━━━━━━━━━━━━━━\u001b[0m \u001b[32m2.5/2.5 MB\u001b[0m \u001b[31m50.1 MB/s\u001b[0m eta \u001b[36m0:00:00\u001b[0m\n",
            "\u001b[?25hCollecting contractions\n",
            "  Downloading contractions-0.1.73-py2.py3-none-any.whl (8.7 kB)\n",
            "Collecting textsearch>=0.0.21\n",
            "  Downloading textsearch-0.0.24-py2.py3-none-any.whl (7.6 kB)\n",
            "Requirement already satisfied: tqdm in /usr/local/lib/python3.8/dist-packages (from nltk->text-preprocessing) (4.64.1)\n",
            "Requirement already satisfied: joblib in /usr/local/lib/python3.8/dist-packages (from nltk->text-preprocessing) (1.2.0)\n",
            "Requirement already satisfied: click in /usr/local/lib/python3.8/dist-packages (from nltk->text-preprocessing) (7.1.2)\n",
            "Requirement already satisfied: regex>=2021.8.3 in /usr/local/lib/python3.8/dist-packages (from nltk->text-preprocessing) (2022.6.2)\n",
            "Requirement already satisfied: lxml in /usr/local/lib/python3.8/dist-packages (from unittest-xml-reporting->text-preprocessing) (4.9.2)\n",
            "Collecting pyahocorasick\n",
            "  Downloading pyahocorasick-2.0.0-cp38-cp38-manylinux_2_5_x86_64.manylinux1_x86_64.whl (104 kB)\n",
            "\u001b[2K     \u001b[90m━━━━━━━━━━━━━━━━━━━━━━━━━━━━━━━━━━━━━━\u001b[0m \u001b[32m104.5/104.5 KB\u001b[0m \u001b[31m11.5 MB/s\u001b[0m eta \u001b[36m0:00:00\u001b[0m\n",
            "\u001b[?25hCollecting anyascii\n",
            "  Downloading anyascii-0.3.1-py3-none-any.whl (287 kB)\n",
            "\u001b[2K     \u001b[90m━━━━━━━━━━━━━━━━━━━━━━━━━━━━━━━━━━━━━━\u001b[0m \u001b[32m287.5/287.5 KB\u001b[0m \u001b[31m13.1 MB/s\u001b[0m eta \u001b[36m0:00:00\u001b[0m\n",
            "\u001b[?25hInstalling collected packages: names-dataset, unittest-xml-reporting, pyspellchecker, pyahocorasick, anyascii, textsearch, contractions, text-preprocessing\n",
            "Successfully installed anyascii-0.3.1 contractions-0.1.73 names-dataset-2.1.0 pyahocorasick-2.0.0 pyspellchecker-0.7.1 text-preprocessing-0.1.1 textsearch-0.0.24 unittest-xml-reporting-3.2.0\n"
          ]
        }
      ],
      "source": [
        "pip install text-preprocessing"
      ]
    },
    {
      "cell_type": "code",
      "source": [
        "from text_preprocessing import preprocess_text\n",
        "from text_preprocessing import to_lower, remove_email, remove_url, remove_punctuation, lemmatize_word\n",
        "\n",
        "# Preprocess text using default preprocess functions in the pipeline \n",
        "text_to_process = 'Helllo, I am John Doe!!! My email is john.doe@email.com. Visit our website www.johndoe.com'\n",
        "preprocessed_text = preprocess_text(text_to_process)\n",
        "print(preprocessed_text)\n",
        "# output: hello email visit website\n",
        "\n",
        "# Preprocess text using custom preprocess functions in the pipeline \n",
        "preprocess_functions = [to_lower, remove_email, remove_url, remove_punctuation, lemmatize_word]\n",
        "preprocessed_text = preprocess_text(text_to_process, preprocess_functions)\n",
        "print(preprocessed_text)\n",
        "# output: helllo i am john doe my email is visit our website"
      ],
      "metadata": {
        "colab": {
          "base_uri": "https://localhost:8080/"
        },
        "id": "h8-OOAUgjztr",
        "outputId": "1990c9e5-2a0b-4d6e-af57-66e1534a8a93"
      },
      "execution_count": null,
      "outputs": [
        {
          "output_type": "stream",
          "name": "stderr",
          "text": [
            "[nltk_data] Downloading package omw-1.4 to /root/nltk_data...\n"
          ]
        },
        {
          "output_type": "stream",
          "name": "stdout",
          "text": [
            "hello email visit website\n",
            "helllo i am john doe my email is visit our website\n"
          ]
        }
      ]
    },
    {
      "cell_type": "code",
      "source": [
        "import pandas as pd       \n",
        "from nltk.tokenize import TweetTokenizer\n",
        "from nltk.sentiment import SentimentIntensityAnalyzer\n",
        "from nltk.sentiment.util import  mark_negation\n",
        "from nltk.corpus import opinion_lexicon\n",
        "\n",
        "from sklearn.feature_extraction.text import CountVectorizer  \n",
        "from sklearn.linear_model import LogisticRegression\n",
        "from sklearn.pipeline import Pipeline, FeatureUnion\n",
        "from sklearn.base import BaseEstimator, TransformerMixin\n",
        "from sklearn.metrics import confusion_matrix, cohen_kappa_score, classification_report\n",
        "import numpy as np"
      ],
      "metadata": {
        "id": "gWk-4_yrXwGk"
      },
      "execution_count": null,
      "outputs": []
    },
    {
      "cell_type": "markdown",
      "source": [
        "![Screenshot (350).png](data:image/png;base64,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)"
      ],
      "metadata": {
        "id": "xgaBg6-jdcl-"
      }
    },
    {
      "cell_type": "markdown",
      "source": [
        "Link for the dataset semeval 2017\n",
        "\n",
        "https://paperswithcode.com/paper/emotion-intensities-in-tweets"
      ],
      "metadata": {
        "id": "1ygiZWZJeQCu"
      }
    },
    {
      "cell_type": "code",
      "source": [
        "train_data = pd.read_csv(\"/content/twitter-train-B.txt\", header=None, delimiter=\"\\t\",usecols=(2,3), names=(\"sent\",\"tweet\"))\n",
        "test_data = pd.read_csv(\"/content/twitter-test-gold-B.tsv\", header=None, delimiter=\"\\t\",usecols=(2,3), names=(\"sent\",\"tweet\"))\n",
        "\n",
        "\n",
        "train_data.sent = train_data.sent.replace(['objective-OR-neutral','objective'],['neutral','neutral'])\n",
        "\n",
        "\n",
        "tokenizer = TweetTokenizer(preserve_case=False, reduce_len=True)"
      ],
      "metadata": {
        "id": "42q1h5_Ia3xg"
      },
      "execution_count": null,
      "outputs": []
    },
    {
      "cell_type": "code",
      "source": [
        "full=pd.concat([test_data,train_data])\n",
        "full"
      ],
      "metadata": {
        "colab": {
          "base_uri": "https://localhost:8080/",
          "height": 423
        },
        "id": "w08MVCgQa75Y",
        "outputId": "665ffa85-f841-4b48-b623-6b862ec6e5a8"
      },
      "execution_count": null,
      "outputs": [
        {
          "data": {
            "text/html": [
              "\n",
              "  <div id=\"df-2b4fec6c-64c1-4f54-bda4-db975c66b119\">\n",
              "    <div class=\"colab-df-container\">\n",
              "      <div>\n",
              "<style scoped>\n",
              "    .dataframe tbody tr th:only-of-type {\n",
              "        vertical-align: middle;\n",
              "    }\n",
              "\n",
              "    .dataframe tbody tr th {\n",
              "        vertical-align: top;\n",
              "    }\n",
              "\n",
              "    .dataframe thead th {\n",
              "        text-align: right;\n",
              "    }\n",
              "</style>\n",
              "<table border=\"1\" class=\"dataframe\">\n",
              "  <thead>\n",
              "    <tr style=\"text-align: right;\">\n",
              "      <th></th>\n",
              "      <th>sent</th>\n",
              "      <th>tweet</th>\n",
              "    </tr>\n",
              "  </thead>\n",
              "  <tbody>\n",
              "    <tr>\n",
              "      <th>0</th>\n",
              "      <td>positive</td>\n",
              "      <td>@jjuueellzz down in the Atlantic city\\u002c ve...</td>\n",
              "    </tr>\n",
              "    <tr>\n",
              "      <th>1</th>\n",
              "      <td>positive</td>\n",
              "      <td>Musical awareness: Great Big Beautiful Tomorro...</td>\n",
              "    </tr>\n",
              "    <tr>\n",
              "      <th>2</th>\n",
              "      <td>neutral</td>\n",
              "      <td>On Radio786 100.4fm 7:10 Fri Oct 19 Labour ana...</td>\n",
              "    </tr>\n",
              "    <tr>\n",
              "      <th>3</th>\n",
              "      <td>negative</td>\n",
              "      <td>Kapan sih lo ngebuktiin\\u002cjan ngomong doang...</td>\n",
              "    </tr>\n",
              "    <tr>\n",
              "      <th>4</th>\n",
              "      <td>neutral</td>\n",
              "      <td>Tomorrow come and hear @DavidWillettsMP&amp;@MASie...</td>\n",
              "    </tr>\n",
              "    <tr>\n",
              "      <th>...</th>\n",
              "      <td>...</td>\n",
              "      <td>...</td>\n",
              "    </tr>\n",
              "    <tr>\n",
              "      <th>9679</th>\n",
              "      <td>positive</td>\n",
              "      <td>RT @MNFootNg It's monday and Monday Night Foot...</td>\n",
              "    </tr>\n",
              "    <tr>\n",
              "      <th>9680</th>\n",
              "      <td>positive</td>\n",
              "      <td>All I know is the road for that Lomardi start ...</td>\n",
              "    </tr>\n",
              "    <tr>\n",
              "      <th>9681</th>\n",
              "      <td>neutral</td>\n",
              "      <td>All Blue and White fam, we r meeting at Golden...</td>\n",
              "    </tr>\n",
              "    <tr>\n",
              "      <th>9682</th>\n",
              "      <td>positive</td>\n",
              "      <td>@DariusButler28   Have a great game agaist Tam...</td>\n",
              "    </tr>\n",
              "    <tr>\n",
              "      <th>9683</th>\n",
              "      <td>negative</td>\n",
              "      <td>I'm pisseeedddd that I missed Kid Cudi's show ...</td>\n",
              "    </tr>\n",
              "  </tbody>\n",
              "</table>\n",
              "<p>13497 rows × 2 columns</p>\n",
              "</div>\n",
              "      <button class=\"colab-df-convert\" onclick=\"convertToInteractive('df-2b4fec6c-64c1-4f54-bda4-db975c66b119')\"\n",
              "              title=\"Convert this dataframe to an interactive table.\"\n",
              "              style=\"display:none;\">\n",
              "        \n",
              "  <svg xmlns=\"http://www.w3.org/2000/svg\" height=\"24px\"viewBox=\"0 0 24 24\"\n",
              "       width=\"24px\">\n",
              "    <path d=\"M0 0h24v24H0V0z\" fill=\"none\"/>\n",
              "    <path d=\"M18.56 5.44l.94 2.06.94-2.06 2.06-.94-2.06-.94-.94-2.06-.94 2.06-2.06.94zm-11 1L8.5 8.5l.94-2.06 2.06-.94-2.06-.94L8.5 2.5l-.94 2.06-2.06.94zm10 10l.94 2.06.94-2.06 2.06-.94-2.06-.94-.94-2.06-.94 2.06-2.06.94z\"/><path d=\"M17.41 7.96l-1.37-1.37c-.4-.4-.92-.59-1.43-.59-.52 0-1.04.2-1.43.59L10.3 9.45l-7.72 7.72c-.78.78-.78 2.05 0 2.83L4 21.41c.39.39.9.59 1.41.59.51 0 1.02-.2 1.41-.59l7.78-7.78 2.81-2.81c.8-.78.8-2.07 0-2.86zM5.41 20L4 18.59l7.72-7.72 1.47 1.35L5.41 20z\"/>\n",
              "  </svg>\n",
              "      </button>\n",
              "      \n",
              "  <style>\n",
              "    .colab-df-container {\n",
              "      display:flex;\n",
              "      flex-wrap:wrap;\n",
              "      gap: 12px;\n",
              "    }\n",
              "\n",
              "    .colab-df-convert {\n",
              "      background-color: #E8F0FE;\n",
              "      border: none;\n",
              "      border-radius: 50%;\n",
              "      cursor: pointer;\n",
              "      display: none;\n",
              "      fill: #1967D2;\n",
              "      height: 32px;\n",
              "      padding: 0 0 0 0;\n",
              "      width: 32px;\n",
              "    }\n",
              "\n",
              "    .colab-df-convert:hover {\n",
              "      background-color: #E2EBFA;\n",
              "      box-shadow: 0px 1px 2px rgba(60, 64, 67, 0.3), 0px 1px 3px 1px rgba(60, 64, 67, 0.15);\n",
              "      fill: #174EA6;\n",
              "    }\n",
              "\n",
              "    [theme=dark] .colab-df-convert {\n",
              "      background-color: #3B4455;\n",
              "      fill: #D2E3FC;\n",
              "    }\n",
              "\n",
              "    [theme=dark] .colab-df-convert:hover {\n",
              "      background-color: #434B5C;\n",
              "      box-shadow: 0px 1px 3px 1px rgba(0, 0, 0, 0.15);\n",
              "      filter: drop-shadow(0px 1px 2px rgba(0, 0, 0, 0.3));\n",
              "      fill: #FFFFFF;\n",
              "    }\n",
              "  </style>\n",
              "\n",
              "      <script>\n",
              "        const buttonEl =\n",
              "          document.querySelector('#df-2b4fec6c-64c1-4f54-bda4-db975c66b119 button.colab-df-convert');\n",
              "        buttonEl.style.display =\n",
              "          google.colab.kernel.accessAllowed ? 'block' : 'none';\n",
              "\n",
              "        async function convertToInteractive(key) {\n",
              "          const element = document.querySelector('#df-2b4fec6c-64c1-4f54-bda4-db975c66b119');\n",
              "          const dataTable =\n",
              "            await google.colab.kernel.invokeFunction('convertToInteractive',\n",
              "                                                     [key], {});\n",
              "          if (!dataTable) return;\n",
              "\n",
              "          const docLinkHtml = 'Like what you see? Visit the ' +\n",
              "            '<a target=\"_blank\" href=https://colab.research.google.com/notebooks/data_table.ipynb>data table notebook</a>'\n",
              "            + ' to learn more about interactive tables.';\n",
              "          element.innerHTML = '';\n",
              "          dataTable['output_type'] = 'display_data';\n",
              "          await google.colab.output.renderOutput(dataTable, element);\n",
              "          const docLink = document.createElement('div');\n",
              "          docLink.innerHTML = docLinkHtml;\n",
              "          element.appendChild(docLink);\n",
              "        }\n",
              "      </script>\n",
              "    </div>\n",
              "  </div>\n",
              "  "
            ],
            "text/plain": [
              "          sent                                              tweet\n",
              "0     positive  @jjuueellzz down in the Atlantic city\\u002c ve...\n",
              "1     positive  Musical awareness: Great Big Beautiful Tomorro...\n",
              "2      neutral  On Radio786 100.4fm 7:10 Fri Oct 19 Labour ana...\n",
              "3     negative  Kapan sih lo ngebuktiin\\u002cjan ngomong doang...\n",
              "4      neutral  Tomorrow come and hear @DavidWillettsMP&@MASie...\n",
              "...        ...                                                ...\n",
              "9679  positive  RT @MNFootNg It's monday and Monday Night Foot...\n",
              "9680  positive  All I know is the road for that Lomardi start ...\n",
              "9681   neutral  All Blue and White fam, we r meeting at Golden...\n",
              "9682  positive  @DariusButler28   Have a great game agaist Tam...\n",
              "9683  negative  I'm pisseeedddd that I missed Kid Cudi's show ...\n",
              "\n",
              "[13497 rows x 2 columns]"
            ]
          },
          "execution_count": 7,
          "metadata": {},
          "output_type": "execute_result"
        }
      ]
    },
    {
      "cell_type": "markdown",
      "source": [
        "Data Preprocessing involves following steps The various steps used for this are given below.\n",
        "1. Removal of special characters, such as “*,” “!,” and “.”\n",
        "2. Removal of repeated characters.\n",
        "3. Removal of some irrelevant sentences."
      ],
      "metadata": {
        "id": "DdXLLXcFSCKf"
      }
    },
    {
      "cell_type": "code",
      "source": [
        "def remove_pattern(input_txt, pattern):\n",
        "    r = re.findall(pattern, input_txt)\n",
        "    for word in r:\n",
        "        input_txt = re.sub(word, \"\", input_txt)\n",
        "    return input_txt"
      ],
      "metadata": {
        "id": "jCGzhlEhfSnS"
      },
      "execution_count": null,
      "outputs": []
    },
    {
      "cell_type": "code",
      "source": [
        "import re\n",
        "full['clean_tweet'] = np.vectorize(remove_pattern)(full['tweet'], \"@[\\w]*\")"
      ],
      "metadata": {
        "id": "Yvdt9NQqfZcF"
      },
      "execution_count": null,
      "outputs": []
    },
    {
      "cell_type": "code",
      "source": [
        "full['clean_tweet'] = full['clean_tweet'].str.replace(\"[^a-zA-Z#]\", \" \")\n",
        "full.head()"
      ],
      "metadata": {
        "colab": {
          "base_uri": "https://localhost:8080/",
          "height": 241
        },
        "id": "nzhZ9Ja-faUl",
        "outputId": "f5a6c9a2-351c-498a-d749-14828b6c85c9"
      },
      "execution_count": null,
      "outputs": [
        {
          "output_type": "stream",
          "name": "stderr",
          "text": [
            "<ipython-input-10-93258bb97347>:1: FutureWarning: The default value of regex will change from True to False in a future version.\n",
            "  full['clean_tweet'] = full['clean_tweet'].str.replace(\"[^a-zA-Z#]\", \" \")\n"
          ]
        },
        {
          "output_type": "execute_result",
          "data": {
            "text/plain": [
              "       sent                                              tweet  \\\n",
              "0  positive  @jjuueellzz down in the Atlantic city\\u002c ve...   \n",
              "1  positive  Musical awareness: Great Big Beautiful Tomorro...   \n",
              "2   neutral  On Radio786 100.4fm 7:10 Fri Oct 19 Labour ana...   \n",
              "3  negative  Kapan sih lo ngebuktiin\\u002cjan ngomong doang...   \n",
              "4   neutral  Tomorrow come and hear @DavidWillettsMP&@MASie...   \n",
              "\n",
              "                                         clean_tweet  \n",
              "0   down in the Atlantic city u   c ventnor u   c...  \n",
              "1  Musical awareness  Great Big Beautiful Tomorro...  \n",
              "2  On Radio         fm      Fri Oct    Labour ana...  \n",
              "3  Kapan sih lo ngebuktiin u   cjan ngomong doang...  \n",
              "4  Tomorrow come and hear   debate    Navigating ...  "
            ],
            "text/html": [
              "\n",
              "  <div id=\"df-6101dc80-940b-4c87-bd9f-032bb60ea514\">\n",
              "    <div class=\"colab-df-container\">\n",
              "      <div>\n",
              "<style scoped>\n",
              "    .dataframe tbody tr th:only-of-type {\n",
              "        vertical-align: middle;\n",
              "    }\n",
              "\n",
              "    .dataframe tbody tr th {\n",
              "        vertical-align: top;\n",
              "    }\n",
              "\n",
              "    .dataframe thead th {\n",
              "        text-align: right;\n",
              "    }\n",
              "</style>\n",
              "<table border=\"1\" class=\"dataframe\">\n",
              "  <thead>\n",
              "    <tr style=\"text-align: right;\">\n",
              "      <th></th>\n",
              "      <th>sent</th>\n",
              "      <th>tweet</th>\n",
              "      <th>clean_tweet</th>\n",
              "    </tr>\n",
              "  </thead>\n",
              "  <tbody>\n",
              "    <tr>\n",
              "      <th>0</th>\n",
              "      <td>positive</td>\n",
              "      <td>@jjuueellzz down in the Atlantic city\\u002c ve...</td>\n",
              "      <td>down in the Atlantic city u   c ventnor u   c...</td>\n",
              "    </tr>\n",
              "    <tr>\n",
              "      <th>1</th>\n",
              "      <td>positive</td>\n",
              "      <td>Musical awareness: Great Big Beautiful Tomorro...</td>\n",
              "      <td>Musical awareness  Great Big Beautiful Tomorro...</td>\n",
              "    </tr>\n",
              "    <tr>\n",
              "      <th>2</th>\n",
              "      <td>neutral</td>\n",
              "      <td>On Radio786 100.4fm 7:10 Fri Oct 19 Labour ana...</td>\n",
              "      <td>On Radio         fm      Fri Oct    Labour ana...</td>\n",
              "    </tr>\n",
              "    <tr>\n",
              "      <th>3</th>\n",
              "      <td>negative</td>\n",
              "      <td>Kapan sih lo ngebuktiin\\u002cjan ngomong doang...</td>\n",
              "      <td>Kapan sih lo ngebuktiin u   cjan ngomong doang...</td>\n",
              "    </tr>\n",
              "    <tr>\n",
              "      <th>4</th>\n",
              "      <td>neutral</td>\n",
              "      <td>Tomorrow come and hear @DavidWillettsMP&amp;@MASie...</td>\n",
              "      <td>Tomorrow come and hear   debate    Navigating ...</td>\n",
              "    </tr>\n",
              "  </tbody>\n",
              "</table>\n",
              "</div>\n",
              "      <button class=\"colab-df-convert\" onclick=\"convertToInteractive('df-6101dc80-940b-4c87-bd9f-032bb60ea514')\"\n",
              "              title=\"Convert this dataframe to an interactive table.\"\n",
              "              style=\"display:none;\">\n",
              "        \n",
              "  <svg xmlns=\"http://www.w3.org/2000/svg\" height=\"24px\"viewBox=\"0 0 24 24\"\n",
              "       width=\"24px\">\n",
              "    <path d=\"M0 0h24v24H0V0z\" fill=\"none\"/>\n",
              "    <path d=\"M18.56 5.44l.94 2.06.94-2.06 2.06-.94-2.06-.94-.94-2.06-.94 2.06-2.06.94zm-11 1L8.5 8.5l.94-2.06 2.06-.94-2.06-.94L8.5 2.5l-.94 2.06-2.06.94zm10 10l.94 2.06.94-2.06 2.06-.94-2.06-.94-.94-2.06-.94 2.06-2.06.94z\"/><path d=\"M17.41 7.96l-1.37-1.37c-.4-.4-.92-.59-1.43-.59-.52 0-1.04.2-1.43.59L10.3 9.45l-7.72 7.72c-.78.78-.78 2.05 0 2.83L4 21.41c.39.39.9.59 1.41.59.51 0 1.02-.2 1.41-.59l7.78-7.78 2.81-2.81c.8-.78.8-2.07 0-2.86zM5.41 20L4 18.59l7.72-7.72 1.47 1.35L5.41 20z\"/>\n",
              "  </svg>\n",
              "      </button>\n",
              "      \n",
              "  <style>\n",
              "    .colab-df-container {\n",
              "      display:flex;\n",
              "      flex-wrap:wrap;\n",
              "      gap: 12px;\n",
              "    }\n",
              "\n",
              "    .colab-df-convert {\n",
              "      background-color: #E8F0FE;\n",
              "      border: none;\n",
              "      border-radius: 50%;\n",
              "      cursor: pointer;\n",
              "      display: none;\n",
              "      fill: #1967D2;\n",
              "      height: 32px;\n",
              "      padding: 0 0 0 0;\n",
              "      width: 32px;\n",
              "    }\n",
              "\n",
              "    .colab-df-convert:hover {\n",
              "      background-color: #E2EBFA;\n",
              "      box-shadow: 0px 1px 2px rgba(60, 64, 67, 0.3), 0px 1px 3px 1px rgba(60, 64, 67, 0.15);\n",
              "      fill: #174EA6;\n",
              "    }\n",
              "\n",
              "    [theme=dark] .colab-df-convert {\n",
              "      background-color: #3B4455;\n",
              "      fill: #D2E3FC;\n",
              "    }\n",
              "\n",
              "    [theme=dark] .colab-df-convert:hover {\n",
              "      background-color: #434B5C;\n",
              "      box-shadow: 0px 1px 3px 1px rgba(0, 0, 0, 0.15);\n",
              "      filter: drop-shadow(0px 1px 2px rgba(0, 0, 0, 0.3));\n",
              "      fill: #FFFFFF;\n",
              "    }\n",
              "  </style>\n",
              "\n",
              "      <script>\n",
              "        const buttonEl =\n",
              "          document.querySelector('#df-6101dc80-940b-4c87-bd9f-032bb60ea514 button.colab-df-convert');\n",
              "        buttonEl.style.display =\n",
              "          google.colab.kernel.accessAllowed ? 'block' : 'none';\n",
              "\n",
              "        async function convertToInteractive(key) {\n",
              "          const element = document.querySelector('#df-6101dc80-940b-4c87-bd9f-032bb60ea514');\n",
              "          const dataTable =\n",
              "            await google.colab.kernel.invokeFunction('convertToInteractive',\n",
              "                                                     [key], {});\n",
              "          if (!dataTable) return;\n",
              "\n",
              "          const docLinkHtml = 'Like what you see? Visit the ' +\n",
              "            '<a target=\"_blank\" href=https://colab.research.google.com/notebooks/data_table.ipynb>data table notebook</a>'\n",
              "            + ' to learn more about interactive tables.';\n",
              "          element.innerHTML = '';\n",
              "          dataTable['output_type'] = 'display_data';\n",
              "          await google.colab.output.renderOutput(dataTable, element);\n",
              "          const docLink = document.createElement('div');\n",
              "          docLink.innerHTML = docLinkHtml;\n",
              "          element.appendChild(docLink);\n",
              "        }\n",
              "      </script>\n",
              "    </div>\n",
              "  </div>\n",
              "  "
            ]
          },
          "metadata": {},
          "execution_count": 10
        }
      ]
    },
    {
      "cell_type": "code",
      "source": [
        "import string\n",
        "string.punctuation\n"
      ],
      "metadata": {
        "colab": {
          "base_uri": "https://localhost:8080/",
          "height": 36
        },
        "id": "iGWybGerbUI-",
        "outputId": "327816ac-bf2a-49eb-be34-6c18d524fc2b"
      },
      "execution_count": null,
      "outputs": [
        {
          "output_type": "execute_result",
          "data": {
            "text/plain": [
              "'!\"#$%&\\'()*+,-./:;<=>?@[\\\\]^_`{|}~'"
            ],
            "application/vnd.google.colaboratory.intrinsic+json": {
              "type": "string"
            }
          },
          "metadata": {},
          "execution_count": 11
        }
      ]
    },
    {
      "cell_type": "code",
      "source": [
        "def remove_punctuations(text):\n",
        "    punctuations = string.punctuation\n",
        "    return text.translate(str.maketrans('', '', punctuations))"
      ],
      "metadata": {
        "id": "_blF-sggcm7i"
      },
      "execution_count": null,
      "outputs": []
    },
    {
      "cell_type": "code",
      "source": [
        "from collections import Counter\n",
        "word_count = Counter()\n",
        "for text in full['clean_tweet']:\n",
        "    for word in text.split():\n",
        "        word_count[word] += 1\n",
        "        \n",
        "word_count.most_common(10)"
      ],
      "metadata": {
        "colab": {
          "base_uri": "https://localhost:8080/"
        },
        "id": "DQE0uY2kdFSC",
        "outputId": "e36dd88e-7a1f-4cff-b9a0-d4920fbe5fb9"
      },
      "execution_count": null,
      "outputs": [
        {
          "output_type": "execute_result",
          "data": {
            "text/plain": [
              "[('u', 12076),\n",
              " ('the', 10422),\n",
              " ('to', 6307),\n",
              " ('c', 6019),\n",
              " ('t', 4378),\n",
              " ('I', 4375),\n",
              " ('in', 4101),\n",
              " ('on', 4003),\n",
              " ('a', 3345),\n",
              " ('and', 3331)]"
            ]
          },
          "metadata": {},
          "execution_count": 13
        }
      ]
    },
    {
      "cell_type": "code",
      "source": [
        "FREQUENT_WORDS = set(word for (word, wc) in word_count.most_common(3))\n",
        "def remove_freq_words(text):\n",
        "    return \" \".join([word for word in text.split() if word not in FREQUENT_WORDS ])"
      ],
      "metadata": {
        "id": "IM2gUABVdtWn"
      },
      "execution_count": null,
      "outputs": []
    },
    {
      "cell_type": "code",
      "source": [
        "full['clean_tweet'] = full['clean_tweet'].apply(lambda x: remove_freq_words(x))\n",
        "full.head()"
      ],
      "metadata": {
        "colab": {
          "base_uri": "https://localhost:8080/",
          "height": 206
        },
        "id": "8Ud0GQETixIR",
        "outputId": "a3565451-2819-4084-843a-ea50d29ad17f"
      },
      "execution_count": null,
      "outputs": [
        {
          "output_type": "execute_result",
          "data": {
            "text/plain": [
              "       sent                                              tweet  \\\n",
              "0  positive  @jjuueellzz down in the Atlantic city\\u002c ve...   \n",
              "1  positive  Musical awareness: Great Big Beautiful Tomorro...   \n",
              "2   neutral  On Radio786 100.4fm 7:10 Fri Oct 19 Labour ana...   \n",
              "3  negative  Kapan sih lo ngebuktiin\\u002cjan ngomong doang...   \n",
              "4   neutral  Tomorrow come and hear @DavidWillettsMP&@MASie...   \n",
              "\n",
              "                                         clean_tweet  \n",
              "0  down in Atlantic city c ventnor c margate c oc...  \n",
              "1  Musical awareness Great Big Beautiful Tomorrow...  \n",
              "2  On Radio fm Fri Oct Labour analyst Shawn Hatti...  \n",
              "3  Kapan sih lo ngebuktiin cjan ngomong doang Sus...  \n",
              "4  Tomorrow come and hear debate Navigating new H...  "
            ],
            "text/html": [
              "\n",
              "  <div id=\"df-f02358ec-335f-46cd-b2fb-0be24c1b1868\">\n",
              "    <div class=\"colab-df-container\">\n",
              "      <div>\n",
              "<style scoped>\n",
              "    .dataframe tbody tr th:only-of-type {\n",
              "        vertical-align: middle;\n",
              "    }\n",
              "\n",
              "    .dataframe tbody tr th {\n",
              "        vertical-align: top;\n",
              "    }\n",
              "\n",
              "    .dataframe thead th {\n",
              "        text-align: right;\n",
              "    }\n",
              "</style>\n",
              "<table border=\"1\" class=\"dataframe\">\n",
              "  <thead>\n",
              "    <tr style=\"text-align: right;\">\n",
              "      <th></th>\n",
              "      <th>sent</th>\n",
              "      <th>tweet</th>\n",
              "      <th>clean_tweet</th>\n",
              "    </tr>\n",
              "  </thead>\n",
              "  <tbody>\n",
              "    <tr>\n",
              "      <th>0</th>\n",
              "      <td>positive</td>\n",
              "      <td>@jjuueellzz down in the Atlantic city\\u002c ve...</td>\n",
              "      <td>down in Atlantic city c ventnor c margate c oc...</td>\n",
              "    </tr>\n",
              "    <tr>\n",
              "      <th>1</th>\n",
              "      <td>positive</td>\n",
              "      <td>Musical awareness: Great Big Beautiful Tomorro...</td>\n",
              "      <td>Musical awareness Great Big Beautiful Tomorrow...</td>\n",
              "    </tr>\n",
              "    <tr>\n",
              "      <th>2</th>\n",
              "      <td>neutral</td>\n",
              "      <td>On Radio786 100.4fm 7:10 Fri Oct 19 Labour ana...</td>\n",
              "      <td>On Radio fm Fri Oct Labour analyst Shawn Hatti...</td>\n",
              "    </tr>\n",
              "    <tr>\n",
              "      <th>3</th>\n",
              "      <td>negative</td>\n",
              "      <td>Kapan sih lo ngebuktiin\\u002cjan ngomong doang...</td>\n",
              "      <td>Kapan sih lo ngebuktiin cjan ngomong doang Sus...</td>\n",
              "    </tr>\n",
              "    <tr>\n",
              "      <th>4</th>\n",
              "      <td>neutral</td>\n",
              "      <td>Tomorrow come and hear @DavidWillettsMP&amp;@MASie...</td>\n",
              "      <td>Tomorrow come and hear debate Navigating new H...</td>\n",
              "    </tr>\n",
              "  </tbody>\n",
              "</table>\n",
              "</div>\n",
              "      <button class=\"colab-df-convert\" onclick=\"convertToInteractive('df-f02358ec-335f-46cd-b2fb-0be24c1b1868')\"\n",
              "              title=\"Convert this dataframe to an interactive table.\"\n",
              "              style=\"display:none;\">\n",
              "        \n",
              "  <svg xmlns=\"http://www.w3.org/2000/svg\" height=\"24px\"viewBox=\"0 0 24 24\"\n",
              "       width=\"24px\">\n",
              "    <path d=\"M0 0h24v24H0V0z\" fill=\"none\"/>\n",
              "    <path d=\"M18.56 5.44l.94 2.06.94-2.06 2.06-.94-2.06-.94-.94-2.06-.94 2.06-2.06.94zm-11 1L8.5 8.5l.94-2.06 2.06-.94-2.06-.94L8.5 2.5l-.94 2.06-2.06.94zm10 10l.94 2.06.94-2.06 2.06-.94-2.06-.94-.94-2.06-.94 2.06-2.06.94z\"/><path d=\"M17.41 7.96l-1.37-1.37c-.4-.4-.92-.59-1.43-.59-.52 0-1.04.2-1.43.59L10.3 9.45l-7.72 7.72c-.78.78-.78 2.05 0 2.83L4 21.41c.39.39.9.59 1.41.59.51 0 1.02-.2 1.41-.59l7.78-7.78 2.81-2.81c.8-.78.8-2.07 0-2.86zM5.41 20L4 18.59l7.72-7.72 1.47 1.35L5.41 20z\"/>\n",
              "  </svg>\n",
              "      </button>\n",
              "      \n",
              "  <style>\n",
              "    .colab-df-container {\n",
              "      display:flex;\n",
              "      flex-wrap:wrap;\n",
              "      gap: 12px;\n",
              "    }\n",
              "\n",
              "    .colab-df-convert {\n",
              "      background-color: #E8F0FE;\n",
              "      border: none;\n",
              "      border-radius: 50%;\n",
              "      cursor: pointer;\n",
              "      display: none;\n",
              "      fill: #1967D2;\n",
              "      height: 32px;\n",
              "      padding: 0 0 0 0;\n",
              "      width: 32px;\n",
              "    }\n",
              "\n",
              "    .colab-df-convert:hover {\n",
              "      background-color: #E2EBFA;\n",
              "      box-shadow: 0px 1px 2px rgba(60, 64, 67, 0.3), 0px 1px 3px 1px rgba(60, 64, 67, 0.15);\n",
              "      fill: #174EA6;\n",
              "    }\n",
              "\n",
              "    [theme=dark] .colab-df-convert {\n",
              "      background-color: #3B4455;\n",
              "      fill: #D2E3FC;\n",
              "    }\n",
              "\n",
              "    [theme=dark] .colab-df-convert:hover {\n",
              "      background-color: #434B5C;\n",
              "      box-shadow: 0px 1px 3px 1px rgba(0, 0, 0, 0.15);\n",
              "      filter: drop-shadow(0px 1px 2px rgba(0, 0, 0, 0.3));\n",
              "      fill: #FFFFFF;\n",
              "    }\n",
              "  </style>\n",
              "\n",
              "      <script>\n",
              "        const buttonEl =\n",
              "          document.querySelector('#df-f02358ec-335f-46cd-b2fb-0be24c1b1868 button.colab-df-convert');\n",
              "        buttonEl.style.display =\n",
              "          google.colab.kernel.accessAllowed ? 'block' : 'none';\n",
              "\n",
              "        async function convertToInteractive(key) {\n",
              "          const element = document.querySelector('#df-f02358ec-335f-46cd-b2fb-0be24c1b1868');\n",
              "          const dataTable =\n",
              "            await google.colab.kernel.invokeFunction('convertToInteractive',\n",
              "                                                     [key], {});\n",
              "          if (!dataTable) return;\n",
              "\n",
              "          const docLinkHtml = 'Like what you see? Visit the ' +\n",
              "            '<a target=\"_blank\" href=https://colab.research.google.com/notebooks/data_table.ipynb>data table notebook</a>'\n",
              "            + ' to learn more about interactive tables.';\n",
              "          element.innerHTML = '';\n",
              "          dataTable['output_type'] = 'display_data';\n",
              "          await google.colab.output.renderOutput(dataTable, element);\n",
              "          const docLink = document.createElement('div');\n",
              "          docLink.innerHTML = docLinkHtml;\n",
              "          element.appendChild(docLink);\n",
              "        }\n",
              "      </script>\n",
              "    </div>\n",
              "  </div>\n",
              "  "
            ]
          },
          "metadata": {},
          "execution_count": 15
        }
      ]
    },
    {
      "cell_type": "code",
      "source": [
        "RARE_WORDS = set(word for (word, wc) in word_count.most_common()[:-10:-1])\n",
        "RARE_WORDS"
      ],
      "metadata": {
        "colab": {
          "base_uri": "https://localhost:8080/"
        },
        "id": "SFkz0A7fjQ1W",
        "outputId": "e8cd4be6-5a6b-4c13-afb9-cf3e12c55892"
      },
      "execution_count": null,
      "outputs": [
        {
          "output_type": "execute_result",
          "data": {
            "text/plain": [
              "{'#MNFootNg',\n",
              " 'Alburquerque',\n",
              " 'Corral',\n",
              " 'Lomardi',\n",
              " 'Martinez',\n",
              " 'lolla',\n",
              " 'pisseeedddd',\n",
              " 'tba',\n",
              " 'thx'}"
            ]
          },
          "metadata": {},
          "execution_count": 16
        }
      ]
    },
    {
      "cell_type": "code",
      "source": [
        "def remove_rare_words(text):\n",
        "    return \" \".join([word for word in text.split() if word not in RARE_WORDS ])"
      ],
      "metadata": {
        "id": "Vs_1iHvvjayX"
      },
      "execution_count": null,
      "outputs": []
    },
    {
      "cell_type": "code",
      "source": [
        "full['clean_tweet'] = full['clean_tweet'].apply(lambda x: remove_rare_words(x))\n",
        "full.head()"
      ],
      "metadata": {
        "colab": {
          "base_uri": "https://localhost:8080/",
          "height": 206
        },
        "id": "7kS_36wbjl3n",
        "outputId": "73f744c3-d3d3-492b-f0d4-344ce7889d43"
      },
      "execution_count": null,
      "outputs": [
        {
          "output_type": "execute_result",
          "data": {
            "text/plain": [
              "       sent                                              tweet  \\\n",
              "0  positive  @jjuueellzz down in the Atlantic city\\u002c ve...   \n",
              "1  positive  Musical awareness: Great Big Beautiful Tomorro...   \n",
              "2   neutral  On Radio786 100.4fm 7:10 Fri Oct 19 Labour ana...   \n",
              "3  negative  Kapan sih lo ngebuktiin\\u002cjan ngomong doang...   \n",
              "4   neutral  Tomorrow come and hear @DavidWillettsMP&@MASie...   \n",
              "\n",
              "                                         clean_tweet  \n",
              "0  down in Atlantic city c ventnor c margate c oc...  \n",
              "1  Musical awareness Great Big Beautiful Tomorrow...  \n",
              "2  On Radio fm Fri Oct Labour analyst Shawn Hatti...  \n",
              "3  Kapan sih lo ngebuktiin cjan ngomong doang Sus...  \n",
              "4  Tomorrow come and hear debate Navigating new H...  "
            ],
            "text/html": [
              "\n",
              "  <div id=\"df-0ff1cb47-4fbf-48d3-b690-05c36fbf9811\">\n",
              "    <div class=\"colab-df-container\">\n",
              "      <div>\n",
              "<style scoped>\n",
              "    .dataframe tbody tr th:only-of-type {\n",
              "        vertical-align: middle;\n",
              "    }\n",
              "\n",
              "    .dataframe tbody tr th {\n",
              "        vertical-align: top;\n",
              "    }\n",
              "\n",
              "    .dataframe thead th {\n",
              "        text-align: right;\n",
              "    }\n",
              "</style>\n",
              "<table border=\"1\" class=\"dataframe\">\n",
              "  <thead>\n",
              "    <tr style=\"text-align: right;\">\n",
              "      <th></th>\n",
              "      <th>sent</th>\n",
              "      <th>tweet</th>\n",
              "      <th>clean_tweet</th>\n",
              "    </tr>\n",
              "  </thead>\n",
              "  <tbody>\n",
              "    <tr>\n",
              "      <th>0</th>\n",
              "      <td>positive</td>\n",
              "      <td>@jjuueellzz down in the Atlantic city\\u002c ve...</td>\n",
              "      <td>down in Atlantic city c ventnor c margate c oc...</td>\n",
              "    </tr>\n",
              "    <tr>\n",
              "      <th>1</th>\n",
              "      <td>positive</td>\n",
              "      <td>Musical awareness: Great Big Beautiful Tomorro...</td>\n",
              "      <td>Musical awareness Great Big Beautiful Tomorrow...</td>\n",
              "    </tr>\n",
              "    <tr>\n",
              "      <th>2</th>\n",
              "      <td>neutral</td>\n",
              "      <td>On Radio786 100.4fm 7:10 Fri Oct 19 Labour ana...</td>\n",
              "      <td>On Radio fm Fri Oct Labour analyst Shawn Hatti...</td>\n",
              "    </tr>\n",
              "    <tr>\n",
              "      <th>3</th>\n",
              "      <td>negative</td>\n",
              "      <td>Kapan sih lo ngebuktiin\\u002cjan ngomong doang...</td>\n",
              "      <td>Kapan sih lo ngebuktiin cjan ngomong doang Sus...</td>\n",
              "    </tr>\n",
              "    <tr>\n",
              "      <th>4</th>\n",
              "      <td>neutral</td>\n",
              "      <td>Tomorrow come and hear @DavidWillettsMP&amp;@MASie...</td>\n",
              "      <td>Tomorrow come and hear debate Navigating new H...</td>\n",
              "    </tr>\n",
              "  </tbody>\n",
              "</table>\n",
              "</div>\n",
              "      <button class=\"colab-df-convert\" onclick=\"convertToInteractive('df-0ff1cb47-4fbf-48d3-b690-05c36fbf9811')\"\n",
              "              title=\"Convert this dataframe to an interactive table.\"\n",
              "              style=\"display:none;\">\n",
              "        \n",
              "  <svg xmlns=\"http://www.w3.org/2000/svg\" height=\"24px\"viewBox=\"0 0 24 24\"\n",
              "       width=\"24px\">\n",
              "    <path d=\"M0 0h24v24H0V0z\" fill=\"none\"/>\n",
              "    <path d=\"M18.56 5.44l.94 2.06.94-2.06 2.06-.94-2.06-.94-.94-2.06-.94 2.06-2.06.94zm-11 1L8.5 8.5l.94-2.06 2.06-.94-2.06-.94L8.5 2.5l-.94 2.06-2.06.94zm10 10l.94 2.06.94-2.06 2.06-.94-2.06-.94-.94-2.06-.94 2.06-2.06.94z\"/><path d=\"M17.41 7.96l-1.37-1.37c-.4-.4-.92-.59-1.43-.59-.52 0-1.04.2-1.43.59L10.3 9.45l-7.72 7.72c-.78.78-.78 2.05 0 2.83L4 21.41c.39.39.9.59 1.41.59.51 0 1.02-.2 1.41-.59l7.78-7.78 2.81-2.81c.8-.78.8-2.07 0-2.86zM5.41 20L4 18.59l7.72-7.72 1.47 1.35L5.41 20z\"/>\n",
              "  </svg>\n",
              "      </button>\n",
              "      \n",
              "  <style>\n",
              "    .colab-df-container {\n",
              "      display:flex;\n",
              "      flex-wrap:wrap;\n",
              "      gap: 12px;\n",
              "    }\n",
              "\n",
              "    .colab-df-convert {\n",
              "      background-color: #E8F0FE;\n",
              "      border: none;\n",
              "      border-radius: 50%;\n",
              "      cursor: pointer;\n",
              "      display: none;\n",
              "      fill: #1967D2;\n",
              "      height: 32px;\n",
              "      padding: 0 0 0 0;\n",
              "      width: 32px;\n",
              "    }\n",
              "\n",
              "    .colab-df-convert:hover {\n",
              "      background-color: #E2EBFA;\n",
              "      box-shadow: 0px 1px 2px rgba(60, 64, 67, 0.3), 0px 1px 3px 1px rgba(60, 64, 67, 0.15);\n",
              "      fill: #174EA6;\n",
              "    }\n",
              "\n",
              "    [theme=dark] .colab-df-convert {\n",
              "      background-color: #3B4455;\n",
              "      fill: #D2E3FC;\n",
              "    }\n",
              "\n",
              "    [theme=dark] .colab-df-convert:hover {\n",
              "      background-color: #434B5C;\n",
              "      box-shadow: 0px 1px 3px 1px rgba(0, 0, 0, 0.15);\n",
              "      filter: drop-shadow(0px 1px 2px rgba(0, 0, 0, 0.3));\n",
              "      fill: #FFFFFF;\n",
              "    }\n",
              "  </style>\n",
              "\n",
              "      <script>\n",
              "        const buttonEl =\n",
              "          document.querySelector('#df-0ff1cb47-4fbf-48d3-b690-05c36fbf9811 button.colab-df-convert');\n",
              "        buttonEl.style.display =\n",
              "          google.colab.kernel.accessAllowed ? 'block' : 'none';\n",
              "\n",
              "        async function convertToInteractive(key) {\n",
              "          const element = document.querySelector('#df-0ff1cb47-4fbf-48d3-b690-05c36fbf9811');\n",
              "          const dataTable =\n",
              "            await google.colab.kernel.invokeFunction('convertToInteractive',\n",
              "                                                     [key], {});\n",
              "          if (!dataTable) return;\n",
              "\n",
              "          const docLinkHtml = 'Like what you see? Visit the ' +\n",
              "            '<a target=\"_blank\" href=https://colab.research.google.com/notebooks/data_table.ipynb>data table notebook</a>'\n",
              "            + ' to learn more about interactive tables.';\n",
              "          element.innerHTML = '';\n",
              "          dataTable['output_type'] = 'display_data';\n",
              "          await google.colab.output.renderOutput(dataTable, element);\n",
              "          const docLink = document.createElement('div');\n",
              "          docLink.innerHTML = docLinkHtml;\n",
              "          element.appendChild(docLink);\n",
              "        }\n",
              "      </script>\n",
              "    </div>\n",
              "  </div>\n",
              "  "
            ]
          },
          "metadata": {},
          "execution_count": 18
        }
      ]
    },
    {
      "cell_type": "code",
      "source": [
        "import re\n",
        "def remove_spl_chars(text):\n",
        "    text = re.sub('[^a-zA-Z0-9]', ' ', text)\n",
        "    text = re.sub('\\s+', ' ', text)\n",
        "    return text"
      ],
      "metadata": {
        "id": "2Iebk8WQjcHU"
      },
      "execution_count": null,
      "outputs": []
    },
    {
      "cell_type": "code",
      "source": [
        "full['clean_tweet'] = full['clean_tweet'].apply(lambda x: remove_spl_chars(x))\n",
        "full.head()"
      ],
      "metadata": {
        "colab": {
          "base_uri": "https://localhost:8080/",
          "height": 206
        },
        "id": "xxQ_GMWDjpCq",
        "outputId": "b18834fd-b9c2-412c-fee2-742da3dae54f"
      },
      "execution_count": null,
      "outputs": [
        {
          "output_type": "execute_result",
          "data": {
            "text/plain": [
              "       sent                                              tweet  \\\n",
              "0  positive  @jjuueellzz down in the Atlantic city\\u002c ve...   \n",
              "1  positive  Musical awareness: Great Big Beautiful Tomorro...   \n",
              "2   neutral  On Radio786 100.4fm 7:10 Fri Oct 19 Labour ana...   \n",
              "3  negative  Kapan sih lo ngebuktiin\\u002cjan ngomong doang...   \n",
              "4   neutral  Tomorrow come and hear @DavidWillettsMP&@MASie...   \n",
              "\n",
              "                                         clean_tweet  \n",
              "0  down in Atlantic city c ventnor c margate c oc...  \n",
              "1  Musical awareness Great Big Beautiful Tomorrow...  \n",
              "2  On Radio fm Fri Oct Labour analyst Shawn Hatti...  \n",
              "3  Kapan sih lo ngebuktiin cjan ngomong doang Sus...  \n",
              "4  Tomorrow come and hear debate Navigating new H...  "
            ],
            "text/html": [
              "\n",
              "  <div id=\"df-38a36311-ca1e-4577-84d2-7e8bbb229224\">\n",
              "    <div class=\"colab-df-container\">\n",
              "      <div>\n",
              "<style scoped>\n",
              "    .dataframe tbody tr th:only-of-type {\n",
              "        vertical-align: middle;\n",
              "    }\n",
              "\n",
              "    .dataframe tbody tr th {\n",
              "        vertical-align: top;\n",
              "    }\n",
              "\n",
              "    .dataframe thead th {\n",
              "        text-align: right;\n",
              "    }\n",
              "</style>\n",
              "<table border=\"1\" class=\"dataframe\">\n",
              "  <thead>\n",
              "    <tr style=\"text-align: right;\">\n",
              "      <th></th>\n",
              "      <th>sent</th>\n",
              "      <th>tweet</th>\n",
              "      <th>clean_tweet</th>\n",
              "    </tr>\n",
              "  </thead>\n",
              "  <tbody>\n",
              "    <tr>\n",
              "      <th>0</th>\n",
              "      <td>positive</td>\n",
              "      <td>@jjuueellzz down in the Atlantic city\\u002c ve...</td>\n",
              "      <td>down in Atlantic city c ventnor c margate c oc...</td>\n",
              "    </tr>\n",
              "    <tr>\n",
              "      <th>1</th>\n",
              "      <td>positive</td>\n",
              "      <td>Musical awareness: Great Big Beautiful Tomorro...</td>\n",
              "      <td>Musical awareness Great Big Beautiful Tomorrow...</td>\n",
              "    </tr>\n",
              "    <tr>\n",
              "      <th>2</th>\n",
              "      <td>neutral</td>\n",
              "      <td>On Radio786 100.4fm 7:10 Fri Oct 19 Labour ana...</td>\n",
              "      <td>On Radio fm Fri Oct Labour analyst Shawn Hatti...</td>\n",
              "    </tr>\n",
              "    <tr>\n",
              "      <th>3</th>\n",
              "      <td>negative</td>\n",
              "      <td>Kapan sih lo ngebuktiin\\u002cjan ngomong doang...</td>\n",
              "      <td>Kapan sih lo ngebuktiin cjan ngomong doang Sus...</td>\n",
              "    </tr>\n",
              "    <tr>\n",
              "      <th>4</th>\n",
              "      <td>neutral</td>\n",
              "      <td>Tomorrow come and hear @DavidWillettsMP&amp;@MASie...</td>\n",
              "      <td>Tomorrow come and hear debate Navigating new H...</td>\n",
              "    </tr>\n",
              "  </tbody>\n",
              "</table>\n",
              "</div>\n",
              "      <button class=\"colab-df-convert\" onclick=\"convertToInteractive('df-38a36311-ca1e-4577-84d2-7e8bbb229224')\"\n",
              "              title=\"Convert this dataframe to an interactive table.\"\n",
              "              style=\"display:none;\">\n",
              "        \n",
              "  <svg xmlns=\"http://www.w3.org/2000/svg\" height=\"24px\"viewBox=\"0 0 24 24\"\n",
              "       width=\"24px\">\n",
              "    <path d=\"M0 0h24v24H0V0z\" fill=\"none\"/>\n",
              "    <path d=\"M18.56 5.44l.94 2.06.94-2.06 2.06-.94-2.06-.94-.94-2.06-.94 2.06-2.06.94zm-11 1L8.5 8.5l.94-2.06 2.06-.94-2.06-.94L8.5 2.5l-.94 2.06-2.06.94zm10 10l.94 2.06.94-2.06 2.06-.94-2.06-.94-.94-2.06-.94 2.06-2.06.94z\"/><path d=\"M17.41 7.96l-1.37-1.37c-.4-.4-.92-.59-1.43-.59-.52 0-1.04.2-1.43.59L10.3 9.45l-7.72 7.72c-.78.78-.78 2.05 0 2.83L4 21.41c.39.39.9.59 1.41.59.51 0 1.02-.2 1.41-.59l7.78-7.78 2.81-2.81c.8-.78.8-2.07 0-2.86zM5.41 20L4 18.59l7.72-7.72 1.47 1.35L5.41 20z\"/>\n",
              "  </svg>\n",
              "      </button>\n",
              "      \n",
              "  <style>\n",
              "    .colab-df-container {\n",
              "      display:flex;\n",
              "      flex-wrap:wrap;\n",
              "      gap: 12px;\n",
              "    }\n",
              "\n",
              "    .colab-df-convert {\n",
              "      background-color: #E8F0FE;\n",
              "      border: none;\n",
              "      border-radius: 50%;\n",
              "      cursor: pointer;\n",
              "      display: none;\n",
              "      fill: #1967D2;\n",
              "      height: 32px;\n",
              "      padding: 0 0 0 0;\n",
              "      width: 32px;\n",
              "    }\n",
              "\n",
              "    .colab-df-convert:hover {\n",
              "      background-color: #E2EBFA;\n",
              "      box-shadow: 0px 1px 2px rgba(60, 64, 67, 0.3), 0px 1px 3px 1px rgba(60, 64, 67, 0.15);\n",
              "      fill: #174EA6;\n",
              "    }\n",
              "\n",
              "    [theme=dark] .colab-df-convert {\n",
              "      background-color: #3B4455;\n",
              "      fill: #D2E3FC;\n",
              "    }\n",
              "\n",
              "    [theme=dark] .colab-df-convert:hover {\n",
              "      background-color: #434B5C;\n",
              "      box-shadow: 0px 1px 3px 1px rgba(0, 0, 0, 0.15);\n",
              "      filter: drop-shadow(0px 1px 2px rgba(0, 0, 0, 0.3));\n",
              "      fill: #FFFFFF;\n",
              "    }\n",
              "  </style>\n",
              "\n",
              "      <script>\n",
              "        const buttonEl =\n",
              "          document.querySelector('#df-38a36311-ca1e-4577-84d2-7e8bbb229224 button.colab-df-convert');\n",
              "        buttonEl.style.display =\n",
              "          google.colab.kernel.accessAllowed ? 'block' : 'none';\n",
              "\n",
              "        async function convertToInteractive(key) {\n",
              "          const element = document.querySelector('#df-38a36311-ca1e-4577-84d2-7e8bbb229224');\n",
              "          const dataTable =\n",
              "            await google.colab.kernel.invokeFunction('convertToInteractive',\n",
              "                                                     [key], {});\n",
              "          if (!dataTable) return;\n",
              "\n",
              "          const docLinkHtml = 'Like what you see? Visit the ' +\n",
              "            '<a target=\"_blank\" href=https://colab.research.google.com/notebooks/data_table.ipynb>data table notebook</a>'\n",
              "            + ' to learn more about interactive tables.';\n",
              "          element.innerHTML = '';\n",
              "          dataTable['output_type'] = 'display_data';\n",
              "          await google.colab.output.renderOutput(dataTable, element);\n",
              "          const docLink = document.createElement('div');\n",
              "          docLink.innerHTML = docLinkHtml;\n",
              "          element.appendChild(docLink);\n",
              "        }\n",
              "      </script>\n",
              "    </div>\n",
              "  </div>\n",
              "  "
            ]
          },
          "metadata": {},
          "execution_count": 20
        }
      ]
    },
    {
      "cell_type": "code",
      "source": [
        "import nltk\n",
        "nltk.download('punkt')"
      ],
      "metadata": {
        "colab": {
          "base_uri": "https://localhost:8080/"
        },
        "id": "KhJhDPnJj3G3",
        "outputId": "ccf6a8cb-6457-4c77-d8dd-2a4e1c0b6f0d"
      },
      "execution_count": null,
      "outputs": [
        {
          "output_type": "stream",
          "name": "stderr",
          "text": [
            "[nltk_data] Downloading package punkt to /root/nltk_data...\n",
            "[nltk_data]   Package punkt is already up-to-date!\n"
          ]
        },
        {
          "output_type": "execute_result",
          "data": {
            "text/plain": [
              "True"
            ]
          },
          "metadata": {},
          "execution_count": 21
        }
      ]
    },
    {
      "cell_type": "markdown",
      "source": [
        "punkt is the required package for tokenization,it can be downloaded  using nltk download manager or download it programmatically using nltk.download('punkt')"
      ],
      "metadata": {
        "id": "mU_f7NRdQJ5x"
      }
    },
    {
      "cell_type": "markdown",
      "source": [
        "NLTK provides two methods: nltk.word_tokenize() to divide given text at word level and nltk.sent_tokenize() to divide given text at sentence level.\n",
        "Tokenization is used in natural language processing to split paragraphs and sentences into smaller units that can be more easily assigned meaning"
      ],
      "metadata": {
        "id": "JwqGTGynQ9jQ"
      }
    },
    {
      "cell_type": "code",
      "source": [
        "from nltk.tokenize import word_tokenize\n",
        "\n",
        "def get_tokens(row):\n",
        "    return word_tokenize(row[\"clean_tweet\"].lower())\n",
        "\n",
        "full[\"tokens\"] = full.apply(lambda row: get_tokens(row), axis = 1)\n",
        "full.sample(5, random_state = 4)"
      ],
      "metadata": {
        "colab": {
          "base_uri": "https://localhost:8080/",
          "height": 250
        },
        "id": "pUHD3o8TkhhR",
        "outputId": "19f172fd-39da-44e4-8c36-2480506f83fd"
      },
      "execution_count": null,
      "outputs": [
        {
          "output_type": "execute_result",
          "data": {
            "text/plain": [
              "          sent                                              tweet  \\\n",
              "5446   neutral  Galaxy tune up for Whitecaps\\u002c Sounders fa...   \n",
              "3632   neutral  We will be closed this Monday\\u002c February 2...   \n",
              "5256   neutral  MVP - Chris Paul 6th Man - Jason Terry Defensi...   \n",
              "8252   neutral       Tennessee game Saturday with @King_Gunter :)   \n",
              "1572  negative  This girl said The Challenge has been filled o...   \n",
              "\n",
              "                                            clean_tweet  \\\n",
              "5446  Galaxy tune up for Whitecaps c Sounders fall r...   \n",
              "3632  We will be closed this Monday c February th fo...   \n",
              "5256  MVP Chris Paul th Man Jason Terry Defensive Pl...   \n",
              "8252                       Tennessee game Saturday with   \n",
              "1572  This girl said The Challenge has been filled o...   \n",
              "\n",
              "                                                 tokens  \n",
              "5446  [galaxy, tune, up, for, whitecaps, c, sounders...  \n",
              "3632  [we, will, be, closed, this, monday, c, februa...  \n",
              "5256  [mvp, chris, paul, th, man, jason, terry, defe...  \n",
              "8252                  [tennessee, game, saturday, with]  \n",
              "1572  [this, girl, said, the, challenge, has, been, ...  "
            ],
            "text/html": [
              "\n",
              "  <div id=\"df-4b303d7e-c5c2-4956-b6b1-333aa8d4415c\">\n",
              "    <div class=\"colab-df-container\">\n",
              "      <div>\n",
              "<style scoped>\n",
              "    .dataframe tbody tr th:only-of-type {\n",
              "        vertical-align: middle;\n",
              "    }\n",
              "\n",
              "    .dataframe tbody tr th {\n",
              "        vertical-align: top;\n",
              "    }\n",
              "\n",
              "    .dataframe thead th {\n",
              "        text-align: right;\n",
              "    }\n",
              "</style>\n",
              "<table border=\"1\" class=\"dataframe\">\n",
              "  <thead>\n",
              "    <tr style=\"text-align: right;\">\n",
              "      <th></th>\n",
              "      <th>sent</th>\n",
              "      <th>tweet</th>\n",
              "      <th>clean_tweet</th>\n",
              "      <th>tokens</th>\n",
              "    </tr>\n",
              "  </thead>\n",
              "  <tbody>\n",
              "    <tr>\n",
              "      <th>5446</th>\n",
              "      <td>neutral</td>\n",
              "      <td>Galaxy tune up for Whitecaps\\u002c Sounders fa...</td>\n",
              "      <td>Galaxy tune up for Whitecaps c Sounders fall r...</td>\n",
              "      <td>[galaxy, tune, up, for, whitecaps, c, sounders...</td>\n",
              "    </tr>\n",
              "    <tr>\n",
              "      <th>3632</th>\n",
              "      <td>neutral</td>\n",
              "      <td>We will be closed this Monday\\u002c February 2...</td>\n",
              "      <td>We will be closed this Monday c February th fo...</td>\n",
              "      <td>[we, will, be, closed, this, monday, c, februa...</td>\n",
              "    </tr>\n",
              "    <tr>\n",
              "      <th>5256</th>\n",
              "      <td>neutral</td>\n",
              "      <td>MVP - Chris Paul 6th Man - Jason Terry Defensi...</td>\n",
              "      <td>MVP Chris Paul th Man Jason Terry Defensive Pl...</td>\n",
              "      <td>[mvp, chris, paul, th, man, jason, terry, defe...</td>\n",
              "    </tr>\n",
              "    <tr>\n",
              "      <th>8252</th>\n",
              "      <td>neutral</td>\n",
              "      <td>Tennessee game Saturday with @King_Gunter :)</td>\n",
              "      <td>Tennessee game Saturday with</td>\n",
              "      <td>[tennessee, game, saturday, with]</td>\n",
              "    </tr>\n",
              "    <tr>\n",
              "      <th>1572</th>\n",
              "      <td>negative</td>\n",
              "      <td>This girl said The Challenge has been filled o...</td>\n",
              "      <td>This girl said The Challenge has been filled o...</td>\n",
              "      <td>[this, girl, said, the, challenge, has, been, ...</td>\n",
              "    </tr>\n",
              "  </tbody>\n",
              "</table>\n",
              "</div>\n",
              "      <button class=\"colab-df-convert\" onclick=\"convertToInteractive('df-4b303d7e-c5c2-4956-b6b1-333aa8d4415c')\"\n",
              "              title=\"Convert this dataframe to an interactive table.\"\n",
              "              style=\"display:none;\">\n",
              "        \n",
              "  <svg xmlns=\"http://www.w3.org/2000/svg\" height=\"24px\"viewBox=\"0 0 24 24\"\n",
              "       width=\"24px\">\n",
              "    <path d=\"M0 0h24v24H0V0z\" fill=\"none\"/>\n",
              "    <path d=\"M18.56 5.44l.94 2.06.94-2.06 2.06-.94-2.06-.94-.94-2.06-.94 2.06-2.06.94zm-11 1L8.5 8.5l.94-2.06 2.06-.94-2.06-.94L8.5 2.5l-.94 2.06-2.06.94zm10 10l.94 2.06.94-2.06 2.06-.94-2.06-.94-.94-2.06-.94 2.06-2.06.94z\"/><path d=\"M17.41 7.96l-1.37-1.37c-.4-.4-.92-.59-1.43-.59-.52 0-1.04.2-1.43.59L10.3 9.45l-7.72 7.72c-.78.78-.78 2.05 0 2.83L4 21.41c.39.39.9.59 1.41.59.51 0 1.02-.2 1.41-.59l7.78-7.78 2.81-2.81c.8-.78.8-2.07 0-2.86zM5.41 20L4 18.59l7.72-7.72 1.47 1.35L5.41 20z\"/>\n",
              "  </svg>\n",
              "      </button>\n",
              "      \n",
              "  <style>\n",
              "    .colab-df-container {\n",
              "      display:flex;\n",
              "      flex-wrap:wrap;\n",
              "      gap: 12px;\n",
              "    }\n",
              "\n",
              "    .colab-df-convert {\n",
              "      background-color: #E8F0FE;\n",
              "      border: none;\n",
              "      border-radius: 50%;\n",
              "      cursor: pointer;\n",
              "      display: none;\n",
              "      fill: #1967D2;\n",
              "      height: 32px;\n",
              "      padding: 0 0 0 0;\n",
              "      width: 32px;\n",
              "    }\n",
              "\n",
              "    .colab-df-convert:hover {\n",
              "      background-color: #E2EBFA;\n",
              "      box-shadow: 0px 1px 2px rgba(60, 64, 67, 0.3), 0px 1px 3px 1px rgba(60, 64, 67, 0.15);\n",
              "      fill: #174EA6;\n",
              "    }\n",
              "\n",
              "    [theme=dark] .colab-df-convert {\n",
              "      background-color: #3B4455;\n",
              "      fill: #D2E3FC;\n",
              "    }\n",
              "\n",
              "    [theme=dark] .colab-df-convert:hover {\n",
              "      background-color: #434B5C;\n",
              "      box-shadow: 0px 1px 3px 1px rgba(0, 0, 0, 0.15);\n",
              "      filter: drop-shadow(0px 1px 2px rgba(0, 0, 0, 0.3));\n",
              "      fill: #FFFFFF;\n",
              "    }\n",
              "  </style>\n",
              "\n",
              "      <script>\n",
              "        const buttonEl =\n",
              "          document.querySelector('#df-4b303d7e-c5c2-4956-b6b1-333aa8d4415c button.colab-df-convert');\n",
              "        buttonEl.style.display =\n",
              "          google.colab.kernel.accessAllowed ? 'block' : 'none';\n",
              "\n",
              "        async function convertToInteractive(key) {\n",
              "          const element = document.querySelector('#df-4b303d7e-c5c2-4956-b6b1-333aa8d4415c');\n",
              "          const dataTable =\n",
              "            await google.colab.kernel.invokeFunction('convertToInteractive',\n",
              "                                                     [key], {});\n",
              "          if (!dataTable) return;\n",
              "\n",
              "          const docLinkHtml = 'Like what you see? Visit the ' +\n",
              "            '<a target=\"_blank\" href=https://colab.research.google.com/notebooks/data_table.ipynb>data table notebook</a>'\n",
              "            + ' to learn more about interactive tables.';\n",
              "          element.innerHTML = '';\n",
              "          dataTable['output_type'] = 'display_data';\n",
              "          await google.colab.output.renderOutput(dataTable, element);\n",
              "          const docLink = document.createElement('div');\n",
              "          docLink.innerHTML = docLinkHtml;\n",
              "          element.appendChild(docLink);\n",
              "        }\n",
              "      </script>\n",
              "    </div>\n",
              "  </div>\n",
              "  "
            ]
          },
          "metadata": {},
          "execution_count": 22
        }
      ]
    },
    {
      "cell_type": "markdown",
      "source": [
        "4.2 Data Preparation"
      ],
      "metadata": {
        "id": "S4j-vGKLhm5W"
      }
    },
    {
      "cell_type": "code",
      "source": [
        "nltk.download('averaged_perceptron_tagger')"
      ],
      "metadata": {
        "colab": {
          "base_uri": "https://localhost:8080/"
        },
        "id": "4OaJivBrkn1D",
        "outputId": "676a9497-9035-498b-ec7d-3c712f098ada"
      },
      "execution_count": null,
      "outputs": [
        {
          "output_type": "stream",
          "name": "stderr",
          "text": [
            "[nltk_data] Downloading package averaged_perceptron_tagger to\n",
            "[nltk_data]     /root/nltk_data...\n",
            "[nltk_data]   Unzipping taggers/averaged_perceptron_tagger.zip.\n"
          ]
        },
        {
          "output_type": "execute_result",
          "data": {
            "text/plain": [
              "True"
            ]
          },
          "metadata": {},
          "execution_count": 23
        }
      ]
    },
    {
      "cell_type": "markdown",
      "source": [
        "Pos Tagging - It is a process of converting a sentence to forms – list of words, list of tuples (where each tuple is having a form (word, tag)). The tag in case of is a part-of-speech tag, and signifies whether the word is a noun, adjective, verb, and so on"
      ],
      "metadata": {
        "id": "Lk1Nago0SJWM"
      }
    },
    {
      "cell_type": "code",
      "source": [
        "def get_postags(row):\n",
        "    \n",
        "    postags = nltk.pos_tag(row[\"tokens\"])\n",
        "    list_classes = list()\n",
        "    for  word in postags:\n",
        "        list_classes.append(word[1])\n",
        "    \n",
        "    return list_classes\n",
        "\n",
        "full[\"postags\"] = full.apply(lambda row: get_postags(row), axis = 1)\n",
        "full.sample(5, random_state = 4)"
      ],
      "metadata": {
        "colab": {
          "base_uri": "https://localhost:8080/",
          "height": 337
        },
        "id": "Sx625EruktW4",
        "outputId": "5e9e92b8-a6a1-4bf3-e065-770b571f3936"
      },
      "execution_count": null,
      "outputs": [
        {
          "output_type": "execute_result",
          "data": {
            "text/plain": [
              "          sent                                              tweet  \\\n",
              "5446   neutral  Galaxy tune up for Whitecaps\\u002c Sounders fa...   \n",
              "3632   neutral  We will be closed this Monday\\u002c February 2...   \n",
              "5256   neutral  MVP - Chris Paul 6th Man - Jason Terry Defensi...   \n",
              "8252   neutral       Tennessee game Saturday with @King_Gunter :)   \n",
              "1572  negative  This girl said The Challenge has been filled o...   \n",
              "\n",
              "                                            clean_tweet  \\\n",
              "5446  Galaxy tune up for Whitecaps c Sounders fall r...   \n",
              "3632  We will be closed this Monday c February th fo...   \n",
              "5256  MVP Chris Paul th Man Jason Terry Defensive Pl...   \n",
              "8252                       Tennessee game Saturday with   \n",
              "1572  This girl said The Challenge has been filled o...   \n",
              "\n",
              "                                                 tokens  \\\n",
              "5446  [galaxy, tune, up, for, whitecaps, c, sounders...   \n",
              "3632  [we, will, be, closed, this, monday, c, februa...   \n",
              "5256  [mvp, chris, paul, th, man, jason, terry, defe...   \n",
              "8252                  [tennessee, game, saturday, with]   \n",
              "1572  [this, girl, said, the, challenge, has, been, ...   \n",
              "\n",
              "                                                postags  \n",
              "5446  [NN, VBZ, RP, IN, NNS, JJ, NNS, VBP, NN, NN, N...  \n",
              "3632  [PRP, MD, VB, VBN, DT, NN, VBZ, JJ, NN, IN, NN...  \n",
              "5256  [NN, NN, NN, NN, NN, NN, NN, JJ, NN, NN, VBZ, ...  \n",
              "8252                                   [NN, NN, NN, IN]  \n",
              "1572  [DT, NN, VBD, DT, NN, VBZ, VBN, VBN, IN, NNS, ...  "
            ],
            "text/html": [
              "\n",
              "  <div id=\"df-c7262994-46c8-4cb7-9a72-3483dfce61e4\">\n",
              "    <div class=\"colab-df-container\">\n",
              "      <div>\n",
              "<style scoped>\n",
              "    .dataframe tbody tr th:only-of-type {\n",
              "        vertical-align: middle;\n",
              "    }\n",
              "\n",
              "    .dataframe tbody tr th {\n",
              "        vertical-align: top;\n",
              "    }\n",
              "\n",
              "    .dataframe thead th {\n",
              "        text-align: right;\n",
              "    }\n",
              "</style>\n",
              "<table border=\"1\" class=\"dataframe\">\n",
              "  <thead>\n",
              "    <tr style=\"text-align: right;\">\n",
              "      <th></th>\n",
              "      <th>sent</th>\n",
              "      <th>tweet</th>\n",
              "      <th>clean_tweet</th>\n",
              "      <th>tokens</th>\n",
              "      <th>postags</th>\n",
              "    </tr>\n",
              "  </thead>\n",
              "  <tbody>\n",
              "    <tr>\n",
              "      <th>5446</th>\n",
              "      <td>neutral</td>\n",
              "      <td>Galaxy tune up for Whitecaps\\u002c Sounders fa...</td>\n",
              "      <td>Galaxy tune up for Whitecaps c Sounders fall r...</td>\n",
              "      <td>[galaxy, tune, up, for, whitecaps, c, sounders...</td>\n",
              "      <td>[NN, VBZ, RP, IN, NNS, JJ, NNS, VBP, NN, NN, N...</td>\n",
              "    </tr>\n",
              "    <tr>\n",
              "      <th>3632</th>\n",
              "      <td>neutral</td>\n",
              "      <td>We will be closed this Monday\\u002c February 2...</td>\n",
              "      <td>We will be closed this Monday c February th fo...</td>\n",
              "      <td>[we, will, be, closed, this, monday, c, februa...</td>\n",
              "      <td>[PRP, MD, VB, VBN, DT, NN, VBZ, JJ, NN, IN, NN...</td>\n",
              "    </tr>\n",
              "    <tr>\n",
              "      <th>5256</th>\n",
              "      <td>neutral</td>\n",
              "      <td>MVP - Chris Paul 6th Man - Jason Terry Defensi...</td>\n",
              "      <td>MVP Chris Paul th Man Jason Terry Defensive Pl...</td>\n",
              "      <td>[mvp, chris, paul, th, man, jason, terry, defe...</td>\n",
              "      <td>[NN, NN, NN, NN, NN, NN, NN, JJ, NN, NN, VBZ, ...</td>\n",
              "    </tr>\n",
              "    <tr>\n",
              "      <th>8252</th>\n",
              "      <td>neutral</td>\n",
              "      <td>Tennessee game Saturday with @King_Gunter :)</td>\n",
              "      <td>Tennessee game Saturday with</td>\n",
              "      <td>[tennessee, game, saturday, with]</td>\n",
              "      <td>[NN, NN, NN, IN]</td>\n",
              "    </tr>\n",
              "    <tr>\n",
              "      <th>1572</th>\n",
              "      <td>negative</td>\n",
              "      <td>This girl said The Challenge has been filled o...</td>\n",
              "      <td>This girl said The Challenge has been filled o...</td>\n",
              "      <td>[this, girl, said, the, challenge, has, been, ...</td>\n",
              "      <td>[DT, NN, VBD, DT, NN, VBZ, VBN, VBN, IN, NNS, ...</td>\n",
              "    </tr>\n",
              "  </tbody>\n",
              "</table>\n",
              "</div>\n",
              "      <button class=\"colab-df-convert\" onclick=\"convertToInteractive('df-c7262994-46c8-4cb7-9a72-3483dfce61e4')\"\n",
              "              title=\"Convert this dataframe to an interactive table.\"\n",
              "              style=\"display:none;\">\n",
              "        \n",
              "  <svg xmlns=\"http://www.w3.org/2000/svg\" height=\"24px\"viewBox=\"0 0 24 24\"\n",
              "       width=\"24px\">\n",
              "    <path d=\"M0 0h24v24H0V0z\" fill=\"none\"/>\n",
              "    <path d=\"M18.56 5.44l.94 2.06.94-2.06 2.06-.94-2.06-.94-.94-2.06-.94 2.06-2.06.94zm-11 1L8.5 8.5l.94-2.06 2.06-.94-2.06-.94L8.5 2.5l-.94 2.06-2.06.94zm10 10l.94 2.06.94-2.06 2.06-.94-2.06-.94-.94-2.06-.94 2.06-2.06.94z\"/><path d=\"M17.41 7.96l-1.37-1.37c-.4-.4-.92-.59-1.43-.59-.52 0-1.04.2-1.43.59L10.3 9.45l-7.72 7.72c-.78.78-.78 2.05 0 2.83L4 21.41c.39.39.9.59 1.41.59.51 0 1.02-.2 1.41-.59l7.78-7.78 2.81-2.81c.8-.78.8-2.07 0-2.86zM5.41 20L4 18.59l7.72-7.72 1.47 1.35L5.41 20z\"/>\n",
              "  </svg>\n",
              "      </button>\n",
              "      \n",
              "  <style>\n",
              "    .colab-df-container {\n",
              "      display:flex;\n",
              "      flex-wrap:wrap;\n",
              "      gap: 12px;\n",
              "    }\n",
              "\n",
              "    .colab-df-convert {\n",
              "      background-color: #E8F0FE;\n",
              "      border: none;\n",
              "      border-radius: 50%;\n",
              "      cursor: pointer;\n",
              "      display: none;\n",
              "      fill: #1967D2;\n",
              "      height: 32px;\n",
              "      padding: 0 0 0 0;\n",
              "      width: 32px;\n",
              "    }\n",
              "\n",
              "    .colab-df-convert:hover {\n",
              "      background-color: #E2EBFA;\n",
              "      box-shadow: 0px 1px 2px rgba(60, 64, 67, 0.3), 0px 1px 3px 1px rgba(60, 64, 67, 0.15);\n",
              "      fill: #174EA6;\n",
              "    }\n",
              "\n",
              "    [theme=dark] .colab-df-convert {\n",
              "      background-color: #3B4455;\n",
              "      fill: #D2E3FC;\n",
              "    }\n",
              "\n",
              "    [theme=dark] .colab-df-convert:hover {\n",
              "      background-color: #434B5C;\n",
              "      box-shadow: 0px 1px 3px 1px rgba(0, 0, 0, 0.15);\n",
              "      filter: drop-shadow(0px 1px 2px rgba(0, 0, 0, 0.3));\n",
              "      fill: #FFFFFF;\n",
              "    }\n",
              "  </style>\n",
              "\n",
              "      <script>\n",
              "        const buttonEl =\n",
              "          document.querySelector('#df-c7262994-46c8-4cb7-9a72-3483dfce61e4 button.colab-df-convert');\n",
              "        buttonEl.style.display =\n",
              "          google.colab.kernel.accessAllowed ? 'block' : 'none';\n",
              "\n",
              "        async function convertToInteractive(key) {\n",
              "          const element = document.querySelector('#df-c7262994-46c8-4cb7-9a72-3483dfce61e4');\n",
              "          const dataTable =\n",
              "            await google.colab.kernel.invokeFunction('convertToInteractive',\n",
              "                                                     [key], {});\n",
              "          if (!dataTable) return;\n",
              "\n",
              "          const docLinkHtml = 'Like what you see? Visit the ' +\n",
              "            '<a target=\"_blank\" href=https://colab.research.google.com/notebooks/data_table.ipynb>data table notebook</a>'\n",
              "            + ' to learn more about interactive tables.';\n",
              "          element.innerHTML = '';\n",
              "          dataTable['output_type'] = 'display_data';\n",
              "          await google.colab.output.renderOutput(dataTable, element);\n",
              "          const docLink = document.createElement('div');\n",
              "          docLink.innerHTML = docLinkHtml;\n",
              "          element.appendChild(docLink);\n",
              "        }\n",
              "      </script>\n",
              "    </div>\n",
              "  </div>\n",
              "  "
            ]
          },
          "metadata": {},
          "execution_count": 24
        }
      ]
    },
    {
      "cell_type": "code",
      "source": [
        "def get_at(row):\n",
        "    return re.findall(\"@[\\w]+\", row[\"tweet\"])\n",
        "\n",
        "def get_http(row):\n",
        "    return re.findall(\"http[\\:\\/\\.\\w]+\", row[\"tweet\"])\n",
        "\n",
        "def get_hashtags(row):\n",
        "    return re.findall(\"#[\\w]+\", row[\"tweet\"])\n",
        "\n",
        "def number_of_tags(row):\n",
        "    return len(row[\"tags\"])\n",
        "\n",
        "def number_of_links(row):\n",
        "    return len(row[\"links\"])\n",
        "\n",
        "def number_of_hashs(row):\n",
        "    return len(row[\"hashtags\"])\n",
        "\n",
        "def clean_text(row):\n",
        "    clean = row[\"tweet\"]\n",
        "    \n",
        "    if len(row[\"tags\"]) != 0:\n",
        "        for word in row[\"tags\"]:\n",
        "            clean = clean.replace(word, \"\")\n",
        "    \n",
        "    if len(row[\"links\"]) != 0:\n",
        "        for word in row[\"links\"]:\n",
        "            clean = clean.replace(word, \"\")\n",
        "    \n",
        "    #only remove the # symbol\n",
        "    clean = clean.replace(\"#\", \"\").replace(\"/\", \"\").replace(\"(\", \"\").replace(\")\", \"\")\n",
        "    \n",
        "    return clean.strip()\n",
        "\n",
        "full[\"tags\"] = full.apply(lambda row: get_at(row), axis = 1)\n",
        "full[\"links\"] = full.apply(lambda row: get_http(row), axis = 1)\n",
        "full[\"hashtags\"] = full.apply(lambda row: get_hashtags(row), axis = 1)\n",
        "\n",
        "full[\"number_of_tags\"] = full.apply(lambda row: number_of_tags(row), axis = 1)\n",
        "full[\"number_of_links\"] = full.apply(lambda row: number_of_links(row), axis = 1)\n",
        "full[\"number_of_hashs\"] = full.apply(lambda row: number_of_hashs(row), axis = 1)\n",
        "\n",
        "full[\"clean_text\"] = full.apply(lambda row: clean_text(row), axis = 1)\n",
        "full.sample(5)"
      ],
      "metadata": {
        "colab": {
          "base_uri": "https://localhost:8080/",
          "height": 808
        },
        "id": "myRB80LQu47S",
        "outputId": "37dcc04c-f21d-4b6d-d90a-ce8b3240f718"
      },
      "execution_count": null,
      "outputs": [
        {
          "output_type": "execute_result",
          "data": {
            "text/plain": [
              "          sent                                              tweet  \\\n",
              "4473  positive  Ah yes\\u002c sexy Saturday in the Turner house...   \n",
              "714   positive  going to finish watching The Vow tomorrow \\u00...   \n",
              "8461   neutral  @rioferdy5 Harold and the Purple Crayon\\u002c ...   \n",
              "1816  negative  #fakta on the 8th of Mar 191 Cao Cao attempted...   \n",
              "170   positive  The Grey and Yellow Gold Wedding Puzzle is now...   \n",
              "\n",
              "                                            clean_tweet  \\\n",
              "4473  Ah yes c sexy Saturday in Turner house http t ...   \n",
              "714   going finish watching The Vow tomorrow c its s...   \n",
              "8461  Harold and Purple Crayon c although it may be ...   \n",
              "1816   fakta on th of Mar Cao Cao attempted an assas...   \n",
              "170   The Grey and Yellow Gold Wedding Puzzle is now...   \n",
              "\n",
              "                                                 tokens  \\\n",
              "4473  [ah, yes, c, sexy, saturday, in, turner, house...   \n",
              "714   [going, finish, watching, the, vow, tomorrow, ...   \n",
              "8461  [harold, and, purple, crayon, c, although, it,...   \n",
              "1816  [fakta, on, th, of, mar, cao, cao, attempted, ...   \n",
              "170   [the, grey, and, yellow, gold, wedding, puzzle...   \n",
              "\n",
              "                                                postags  freqAdverbs  \\\n",
              "4473  [JJ, NNS, VBP, JJ, NN, IN, NN, NN, NN, NN, NN,...         0.00   \n",
              "714   [VBG, JJ, VBG, DT, NN, NN, VB, PRP$, JJ, DT, J...         0.00   \n",
              "8461  [NN, CC, JJ, NN, NN, IN, PRP, MD, VB, IN, RB, ...         0.10   \n",
              "1816  [NN, IN, NN, IN, NN, NN, NN, VBD, DT, NN, IN, ...         0.00   \n",
              "170   [DT, NN, CC, JJ, NN, NN, NN, VBZ, RB, RB, IN, ...         0.08   \n",
              "\n",
              "      freqVerbs  freqAdjectives  freqNouns          tags  \\\n",
              "4473   0.076923        0.153846   0.692308            []   \n",
              "714    0.230769        0.230769   0.307692            []   \n",
              "8461   0.100000        0.100000   0.350000  [@rioferdy5]   \n",
              "1816   0.040000        0.120000   0.480000            []   \n",
              "170    0.080000        0.120000   0.480000    [@shopbop]   \n",
              "\n",
              "                       links  hashtags  number_of_tags  number_of_links  \\\n",
              "4473  [http://t.co/yVZsH8Vo]        []               0                1   \n",
              "714                       []        []               0                0   \n",
              "8461                      []        []               1                0   \n",
              "1816                      []  [#fakta]               0                0   \n",
              "170   [http://t.co/1RYso3ZZ]        []               1                1   \n",
              "\n",
              "      number_of_hashs                                         clean_text  \n",
              "4473                0  Ah yes\\u002c sexy Saturday in the Turner house...  \n",
              "714                 0  going to finish watching The Vow tomorrow \\u00...  \n",
              "8461                0  Harold and the Purple Crayon\\u002c although it...  \n",
              "1816                1  fakta on the 8th of Mar 191 Cao Cao attempted ...  \n",
              "170                 0  The Grey and Yellow Gold Wedding Puzzle is now...  "
            ],
            "text/html": [
              "\n",
              "  <div id=\"df-527aea28-8795-4d91-bd05-14331a2d9be0\">\n",
              "    <div class=\"colab-df-container\">\n",
              "      <div>\n",
              "<style scoped>\n",
              "    .dataframe tbody tr th:only-of-type {\n",
              "        vertical-align: middle;\n",
              "    }\n",
              "\n",
              "    .dataframe tbody tr th {\n",
              "        vertical-align: top;\n",
              "    }\n",
              "\n",
              "    .dataframe thead th {\n",
              "        text-align: right;\n",
              "    }\n",
              "</style>\n",
              "<table border=\"1\" class=\"dataframe\">\n",
              "  <thead>\n",
              "    <tr style=\"text-align: right;\">\n",
              "      <th></th>\n",
              "      <th>sent</th>\n",
              "      <th>tweet</th>\n",
              "      <th>clean_tweet</th>\n",
              "      <th>tokens</th>\n",
              "      <th>postags</th>\n",
              "      <th>freqAdverbs</th>\n",
              "      <th>freqVerbs</th>\n",
              "      <th>freqAdjectives</th>\n",
              "      <th>freqNouns</th>\n",
              "      <th>tags</th>\n",
              "      <th>links</th>\n",
              "      <th>hashtags</th>\n",
              "      <th>number_of_tags</th>\n",
              "      <th>number_of_links</th>\n",
              "      <th>number_of_hashs</th>\n",
              "      <th>clean_text</th>\n",
              "    </tr>\n",
              "  </thead>\n",
              "  <tbody>\n",
              "    <tr>\n",
              "      <th>4473</th>\n",
              "      <td>positive</td>\n",
              "      <td>Ah yes\\u002c sexy Saturday in the Turner house...</td>\n",
              "      <td>Ah yes c sexy Saturday in Turner house http t ...</td>\n",
              "      <td>[ah, yes, c, sexy, saturday, in, turner, house...</td>\n",
              "      <td>[JJ, NNS, VBP, JJ, NN, IN, NN, NN, NN, NN, NN,...</td>\n",
              "      <td>0.00</td>\n",
              "      <td>0.076923</td>\n",
              "      <td>0.153846</td>\n",
              "      <td>0.692308</td>\n",
              "      <td>[]</td>\n",
              "      <td>[http://t.co/yVZsH8Vo]</td>\n",
              "      <td>[]</td>\n",
              "      <td>0</td>\n",
              "      <td>1</td>\n",
              "      <td>0</td>\n",
              "      <td>Ah yes\\u002c sexy Saturday in the Turner house...</td>\n",
              "    </tr>\n",
              "    <tr>\n",
              "      <th>714</th>\n",
              "      <td>positive</td>\n",
              "      <td>going to finish watching The Vow tomorrow \\u00...</td>\n",
              "      <td>going finish watching The Vow tomorrow c its s...</td>\n",
              "      <td>[going, finish, watching, the, vow, tomorrow, ...</td>\n",
              "      <td>[VBG, JJ, VBG, DT, NN, NN, VB, PRP$, JJ, DT, J...</td>\n",
              "      <td>0.00</td>\n",
              "      <td>0.230769</td>\n",
              "      <td>0.230769</td>\n",
              "      <td>0.307692</td>\n",
              "      <td>[]</td>\n",
              "      <td>[]</td>\n",
              "      <td>[]</td>\n",
              "      <td>0</td>\n",
              "      <td>0</td>\n",
              "      <td>0</td>\n",
              "      <td>going to finish watching The Vow tomorrow \\u00...</td>\n",
              "    </tr>\n",
              "    <tr>\n",
              "      <th>8461</th>\n",
              "      <td>neutral</td>\n",
              "      <td>@rioferdy5 Harold and the Purple Crayon\\u002c ...</td>\n",
              "      <td>Harold and Purple Crayon c although it may be ...</td>\n",
              "      <td>[harold, and, purple, crayon, c, although, it,...</td>\n",
              "      <td>[NN, CC, JJ, NN, NN, IN, PRP, MD, VB, IN, RB, ...</td>\n",
              "      <td>0.10</td>\n",
              "      <td>0.100000</td>\n",
              "      <td>0.100000</td>\n",
              "      <td>0.350000</td>\n",
              "      <td>[@rioferdy5]</td>\n",
              "      <td>[]</td>\n",
              "      <td>[]</td>\n",
              "      <td>1</td>\n",
              "      <td>0</td>\n",
              "      <td>0</td>\n",
              "      <td>Harold and the Purple Crayon\\u002c although it...</td>\n",
              "    </tr>\n",
              "    <tr>\n",
              "      <th>1816</th>\n",
              "      <td>negative</td>\n",
              "      <td>#fakta on the 8th of Mar 191 Cao Cao attempted...</td>\n",
              "      <td>fakta on th of Mar Cao Cao attempted an assas...</td>\n",
              "      <td>[fakta, on, th, of, mar, cao, cao, attempted, ...</td>\n",
              "      <td>[NN, IN, NN, IN, NN, NN, NN, VBD, DT, NN, IN, ...</td>\n",
              "      <td>0.00</td>\n",
              "      <td>0.040000</td>\n",
              "      <td>0.120000</td>\n",
              "      <td>0.480000</td>\n",
              "      <td>[]</td>\n",
              "      <td>[]</td>\n",
              "      <td>[#fakta]</td>\n",
              "      <td>0</td>\n",
              "      <td>0</td>\n",
              "      <td>1</td>\n",
              "      <td>fakta on the 8th of Mar 191 Cao Cao attempted ...</td>\n",
              "    </tr>\n",
              "    <tr>\n",
              "      <th>170</th>\n",
              "      <td>positive</td>\n",
              "      <td>The Grey and Yellow Gold Wedding Puzzle is now...</td>\n",
              "      <td>The Grey and Yellow Gold Wedding Puzzle is now...</td>\n",
              "      <td>[the, grey, and, yellow, gold, wedding, puzzle...</td>\n",
              "      <td>[DT, NN, CC, JJ, NN, NN, NN, VBZ, RB, RB, IN, ...</td>\n",
              "      <td>0.08</td>\n",
              "      <td>0.080000</td>\n",
              "      <td>0.120000</td>\n",
              "      <td>0.480000</td>\n",
              "      <td>[@shopbop]</td>\n",
              "      <td>[http://t.co/1RYso3ZZ]</td>\n",
              "      <td>[]</td>\n",
              "      <td>1</td>\n",
              "      <td>1</td>\n",
              "      <td>0</td>\n",
              "      <td>The Grey and Yellow Gold Wedding Puzzle is now...</td>\n",
              "    </tr>\n",
              "  </tbody>\n",
              "</table>\n",
              "</div>\n",
              "      <button class=\"colab-df-convert\" onclick=\"convertToInteractive('df-527aea28-8795-4d91-bd05-14331a2d9be0')\"\n",
              "              title=\"Convert this dataframe to an interactive table.\"\n",
              "              style=\"display:none;\">\n",
              "        \n",
              "  <svg xmlns=\"http://www.w3.org/2000/svg\" height=\"24px\"viewBox=\"0 0 24 24\"\n",
              "       width=\"24px\">\n",
              "    <path d=\"M0 0h24v24H0V0z\" fill=\"none\"/>\n",
              "    <path d=\"M18.56 5.44l.94 2.06.94-2.06 2.06-.94-2.06-.94-.94-2.06-.94 2.06-2.06.94zm-11 1L8.5 8.5l.94-2.06 2.06-.94-2.06-.94L8.5 2.5l-.94 2.06-2.06.94zm10 10l.94 2.06.94-2.06 2.06-.94-2.06-.94-.94-2.06-.94 2.06-2.06.94z\"/><path d=\"M17.41 7.96l-1.37-1.37c-.4-.4-.92-.59-1.43-.59-.52 0-1.04.2-1.43.59L10.3 9.45l-7.72 7.72c-.78.78-.78 2.05 0 2.83L4 21.41c.39.39.9.59 1.41.59.51 0 1.02-.2 1.41-.59l7.78-7.78 2.81-2.81c.8-.78.8-2.07 0-2.86zM5.41 20L4 18.59l7.72-7.72 1.47 1.35L5.41 20z\"/>\n",
              "  </svg>\n",
              "      </button>\n",
              "      \n",
              "  <style>\n",
              "    .colab-df-container {\n",
              "      display:flex;\n",
              "      flex-wrap:wrap;\n",
              "      gap: 12px;\n",
              "    }\n",
              "\n",
              "    .colab-df-convert {\n",
              "      background-color: #E8F0FE;\n",
              "      border: none;\n",
              "      border-radius: 50%;\n",
              "      cursor: pointer;\n",
              "      display: none;\n",
              "      fill: #1967D2;\n",
              "      height: 32px;\n",
              "      padding: 0 0 0 0;\n",
              "      width: 32px;\n",
              "    }\n",
              "\n",
              "    .colab-df-convert:hover {\n",
              "      background-color: #E2EBFA;\n",
              "      box-shadow: 0px 1px 2px rgba(60, 64, 67, 0.3), 0px 1px 3px 1px rgba(60, 64, 67, 0.15);\n",
              "      fill: #174EA6;\n",
              "    }\n",
              "\n",
              "    [theme=dark] .colab-df-convert {\n",
              "      background-color: #3B4455;\n",
              "      fill: #D2E3FC;\n",
              "    }\n",
              "\n",
              "    [theme=dark] .colab-df-convert:hover {\n",
              "      background-color: #434B5C;\n",
              "      box-shadow: 0px 1px 3px 1px rgba(0, 0, 0, 0.15);\n",
              "      filter: drop-shadow(0px 1px 2px rgba(0, 0, 0, 0.3));\n",
              "      fill: #FFFFFF;\n",
              "    }\n",
              "  </style>\n",
              "\n",
              "      <script>\n",
              "        const buttonEl =\n",
              "          document.querySelector('#df-527aea28-8795-4d91-bd05-14331a2d9be0 button.colab-df-convert');\n",
              "        buttonEl.style.display =\n",
              "          google.colab.kernel.accessAllowed ? 'block' : 'none';\n",
              "\n",
              "        async function convertToInteractive(key) {\n",
              "          const element = document.querySelector('#df-527aea28-8795-4d91-bd05-14331a2d9be0');\n",
              "          const dataTable =\n",
              "            await google.colab.kernel.invokeFunction('convertToInteractive',\n",
              "                                                     [key], {});\n",
              "          if (!dataTable) return;\n",
              "\n",
              "          const docLinkHtml = 'Like what you see? Visit the ' +\n",
              "            '<a target=\"_blank\" href=https://colab.research.google.com/notebooks/data_table.ipynb>data table notebook</a>'\n",
              "            + ' to learn more about interactive tables.';\n",
              "          element.innerHTML = '';\n",
              "          dataTable['output_type'] = 'display_data';\n",
              "          await google.colab.output.renderOutput(dataTable, element);\n",
              "          const docLink = document.createElement('div');\n",
              "          docLink.innerHTML = docLinkHtml;\n",
              "          element.appendChild(docLink);\n",
              "        }\n",
              "      </script>\n",
              "    </div>\n",
              "  </div>\n",
              "  "
            ]
          },
          "metadata": {},
          "execution_count": 63
        }
      ]
    },
    {
      "cell_type": "code",
      "source": [
        "def get_postags(row):\n",
        "    \n",
        "    postags = nltk.pos_tag(row[\"tokens\"])\n",
        "    list_classes = list()\n",
        "    for  word in postags:\n",
        "        list_classes.append(word[1])\n",
        "    \n",
        "    return list_classes\n",
        "\n",
        "full[\"postags\"] = full.apply(lambda row: get_postags(row), axis = 1)\n",
        "full.sample(5, random_state = 4)"
      ],
      "metadata": {
        "colab": {
          "base_uri": "https://localhost:8080/",
          "height": 790
        },
        "id": "5SXMg2uGvo8d",
        "outputId": "dc80c143-904b-4309-9437-8415484e9cc3"
      },
      "execution_count": null,
      "outputs": [
        {
          "output_type": "execute_result",
          "data": {
            "text/plain": [
              "          sent                                              tweet  \\\n",
              "5446   neutral  Galaxy tune up for Whitecaps\\u002c Sounders fa...   \n",
              "3632   neutral  We will be closed this Monday\\u002c February 2...   \n",
              "5256   neutral  MVP - Chris Paul 6th Man - Jason Terry Defensi...   \n",
              "8252   neutral       Tennessee game Saturday with @King_Gunter :)   \n",
              "1572  negative  This girl said The Challenge has been filled o...   \n",
              "\n",
              "                                            clean_tweet  \\\n",
              "5446  Galaxy tune up for Whitecaps c Sounders fall r...   \n",
              "3632  We will be closed this Monday c February th fo...   \n",
              "5256  MVP Chris Paul th Man Jason Terry Defensive Pl...   \n",
              "8252                       Tennessee game Saturday with   \n",
              "1572  This girl said The Challenge has been filled o...   \n",
              "\n",
              "                                                 tokens  \\\n",
              "5446  [galaxy, tune, up, for, whitecaps, c, sounders...   \n",
              "3632  [we, will, be, closed, this, monday, c, februa...   \n",
              "5256  [mvp, chris, paul, th, man, jason, terry, defe...   \n",
              "8252                  [tennessee, game, saturday, with]   \n",
              "1572  [this, girl, said, the, challenge, has, been, ...   \n",
              "\n",
              "                                                postags  freqAdverbs  \\\n",
              "5446  [NN, VBZ, RP, IN, NNS, JJ, NNS, VBP, NN, NN, N...     0.000000   \n",
              "3632  [PRP, MD, VB, VBN, DT, NN, VBZ, JJ, NN, IN, NN...     0.000000   \n",
              "5256  [NN, NN, NN, NN, NN, NN, NN, JJ, NN, NN, VBZ, ...     0.050000   \n",
              "8252                                   [NN, NN, NN, IN]     0.000000   \n",
              "1572  [DT, NN, VBD, DT, NN, VBZ, VBN, VBN, IN, NNS, ...     0.045455   \n",
              "\n",
              "      freqVerbs  freqAdjectives  freqNouns            tags  \\\n",
              "5446   0.115385        0.038462   0.615385              []   \n",
              "3632   0.217391        0.043478   0.391304              []   \n",
              "5256   0.050000        0.100000   0.750000              []   \n",
              "8252   0.000000        0.000000   0.750000  [@King_Gunter]   \n",
              "1572   0.363636        0.045455   0.318182              []   \n",
              "\n",
              "                       links hashtags  number_of_tags  number_of_links  \\\n",
              "5446  [http://t.co/1JL6kiWR]       []               0                1   \n",
              "3632  [http://t.co/vyTBFiH4]       []               0                1   \n",
              "5256                      []       []               0                0   \n",
              "8252                      []       []               1                0   \n",
              "1572                      []       []               0                0   \n",
              "\n",
              "      number_of_hashs                                         clean_text  \n",
              "5446                0  Galaxy tune up for Whitecaps\\u002c Sounders fa...  \n",
              "3632                0  We will be closed this Monday\\u002c February 2...  \n",
              "5256                0  MVP - Chris Paul 6th Man - Jason Terry Defensi...  \n",
              "8252                0                    Tennessee game Saturday with  :  \n",
              "1572                0  This girl said The Challenge has been filled o...  "
            ],
            "text/html": [
              "\n",
              "  <div id=\"df-328196d1-2296-42d5-be8c-b40f5327e7da\">\n",
              "    <div class=\"colab-df-container\">\n",
              "      <div>\n",
              "<style scoped>\n",
              "    .dataframe tbody tr th:only-of-type {\n",
              "        vertical-align: middle;\n",
              "    }\n",
              "\n",
              "    .dataframe tbody tr th {\n",
              "        vertical-align: top;\n",
              "    }\n",
              "\n",
              "    .dataframe thead th {\n",
              "        text-align: right;\n",
              "    }\n",
              "</style>\n",
              "<table border=\"1\" class=\"dataframe\">\n",
              "  <thead>\n",
              "    <tr style=\"text-align: right;\">\n",
              "      <th></th>\n",
              "      <th>sent</th>\n",
              "      <th>tweet</th>\n",
              "      <th>clean_tweet</th>\n",
              "      <th>tokens</th>\n",
              "      <th>postags</th>\n",
              "      <th>freqAdverbs</th>\n",
              "      <th>freqVerbs</th>\n",
              "      <th>freqAdjectives</th>\n",
              "      <th>freqNouns</th>\n",
              "      <th>tags</th>\n",
              "      <th>links</th>\n",
              "      <th>hashtags</th>\n",
              "      <th>number_of_tags</th>\n",
              "      <th>number_of_links</th>\n",
              "      <th>number_of_hashs</th>\n",
              "      <th>clean_text</th>\n",
              "    </tr>\n",
              "  </thead>\n",
              "  <tbody>\n",
              "    <tr>\n",
              "      <th>5446</th>\n",
              "      <td>neutral</td>\n",
              "      <td>Galaxy tune up for Whitecaps\\u002c Sounders fa...</td>\n",
              "      <td>Galaxy tune up for Whitecaps c Sounders fall r...</td>\n",
              "      <td>[galaxy, tune, up, for, whitecaps, c, sounders...</td>\n",
              "      <td>[NN, VBZ, RP, IN, NNS, JJ, NNS, VBP, NN, NN, N...</td>\n",
              "      <td>0.000000</td>\n",
              "      <td>0.115385</td>\n",
              "      <td>0.038462</td>\n",
              "      <td>0.615385</td>\n",
              "      <td>[]</td>\n",
              "      <td>[http://t.co/1JL6kiWR]</td>\n",
              "      <td>[]</td>\n",
              "      <td>0</td>\n",
              "      <td>1</td>\n",
              "      <td>0</td>\n",
              "      <td>Galaxy tune up for Whitecaps\\u002c Sounders fa...</td>\n",
              "    </tr>\n",
              "    <tr>\n",
              "      <th>3632</th>\n",
              "      <td>neutral</td>\n",
              "      <td>We will be closed this Monday\\u002c February 2...</td>\n",
              "      <td>We will be closed this Monday c February th fo...</td>\n",
              "      <td>[we, will, be, closed, this, monday, c, februa...</td>\n",
              "      <td>[PRP, MD, VB, VBN, DT, NN, VBZ, JJ, NN, IN, NN...</td>\n",
              "      <td>0.000000</td>\n",
              "      <td>0.217391</td>\n",
              "      <td>0.043478</td>\n",
              "      <td>0.391304</td>\n",
              "      <td>[]</td>\n",
              "      <td>[http://t.co/vyTBFiH4]</td>\n",
              "      <td>[]</td>\n",
              "      <td>0</td>\n",
              "      <td>1</td>\n",
              "      <td>0</td>\n",
              "      <td>We will be closed this Monday\\u002c February 2...</td>\n",
              "    </tr>\n",
              "    <tr>\n",
              "      <th>5256</th>\n",
              "      <td>neutral</td>\n",
              "      <td>MVP - Chris Paul 6th Man - Jason Terry Defensi...</td>\n",
              "      <td>MVP Chris Paul th Man Jason Terry Defensive Pl...</td>\n",
              "      <td>[mvp, chris, paul, th, man, jason, terry, defe...</td>\n",
              "      <td>[NN, NN, NN, NN, NN, NN, NN, JJ, NN, NN, VBZ, ...</td>\n",
              "      <td>0.050000</td>\n",
              "      <td>0.050000</td>\n",
              "      <td>0.100000</td>\n",
              "      <td>0.750000</td>\n",
              "      <td>[]</td>\n",
              "      <td>[]</td>\n",
              "      <td>[]</td>\n",
              "      <td>0</td>\n",
              "      <td>0</td>\n",
              "      <td>0</td>\n",
              "      <td>MVP - Chris Paul 6th Man - Jason Terry Defensi...</td>\n",
              "    </tr>\n",
              "    <tr>\n",
              "      <th>8252</th>\n",
              "      <td>neutral</td>\n",
              "      <td>Tennessee game Saturday with @King_Gunter :)</td>\n",
              "      <td>Tennessee game Saturday with</td>\n",
              "      <td>[tennessee, game, saturday, with]</td>\n",
              "      <td>[NN, NN, NN, IN]</td>\n",
              "      <td>0.000000</td>\n",
              "      <td>0.000000</td>\n",
              "      <td>0.000000</td>\n",
              "      <td>0.750000</td>\n",
              "      <td>[@King_Gunter]</td>\n",
              "      <td>[]</td>\n",
              "      <td>[]</td>\n",
              "      <td>1</td>\n",
              "      <td>0</td>\n",
              "      <td>0</td>\n",
              "      <td>Tennessee game Saturday with  :</td>\n",
              "    </tr>\n",
              "    <tr>\n",
              "      <th>1572</th>\n",
              "      <td>negative</td>\n",
              "      <td>This girl said The Challenge has been filled o...</td>\n",
              "      <td>This girl said The Challenge has been filled o...</td>\n",
              "      <td>[this, girl, said, the, challenge, has, been, ...</td>\n",
              "      <td>[DT, NN, VBD, DT, NN, VBZ, VBN, VBN, IN, NNS, ...</td>\n",
              "      <td>0.045455</td>\n",
              "      <td>0.363636</td>\n",
              "      <td>0.045455</td>\n",
              "      <td>0.318182</td>\n",
              "      <td>[]</td>\n",
              "      <td>[]</td>\n",
              "      <td>[]</td>\n",
              "      <td>0</td>\n",
              "      <td>0</td>\n",
              "      <td>0</td>\n",
              "      <td>This girl said The Challenge has been filled o...</td>\n",
              "    </tr>\n",
              "  </tbody>\n",
              "</table>\n",
              "</div>\n",
              "      <button class=\"colab-df-convert\" onclick=\"convertToInteractive('df-328196d1-2296-42d5-be8c-b40f5327e7da')\"\n",
              "              title=\"Convert this dataframe to an interactive table.\"\n",
              "              style=\"display:none;\">\n",
              "        \n",
              "  <svg xmlns=\"http://www.w3.org/2000/svg\" height=\"24px\"viewBox=\"0 0 24 24\"\n",
              "       width=\"24px\">\n",
              "    <path d=\"M0 0h24v24H0V0z\" fill=\"none\"/>\n",
              "    <path d=\"M18.56 5.44l.94 2.06.94-2.06 2.06-.94-2.06-.94-.94-2.06-.94 2.06-2.06.94zm-11 1L8.5 8.5l.94-2.06 2.06-.94-2.06-.94L8.5 2.5l-.94 2.06-2.06.94zm10 10l.94 2.06.94-2.06 2.06-.94-2.06-.94-.94-2.06-.94 2.06-2.06.94z\"/><path d=\"M17.41 7.96l-1.37-1.37c-.4-.4-.92-.59-1.43-.59-.52 0-1.04.2-1.43.59L10.3 9.45l-7.72 7.72c-.78.78-.78 2.05 0 2.83L4 21.41c.39.39.9.59 1.41.59.51 0 1.02-.2 1.41-.59l7.78-7.78 2.81-2.81c.8-.78.8-2.07 0-2.86zM5.41 20L4 18.59l7.72-7.72 1.47 1.35L5.41 20z\"/>\n",
              "  </svg>\n",
              "      </button>\n",
              "      \n",
              "  <style>\n",
              "    .colab-df-container {\n",
              "      display:flex;\n",
              "      flex-wrap:wrap;\n",
              "      gap: 12px;\n",
              "    }\n",
              "\n",
              "    .colab-df-convert {\n",
              "      background-color: #E8F0FE;\n",
              "      border: none;\n",
              "      border-radius: 50%;\n",
              "      cursor: pointer;\n",
              "      display: none;\n",
              "      fill: #1967D2;\n",
              "      height: 32px;\n",
              "      padding: 0 0 0 0;\n",
              "      width: 32px;\n",
              "    }\n",
              "\n",
              "    .colab-df-convert:hover {\n",
              "      background-color: #E2EBFA;\n",
              "      box-shadow: 0px 1px 2px rgba(60, 64, 67, 0.3), 0px 1px 3px 1px rgba(60, 64, 67, 0.15);\n",
              "      fill: #174EA6;\n",
              "    }\n",
              "\n",
              "    [theme=dark] .colab-df-convert {\n",
              "      background-color: #3B4455;\n",
              "      fill: #D2E3FC;\n",
              "    }\n",
              "\n",
              "    [theme=dark] .colab-df-convert:hover {\n",
              "      background-color: #434B5C;\n",
              "      box-shadow: 0px 1px 3px 1px rgba(0, 0, 0, 0.15);\n",
              "      filter: drop-shadow(0px 1px 2px rgba(0, 0, 0, 0.3));\n",
              "      fill: #FFFFFF;\n",
              "    }\n",
              "  </style>\n",
              "\n",
              "      <script>\n",
              "        const buttonEl =\n",
              "          document.querySelector('#df-328196d1-2296-42d5-be8c-b40f5327e7da button.colab-df-convert');\n",
              "        buttonEl.style.display =\n",
              "          google.colab.kernel.accessAllowed ? 'block' : 'none';\n",
              "\n",
              "        async function convertToInteractive(key) {\n",
              "          const element = document.querySelector('#df-328196d1-2296-42d5-be8c-b40f5327e7da');\n",
              "          const dataTable =\n",
              "            await google.colab.kernel.invokeFunction('convertToInteractive',\n",
              "                                                     [key], {});\n",
              "          if (!dataTable) return;\n",
              "\n",
              "          const docLinkHtml = 'Like what you see? Visit the ' +\n",
              "            '<a target=\"_blank\" href=https://colab.research.google.com/notebooks/data_table.ipynb>data table notebook</a>'\n",
              "            + ' to learn more about interactive tables.';\n",
              "          element.innerHTML = '';\n",
              "          dataTable['output_type'] = 'display_data';\n",
              "          await google.colab.output.renderOutput(dataTable, element);\n",
              "          const docLink = document.createElement('div');\n",
              "          docLink.innerHTML = docLinkHtml;\n",
              "          element.appendChild(docLink);\n",
              "        }\n",
              "      </script>\n",
              "    </div>\n",
              "  </div>\n",
              "  "
            ]
          },
          "metadata": {},
          "execution_count": 64
        }
      ]
    },
    {
      "cell_type": "code",
      "source": [
        "# Importing the required libraries\n",
        "import nltk \n",
        "from nltk.corpus import stopwords \n",
        "from nltk.tokenize import word_tokenize, sent_tokenize"
      ],
      "metadata": {
        "id": "FIqSK9G1dS1j"
      },
      "execution_count": null,
      "outputs": []
    },
    {
      "cell_type": "code",
      "source": [
        "# Function to extract the proper nouns \n",
        "\n",
        "def ProperNounExtractor(text):\n",
        "    \n",
        "    print('PROPER NOUNS EXTRACTED :')\n",
        "    \n",
        "    sentences = nltk.sent_tokenize(text)\n",
        "    for sentence in sentences:\n",
        "        words = nltk.word_tokenize(sentence)\n",
        "        words = [word for word in words if word not in set(stopwords.words('english'))]\n",
        "        tagged = nltk.pos_tag(words)\n",
        "        for (word, tag) in tagged:\n",
        "            if tag == 'NNP': # If the word is a proper noun\n",
        "                print(word)"
      ],
      "metadata": {
        "id": "bOiS8syxdUUh"
      },
      "execution_count": null,
      "outputs": []
    },
    {
      "cell_type": "code",
      "source": [
        "def find_no_class(count, class_name = \"\"):\n",
        "    total = 0\n",
        "    for key in count.keys():\n",
        "        if key.startswith(class_name):\n",
        "            total += count[key]\n",
        "            \n",
        "            \n",
        "    return total\n",
        "\n",
        "def get_classes(row, grammatical_class = \"\"):\n",
        "    count = Counter(row[\"postags\"])\n",
        "    return find_no_class(count, class_name = grammatical_class)/len(row[\"postags\"])\n",
        "\n",
        "full[\"freqAdverbs\"] = full.apply(lambda row: get_classes(row, \"RB\"), axis = 1)\n",
        "full[\"freqVerbs\"] = full.apply(lambda row: get_classes(row, \"VB\"), axis = 1)\n",
        "full[\"freqAdjectives\"] = full.apply(lambda row: get_classes(row, \"JJ\"), axis = 1)\n",
        "full[\"freqNouns\"] = full.apply(lambda row: get_classes(row, \"NN\"), axis = 1)\n",
        "\n",
        "full.sample(5)"
      ],
      "metadata": {
        "colab": {
          "base_uri": "https://localhost:8080/",
          "height": 423
        },
        "id": "-NqXqe2bk7zz",
        "outputId": "cefd3058-2955-4566-a576-25ad384e1d6f"
      },
      "execution_count": null,
      "outputs": [
        {
          "output_type": "execute_result",
          "data": {
            "text/plain": [
              "         sent                                              tweet  \\\n",
              "6352  neutral  RT @iGotBitchesYeah: Drenched in vanilla twili...   \n",
              "8903  neutral  Front Line with Kamran Shahid ANP Shahi Syed h...   \n",
              "6998  neutral  Bolton Society for Blind People are bringing V...   \n",
              "598   neutral  Wasn\\u2019t there an International Women\\u2019...   \n",
              "2289  neutral  Elimination Chamber is going to be in St. Loui...   \n",
              "\n",
              "                                            clean_tweet  \\\n",
              "6352  RT Drenched in vanilla twilight i ll sit on fr...   \n",
              "8903  Front Line with Kamran Shahid ANP Shahi Syed h...   \n",
              "6998  Bolton Society for Blind People are bringing V...   \n",
              "598   Wasn t there an International Women s day on t...   \n",
              "2289  Elimination Chamber is going be in St Louis Ma...   \n",
              "\n",
              "                                                 tokens  \\\n",
              "6352  [rt, drenched, in, vanilla, twilight, i, ll, s...   \n",
              "8903  [front, line, with, kamran, shahid, anp, shahi...   \n",
              "6998  [bolton, society, for, blind, people, are, bri...   \n",
              "598   [wasn, t, there, an, international, women, s, ...   \n",
              "2289  [elimination, chamber, is, going, be, in, st, ...   \n",
              "\n",
              "                                                postags  freqAdverbs  \\\n",
              "6352  [NN, VBN, IN, NN, NN, NN, VBP, NN, IN, NN, NN,...     0.000000   \n",
              "8903  [JJ, NN, IN, NN, NN, NN, NN, VBD, JJ, NN, NN, ...     0.000000   \n",
              "6998  [NN, NN, IN, NN, NNS, VBP, VBG, IN, NN, IN, DT...     0.000000   \n",
              "598   [NN, NN, EX, DT, JJ, NNS, VBP, NN, IN, NN, IN,...     0.076923   \n",
              "2289  [NN, NN, VBZ, VBG, VB, IN, JJ, NN, MD, VB, NN,...     0.000000   \n",
              "\n",
              "      freqVerbs  freqAdjectives  freqNouns  \n",
              "6352   0.136364        0.045455   0.500000  \n",
              "8903   0.071429        0.142857   0.714286  \n",
              "6998   0.130435        0.000000   0.652174  \n",
              "598    0.076923        0.076923   0.461538  \n",
              "2289   0.461538        0.076923   0.307692  "
            ],
            "text/html": [
              "\n",
              "  <div id=\"df-cc574e00-4fe8-4741-a4a5-aef6eb56c72c\">\n",
              "    <div class=\"colab-df-container\">\n",
              "      <div>\n",
              "<style scoped>\n",
              "    .dataframe tbody tr th:only-of-type {\n",
              "        vertical-align: middle;\n",
              "    }\n",
              "\n",
              "    .dataframe tbody tr th {\n",
              "        vertical-align: top;\n",
              "    }\n",
              "\n",
              "    .dataframe thead th {\n",
              "        text-align: right;\n",
              "    }\n",
              "</style>\n",
              "<table border=\"1\" class=\"dataframe\">\n",
              "  <thead>\n",
              "    <tr style=\"text-align: right;\">\n",
              "      <th></th>\n",
              "      <th>sent</th>\n",
              "      <th>tweet</th>\n",
              "      <th>clean_tweet</th>\n",
              "      <th>tokens</th>\n",
              "      <th>postags</th>\n",
              "      <th>freqAdverbs</th>\n",
              "      <th>freqVerbs</th>\n",
              "      <th>freqAdjectives</th>\n",
              "      <th>freqNouns</th>\n",
              "    </tr>\n",
              "  </thead>\n",
              "  <tbody>\n",
              "    <tr>\n",
              "      <th>6352</th>\n",
              "      <td>neutral</td>\n",
              "      <td>RT @iGotBitchesYeah: Drenched in vanilla twili...</td>\n",
              "      <td>RT Drenched in vanilla twilight i ll sit on fr...</td>\n",
              "      <td>[rt, drenched, in, vanilla, twilight, i, ll, s...</td>\n",
              "      <td>[NN, VBN, IN, NN, NN, NN, VBP, NN, IN, NN, NN,...</td>\n",
              "      <td>0.000000</td>\n",
              "      <td>0.136364</td>\n",
              "      <td>0.045455</td>\n",
              "      <td>0.500000</td>\n",
              "    </tr>\n",
              "    <tr>\n",
              "      <th>8903</th>\n",
              "      <td>neutral</td>\n",
              "      <td>Front Line with Kamran Shahid ANP Shahi Syed h...</td>\n",
              "      <td>Front Line with Kamran Shahid ANP Shahi Syed h...</td>\n",
              "      <td>[front, line, with, kamran, shahid, anp, shahi...</td>\n",
              "      <td>[JJ, NN, IN, NN, NN, NN, NN, VBD, JJ, NN, NN, ...</td>\n",
              "      <td>0.000000</td>\n",
              "      <td>0.071429</td>\n",
              "      <td>0.142857</td>\n",
              "      <td>0.714286</td>\n",
              "    </tr>\n",
              "    <tr>\n",
              "      <th>6998</th>\n",
              "      <td>neutral</td>\n",
              "      <td>Bolton Society for Blind People are bringing V...</td>\n",
              "      <td>Bolton Society for Blind People are bringing V...</td>\n",
              "      <td>[bolton, society, for, blind, people, are, bri...</td>\n",
              "      <td>[NN, NN, IN, NN, NNS, VBP, VBG, IN, NN, IN, DT...</td>\n",
              "      <td>0.000000</td>\n",
              "      <td>0.130435</td>\n",
              "      <td>0.000000</td>\n",
              "      <td>0.652174</td>\n",
              "    </tr>\n",
              "    <tr>\n",
              "      <th>598</th>\n",
              "      <td>neutral</td>\n",
              "      <td>Wasn\\u2019t there an International Women\\u2019...</td>\n",
              "      <td>Wasn t there an International Women s day on t...</td>\n",
              "      <td>[wasn, t, there, an, international, women, s, ...</td>\n",
              "      <td>[NN, NN, EX, DT, JJ, NNS, VBP, NN, IN, NN, IN,...</td>\n",
              "      <td>0.076923</td>\n",
              "      <td>0.076923</td>\n",
              "      <td>0.076923</td>\n",
              "      <td>0.461538</td>\n",
              "    </tr>\n",
              "    <tr>\n",
              "      <th>2289</th>\n",
              "      <td>neutral</td>\n",
              "      <td>Elimination Chamber is going to be in St. Loui...</td>\n",
              "      <td>Elimination Chamber is going be in St Louis Ma...</td>\n",
              "      <td>[elimination, chamber, is, going, be, in, st, ...</td>\n",
              "      <td>[NN, NN, VBZ, VBG, VB, IN, JJ, NN, MD, VB, NN,...</td>\n",
              "      <td>0.000000</td>\n",
              "      <td>0.461538</td>\n",
              "      <td>0.076923</td>\n",
              "      <td>0.307692</td>\n",
              "    </tr>\n",
              "  </tbody>\n",
              "</table>\n",
              "</div>\n",
              "      <button class=\"colab-df-convert\" onclick=\"convertToInteractive('df-cc574e00-4fe8-4741-a4a5-aef6eb56c72c')\"\n",
              "              title=\"Convert this dataframe to an interactive table.\"\n",
              "              style=\"display:none;\">\n",
              "        \n",
              "  <svg xmlns=\"http://www.w3.org/2000/svg\" height=\"24px\"viewBox=\"0 0 24 24\"\n",
              "       width=\"24px\">\n",
              "    <path d=\"M0 0h24v24H0V0z\" fill=\"none\"/>\n",
              "    <path d=\"M18.56 5.44l.94 2.06.94-2.06 2.06-.94-2.06-.94-.94-2.06-.94 2.06-2.06.94zm-11 1L8.5 8.5l.94-2.06 2.06-.94-2.06-.94L8.5 2.5l-.94 2.06-2.06.94zm10 10l.94 2.06.94-2.06 2.06-.94-2.06-.94-.94-2.06-.94 2.06-2.06.94z\"/><path d=\"M17.41 7.96l-1.37-1.37c-.4-.4-.92-.59-1.43-.59-.52 0-1.04.2-1.43.59L10.3 9.45l-7.72 7.72c-.78.78-.78 2.05 0 2.83L4 21.41c.39.39.9.59 1.41.59.51 0 1.02-.2 1.41-.59l7.78-7.78 2.81-2.81c.8-.78.8-2.07 0-2.86zM5.41 20L4 18.59l7.72-7.72 1.47 1.35L5.41 20z\"/>\n",
              "  </svg>\n",
              "      </button>\n",
              "      \n",
              "  <style>\n",
              "    .colab-df-container {\n",
              "      display:flex;\n",
              "      flex-wrap:wrap;\n",
              "      gap: 12px;\n",
              "    }\n",
              "\n",
              "    .colab-df-convert {\n",
              "      background-color: #E8F0FE;\n",
              "      border: none;\n",
              "      border-radius: 50%;\n",
              "      cursor: pointer;\n",
              "      display: none;\n",
              "      fill: #1967D2;\n",
              "      height: 32px;\n",
              "      padding: 0 0 0 0;\n",
              "      width: 32px;\n",
              "    }\n",
              "\n",
              "    .colab-df-convert:hover {\n",
              "      background-color: #E2EBFA;\n",
              "      box-shadow: 0px 1px 2px rgba(60, 64, 67, 0.3), 0px 1px 3px 1px rgba(60, 64, 67, 0.15);\n",
              "      fill: #174EA6;\n",
              "    }\n",
              "\n",
              "    [theme=dark] .colab-df-convert {\n",
              "      background-color: #3B4455;\n",
              "      fill: #D2E3FC;\n",
              "    }\n",
              "\n",
              "    [theme=dark] .colab-df-convert:hover {\n",
              "      background-color: #434B5C;\n",
              "      box-shadow: 0px 1px 3px 1px rgba(0, 0, 0, 0.15);\n",
              "      filter: drop-shadow(0px 1px 2px rgba(0, 0, 0, 0.3));\n",
              "      fill: #FFFFFF;\n",
              "    }\n",
              "  </style>\n",
              "\n",
              "      <script>\n",
              "        const buttonEl =\n",
              "          document.querySelector('#df-cc574e00-4fe8-4741-a4a5-aef6eb56c72c button.colab-df-convert');\n",
              "        buttonEl.style.display =\n",
              "          google.colab.kernel.accessAllowed ? 'block' : 'none';\n",
              "\n",
              "        async function convertToInteractive(key) {\n",
              "          const element = document.querySelector('#df-cc574e00-4fe8-4741-a4a5-aef6eb56c72c');\n",
              "          const dataTable =\n",
              "            await google.colab.kernel.invokeFunction('convertToInteractive',\n",
              "                                                     [key], {});\n",
              "          if (!dataTable) return;\n",
              "\n",
              "          const docLinkHtml = 'Like what you see? Visit the ' +\n",
              "            '<a target=\"_blank\" href=https://colab.research.google.com/notebooks/data_table.ipynb>data table notebook</a>'\n",
              "            + ' to learn more about interactive tables.';\n",
              "          element.innerHTML = '';\n",
              "          dataTable['output_type'] = 'display_data';\n",
              "          await google.colab.output.renderOutput(dataTable, element);\n",
              "          const docLink = document.createElement('div');\n",
              "          docLink.innerHTML = docLinkHtml;\n",
              "          element.appendChild(docLink);\n",
              "        }\n",
              "      </script>\n",
              "    </div>\n",
              "  </div>\n",
              "  "
            ]
          },
          "metadata": {},
          "execution_count": 27
        }
      ]
    },
    {
      "cell_type": "code",
      "source": [
        "full.clean_tweet "
      ],
      "metadata": {
        "colab": {
          "base_uri": "https://localhost:8080/"
        },
        "id": "azqhKqxgqRsD",
        "outputId": "9c4ac2b3-c983-4007-de6f-0802942db6db"
      },
      "execution_count": null,
      "outputs": [
        {
          "output_type": "execute_result",
          "data": {
            "text/plain": [
              "0       down in Atlantic city c ventnor c margate c oc...\n",
              "1       Musical awareness Great Big Beautiful Tomorrow...\n",
              "2       On Radio fm Fri Oct Labour analyst Shawn Hatti...\n",
              "3       Kapan sih lo ngebuktiin cjan ngomong doang Sus...\n",
              "4       Tomorrow come and hear debate Navigating new H...\n",
              "                              ...                        \n",
              "9679    RT It s monday and Monday Night Football is on...\n",
              "9680    All I know is road for that start at TONIGHT W...\n",
              "9681    All Blue and White fam we r meeting at Golden ...\n",
              "9682           Have a great game agaist Tampa Bay tonight\n",
              "9683    I m that I missed Kid Cudi s show in Dallas it...\n",
              "Name: clean_tweet, Length: 13497, dtype: object"
            ]
          },
          "metadata": {},
          "execution_count": 28
        }
      ]
    },
    {
      "cell_type": "code",
      "source": [
        "!pip install googletrans==3.1.0a0"
      ],
      "metadata": {
        "colab": {
          "base_uri": "https://localhost:8080/"
        },
        "id": "d5zxPox67z0k",
        "outputId": "8175b1ac-674e-47da-fc5d-a9870902a0a2",
        "collapsed": true
      },
      "execution_count": null,
      "outputs": [
        {
          "output_type": "stream",
          "name": "stdout",
          "text": [
            "Looking in indexes: https://pypi.org/simple, https://us-python.pkg.dev/colab-wheels/public/simple/\n",
            "Collecting googletrans==3.1.0a0\n",
            "  Downloading googletrans-3.1.0a0.tar.gz (19 kB)\n",
            "  Preparing metadata (setup.py) ... \u001b[?25l\u001b[?25hdone\n",
            "Collecting httpx==0.13.3\n",
            "  Downloading httpx-0.13.3-py3-none-any.whl (55 kB)\n",
            "\u001b[2K     \u001b[90m━━━━━━━━━━━━━━━━━━━━━━━━━━━━━━━━━━━━━━━━\u001b[0m \u001b[32m55.1/55.1 KB\u001b[0m \u001b[31m2.9 MB/s\u001b[0m eta \u001b[36m0:00:00\u001b[0m\n",
            "\u001b[?25hCollecting hstspreload\n",
            "  Downloading hstspreload-2023.1.1-py3-none-any.whl (1.5 MB)\n",
            "\u001b[2K     \u001b[90m━━━━━━━━━━━━━━━━━━━━━━━━━━━━━━━━━━━━━━━━\u001b[0m \u001b[32m1.5/1.5 MB\u001b[0m \u001b[31m24.4 MB/s\u001b[0m eta \u001b[36m0:00:00\u001b[0m\n",
            "\u001b[?25hCollecting sniffio\n",
            "  Downloading sniffio-1.3.0-py3-none-any.whl (10 kB)\n",
            "Collecting httpcore==0.9.*\n",
            "  Downloading httpcore-0.9.1-py3-none-any.whl (42 kB)\n",
            "\u001b[2K     \u001b[90m━━━━━━━━━━━━━━━━━━━━━━━━━━━━━━━━━━━━━━━━\u001b[0m \u001b[32m42.6/42.6 KB\u001b[0m \u001b[31m4.0 MB/s\u001b[0m eta \u001b[36m0:00:00\u001b[0m\n",
            "\u001b[?25hRequirement already satisfied: idna==2.* in /usr/local/lib/python3.8/dist-packages (from httpx==0.13.3->googletrans==3.1.0a0) (2.10)\n",
            "Collecting rfc3986<2,>=1.3\n",
            "  Downloading rfc3986-1.5.0-py2.py3-none-any.whl (31 kB)\n",
            "Collecting chardet==3.*\n",
            "  Downloading chardet-3.0.4-py2.py3-none-any.whl (133 kB)\n",
            "\u001b[2K     \u001b[90m━━━━━━━━━━━━━━━━━━━━━━━━━━━━━━━━━━━━━━\u001b[0m \u001b[32m133.4/133.4 KB\u001b[0m \u001b[31m15.0 MB/s\u001b[0m eta \u001b[36m0:00:00\u001b[0m\n",
            "\u001b[?25hRequirement already satisfied: certifi in /usr/local/lib/python3.8/dist-packages (from httpx==0.13.3->googletrans==3.1.0a0) (2022.12.7)\n",
            "Collecting h11<0.10,>=0.8\n",
            "  Downloading h11-0.9.0-py2.py3-none-any.whl (53 kB)\n",
            "\u001b[2K     \u001b[90m━━━━━━━━━━━━━━━━━━━━━━━━━━━━━━━━━━━━━━━━\u001b[0m \u001b[32m53.6/53.6 KB\u001b[0m \u001b[31m5.2 MB/s\u001b[0m eta \u001b[36m0:00:00\u001b[0m\n",
            "\u001b[?25hCollecting h2==3.*\n",
            "  Downloading h2-3.2.0-py2.py3-none-any.whl (65 kB)\n",
            "\u001b[2K     \u001b[90m━━━━━━━━━━━━━━━━━━━━━━━━━━━━━━━━━━━━━━━━\u001b[0m \u001b[32m65.0/65.0 KB\u001b[0m \u001b[31m6.5 MB/s\u001b[0m eta \u001b[36m0:00:00\u001b[0m\n",
            "\u001b[?25hCollecting hpack<4,>=3.0\n",
            "  Downloading hpack-3.0.0-py2.py3-none-any.whl (38 kB)\n",
            "Collecting hyperframe<6,>=5.2.0\n",
            "  Downloading hyperframe-5.2.0-py2.py3-none-any.whl (12 kB)\n",
            "Building wheels for collected packages: googletrans\n",
            "  Building wheel for googletrans (setup.py) ... \u001b[?25l\u001b[?25hdone\n",
            "  Created wheel for googletrans: filename=googletrans-3.1.0a0-py3-none-any.whl size=16368 sha256=5cb1f709c0fc9391cf59a8365e79f53ef26333eaaf4eddf16d27ff9fa8e4a157\n",
            "  Stored in directory: /root/.cache/pip/wheels/dd/59/af/8d6c96a719763990f1c548e36b17d9efdfb767f42f7ff39f53\n",
            "Successfully built googletrans\n",
            "Installing collected packages: rfc3986, hyperframe, hpack, h11, chardet, sniffio, hstspreload, h2, httpcore, httpx, googletrans\n",
            "  Attempting uninstall: chardet\n",
            "    Found existing installation: chardet 4.0.0\n",
            "    Uninstalling chardet-4.0.0:\n",
            "      Successfully uninstalled chardet-4.0.0\n",
            "Successfully installed chardet-3.0.4 googletrans-3.1.0a0 h11-0.9.0 h2-3.2.0 hpack-3.0.0 hstspreload-2023.1.1 httpcore-0.9.1 httpx-0.13.3 hyperframe-5.2.0 rfc3986-1.5.0 sniffio-1.3.0\n"
          ]
        }
      ]
    },
    {
      "cell_type": "code",
      "source": [
        "import googletrans\n",
        "\n",
        "print(googletrans.LANGUAGES)"
      ],
      "metadata": {
        "colab": {
          "base_uri": "https://localhost:8080/"
        },
        "id": "T0tTzWtd2KAm",
        "outputId": "927d80eb-e29f-4d14-99de-a54fd9a4540d"
      },
      "execution_count": null,
      "outputs": [
        {
          "output_type": "stream",
          "name": "stdout",
          "text": [
            "{'af': 'afrikaans', 'sq': 'albanian', 'am': 'amharic', 'ar': 'arabic', 'hy': 'armenian', 'az': 'azerbaijani', 'eu': 'basque', 'be': 'belarusian', 'bn': 'bengali', 'bs': 'bosnian', 'bg': 'bulgarian', 'ca': 'catalan', 'ceb': 'cebuano', 'ny': 'chichewa', 'zh-cn': 'chinese (simplified)', 'zh-tw': 'chinese (traditional)', 'co': 'corsican', 'hr': 'croatian', 'cs': 'czech', 'da': 'danish', 'nl': 'dutch', 'en': 'english', 'eo': 'esperanto', 'et': 'estonian', 'tl': 'filipino', 'fi': 'finnish', 'fr': 'french', 'fy': 'frisian', 'gl': 'galician', 'ka': 'georgian', 'de': 'german', 'el': 'greek', 'gu': 'gujarati', 'ht': 'haitian creole', 'ha': 'hausa', 'haw': 'hawaiian', 'iw': 'hebrew', 'he': 'hebrew', 'hi': 'hindi', 'hmn': 'hmong', 'hu': 'hungarian', 'is': 'icelandic', 'ig': 'igbo', 'id': 'indonesian', 'ga': 'irish', 'it': 'italian', 'ja': 'japanese', 'jw': 'javanese', 'kn': 'kannada', 'kk': 'kazakh', 'km': 'khmer', 'ko': 'korean', 'ku': 'kurdish (kurmanji)', 'ky': 'kyrgyz', 'lo': 'lao', 'la': 'latin', 'lv': 'latvian', 'lt': 'lithuanian', 'lb': 'luxembourgish', 'mk': 'macedonian', 'mg': 'malagasy', 'ms': 'malay', 'ml': 'malayalam', 'mt': 'maltese', 'mi': 'maori', 'mr': 'marathi', 'mn': 'mongolian', 'my': 'myanmar (burmese)', 'ne': 'nepali', 'no': 'norwegian', 'or': 'odia', 'ps': 'pashto', 'fa': 'persian', 'pl': 'polish', 'pt': 'portuguese', 'pa': 'punjabi', 'ro': 'romanian', 'ru': 'russian', 'sm': 'samoan', 'gd': 'scots gaelic', 'sr': 'serbian', 'st': 'sesotho', 'sn': 'shona', 'sd': 'sindhi', 'si': 'sinhala', 'sk': 'slovak', 'sl': 'slovenian', 'so': 'somali', 'es': 'spanish', 'su': 'sundanese', 'sw': 'swahili', 'sv': 'swedish', 'tg': 'tajik', 'ta': 'tamil', 'te': 'telugu', 'th': 'thai', 'tr': 'turkish', 'uk': 'ukrainian', 'ur': 'urdu', 'ug': 'uyghur', 'uz': 'uzbek', 'vi': 'vietnamese', 'cy': 'welsh', 'xh': 'xhosa', 'yi': 'yiddish', 'yo': 'yoruba', 'zu': 'zulu'}\n"
          ]
        }
      ]
    },
    {
      "cell_type": "code",
      "source": [
        "from googletrans import Translator\n",
        "\n",
        "translator = Translator()\n"
      ],
      "metadata": {
        "id": "y4gvoRF8sRzM"
      },
      "execution_count": null,
      "outputs": []
    },
    {
      "cell_type": "code",
      "source": [
        "import pandas as pd\n",
        "from googletrans import Translator"
      ],
      "metadata": {
        "id": "-sw-ZJ327-Qb"
      },
      "execution_count": null,
      "outputs": []
    },
    {
      "cell_type": "code",
      "source": [
        "translated = translator.translate(full['clean_tweet'], src='en', dest='hi')"
      ],
      "metadata": {
        "id": "eqNS3xIY8Jg2"
      },
      "execution_count": null,
      "outputs": []
    },
    {
      "cell_type": "code",
      "source": [
        "print(translated)"
      ],
      "metadata": {
        "colab": {
          "base_uri": "https://localhost:8080/"
        },
        "id": "g2QN3Sxm_Kvl",
        "outputId": "8794982f-aa66-461a-dc19-bb930c45b776"
      },
      "execution_count": null,
      "outputs": [
        {
          "output_type": "stream",
          "name": "stdout",
          "text": [
            "Translated(src=en, dest=hi, text=अटलांटिक सिटी सी वेंटनॉर सी मार्गेट सी ओ सी में 0 नीचे...\n",
            "1 म्यूजिकल अवेयरनेस ग्रेट बिग ब्यूटीफुल टुमॉरो...\n",
            "2 रेडियो एफएम पर शुक्रवार अक्टूबर श्रम विश्लेषक शॉन हट्टी ...\n",
            "3 कपन सिह लो न्गेबुक्टिन सीजन एनगोमॉन्ग दोआंग सुस...\n",
            "4 कल आओ और बहस सुनो नया एच नेविगेट करना ...\n",
            "                              ...\n",
            "9679 RT यह सोमवार है और सोमवार की रात फुटबॉल चालू है...\n",
            "9680 मुझे बस इतना पता है कि आज रात उस के लिए सड़क शुरू होगी...\n",
            "9681 ऑल ब्लू एंड व्हाइट फैम हम गोल्डन में मिल रहे हैं ...\n",
            "9682 आज रात ताम्पा खाड़ी के खिलाफ एक शानदार खेल खेलें\n",
            "9683 मुझे लगता है कि मैंने डलास में किड क्यूडी के शो को मिस कर दिया...\n",
            "नाम: clean_tweet, लंबाई: 13497, dtype: वस्तु, pronunciation=[[]], extra_data=\"{'translat...\")\n"
          ]
        }
      ]
    },
    {
      "cell_type": "code",
      "source": [
        "translat = translator.translate(full['tokens'], src='en', dest='hi')"
      ],
      "metadata": {
        "id": "ht_8G6fCRQR2"
      },
      "execution_count": null,
      "outputs": []
    },
    {
      "cell_type": "code",
      "source": [
        "print(translat)"
      ],
      "metadata": {
        "colab": {
          "base_uri": "https://localhost:8080/"
        },
        "id": "WFXMuZhSRZd3",
        "outputId": "fea4447e-5c79-4602-9cfd-e7c553422829"
      },
      "execution_count": null,
      "outputs": [
        {
          "output_type": "stream",
          "name": "stdout",
          "text": [
            "Translated(src=en, dest=hi, text=0 [डाउन, इन, अटलांटिक, सिटी, सी, वेंटनॉर, सी, मार्ग...\n",
            "1 [संगीत, जागरूकता, महान, बड़ा, सुंदर, को...\n",
            "2 [पर, रेडियो, एफएम, शुक्र, अक्टूबर, श्रम, विश्लेषक, शा...\n",
            "3 [कापन, सिह, लो, न्गेबुक्टिन, सीजन, एनगोमोंग, डू...\n",
            "4 [कल, आओ, और सुनो, बहस करो, नेविगेट करो ...\n",
            "                              ...\n",
            "9679 [आरटी, आईटी, एस, सोमवार, और, सोमवार, रात, फुटबा...\n",
            "9680 [सभी, मैं, जानता हूं, है, सड़क, के लिए, वह, प्रारंभ, पर,...\n",
            "9681 [सभी, नीले, और, सफेद, अकाल, हम, आर, बैठक, एक...\n",
            "9682 [है, ए, ग्रेट, गेम, एगिस्ट, टाम्पा, बे, टन...\n",
            "9683 [i, m, वो, i, छूटा हुआ, बच्चा, कुडी, s, शो, इन...\n",
            "नाम: टोकन, लंबाई: 13497, dtype: वस्तु, pronunciation=[[]], extra_data=\"{'translat...\")\n"
          ]
        }
      ]
    },
    {
      "cell_type": "code",
      "source": [
        "import nltk\n",
        "from nltk.corpus import indian\n",
        "from nltk.tag import tnt\n",
        "import string"
      ],
      "metadata": {
        "id": "O7OMtYverCJG"
      },
      "execution_count": null,
      "outputs": []
    },
    {
      "cell_type": "code",
      "source": [
        "nltk.download(\"indian\")\n",
        "\n",
        "# Downloading Tokenizers \n",
        "nltk.download(\"punkt\")"
      ],
      "metadata": {
        "id": "Wup4gWeBrDeb",
        "colab": {
          "base_uri": "https://localhost:8080/"
        },
        "outputId": "d8ad6a79-1456-42b8-89c5-ba64143e9aba"
      },
      "execution_count": null,
      "outputs": [
        {
          "output_type": "stream",
          "name": "stderr",
          "text": [
            "[nltk_data] Downloading package indian to /root/nltk_data...\n",
            "[nltk_data]   Unzipping corpora/indian.zip.\n",
            "[nltk_data] Downloading package punkt to /root/nltk_data...\n",
            "[nltk_data]   Package punkt is already up-to-date!\n"
          ]
        },
        {
          "output_type": "execute_result",
          "data": {
            "text/plain": [
              "True"
            ]
          },
          "metadata": {},
          "execution_count": 38
        }
      ]
    },
    {
      "cell_type": "code",
      "source": [
        "pip install torch"
      ],
      "metadata": {
        "id": "YlUAaCr9NmAY"
      },
      "execution_count": null,
      "outputs": []
    },
    {
      "cell_type": "code",
      "source": [
        "pip install inltk"
      ],
      "metadata": {
        "colab": {
          "base_uri": "https://localhost:8080/",
          "height": 1000
        },
        "id": "cPoTIb_FNnyb",
        "outputId": "f5d29480-20a2-4b0a-ccba-68381efa275c",
        "collapsed": true
      },
      "execution_count": null,
      "outputs": [
        {
          "output_type": "stream",
          "name": "stdout",
          "text": [
            "Looking in indexes: https://pypi.org/simple, https://us-python.pkg.dev/colab-wheels/public/simple/\n",
            "Collecting inltk\n",
            "  Downloading inltk-0.9-py3-none-any.whl (13 kB)\n",
            "Requirement already satisfied: fastprogress>=0.1.19 in /usr/local/lib/python3.8/dist-packages (from inltk) (1.0.3)\n",
            "Collecting nvidia-ml-py3\n",
            "  Downloading nvidia-ml-py3-7.352.0.tar.gz (19 kB)\n",
            "  Preparing metadata (setup.py) ... \u001b[?25l\u001b[?25hdone\n",
            "Requirement already satisfied: pandas in /usr/local/lib/python3.8/dist-packages (from inltk) (1.3.5)\n",
            "Requirement already satisfied: beautifulsoup4 in /usr/local/lib/python3.8/dist-packages (from inltk) (4.6.3)\n",
            "Requirement already satisfied: async-timeout>=3.0.1 in /usr/local/lib/python3.8/dist-packages (from inltk) (4.0.2)\n",
            "Requirement already satisfied: scipy in /usr/local/lib/python3.8/dist-packages (from inltk) (1.7.3)\n",
            "Collecting sentencepiece\n",
            "  Downloading sentencepiece-0.1.97-cp38-cp38-manylinux_2_17_x86_64.manylinux2014_x86_64.whl (1.3 MB)\n",
            "\u001b[2K     \u001b[90m━━━━━━━━━━━━━━━━━━━━━━━━━━━━━━━━━━━━━━━━\u001b[0m \u001b[32m1.3/1.3 MB\u001b[0m \u001b[31m16.0 MB/s\u001b[0m eta \u001b[36m0:00:00\u001b[0m\n",
            "\u001b[?25hRequirement already satisfied: aiohttp>=3.5.4 in /usr/local/lib/python3.8/dist-packages (from inltk) (3.8.4)\n",
            "Requirement already satisfied: pyyaml in /usr/local/lib/python3.8/dist-packages (from inltk) (6.0)\n",
            "Requirement already satisfied: packaging in /usr/local/lib/python3.8/dist-packages (from inltk) (23.0)\n",
            "Requirement already satisfied: spacy>=2.0.18 in /usr/local/lib/python3.8/dist-packages (from inltk) (3.4.4)\n",
            "Collecting typing\n",
            "  Downloading typing-3.7.4.3.tar.gz (78 kB)\n",
            "\u001b[2K     \u001b[90m━━━━━━━━━━━━━━━━━━━━━━━━━━━━━━━━━━━━━━━━\u001b[0m \u001b[32m78.6/78.6 KB\u001b[0m \u001b[31m7.7 MB/s\u001b[0m eta \u001b[36m0:00:00\u001b[0m\n",
            "\u001b[?25h  Preparing metadata (setup.py) ... \u001b[?25l\u001b[?25hdone\n",
            "Collecting fastai==1.0.57\n",
            "  Downloading fastai-1.0.57-py3-none-any.whl (233 kB)\n",
            "\u001b[2K     \u001b[90m━━━━━━━━━━━━━━━━━━━━━━━━━━━━━━━━━━━━━━━\u001b[0m \u001b[32m233.3/233.3 KB\u001b[0m \u001b[31m9.4 MB/s\u001b[0m eta \u001b[36m0:00:00\u001b[0m\n",
            "\u001b[?25hRequirement already satisfied: requests in /usr/local/lib/python3.8/dist-packages (from inltk) (2.25.1)\n",
            "Collecting bottleneck\n",
            "  Downloading Bottleneck-1.3.6-cp38-cp38-manylinux_2_5_x86_64.manylinux1_x86_64.manylinux_2_17_x86_64.manylinux2014_x86_64.whl (355 kB)\n",
            "\u001b[2K     \u001b[90m━━━━━━━━━━━━━━━━━━━━━━━━━━━━━━━━━━━━━━\u001b[0m \u001b[32m355.2/355.2 KB\u001b[0m \u001b[31m17.1 MB/s\u001b[0m eta \u001b[36m0:00:00\u001b[0m\n",
            "\u001b[?25hRequirement already satisfied: matplotlib in /usr/local/lib/python3.8/dist-packages (from inltk) (3.5.3)\n",
            "Requirement already satisfied: numexpr in /usr/local/lib/python3.8/dist-packages (from inltk) (2.8.4)\n",
            "Requirement already satisfied: Pillow in /usr/local/lib/python3.8/dist-packages (from inltk) (7.1.2)\n",
            "Requirement already satisfied: numpy>=1.15 in /usr/local/lib/python3.8/dist-packages (from inltk) (1.22.4)\n",
            "Requirement already satisfied: torch>=1.0.0 in /usr/local/lib/python3.8/dist-packages (from fastai==1.0.57->inltk) (1.13.1+cu116)\n",
            "Requirement already satisfied: torchvision in /usr/local/lib/python3.8/dist-packages (from fastai==1.0.57->inltk) (0.14.1+cu116)\n",
            "Requirement already satisfied: charset-normalizer<4.0,>=2.0 in /usr/local/lib/python3.8/dist-packages (from aiohttp>=3.5.4->inltk) (3.0.1)\n",
            "Requirement already satisfied: attrs>=17.3.0 in /usr/local/lib/python3.8/dist-packages (from aiohttp>=3.5.4->inltk) (22.2.0)\n",
            "Requirement already satisfied: aiosignal>=1.1.2 in /usr/local/lib/python3.8/dist-packages (from aiohttp>=3.5.4->inltk) (1.3.1)\n",
            "Requirement already satisfied: multidict<7.0,>=4.5 in /usr/local/lib/python3.8/dist-packages (from aiohttp>=3.5.4->inltk) (6.0.4)\n",
            "Requirement already satisfied: frozenlist>=1.1.1 in /usr/local/lib/python3.8/dist-packages (from aiohttp>=3.5.4->inltk) (1.3.3)\n",
            "Requirement already satisfied: yarl<2.0,>=1.0 in /usr/local/lib/python3.8/dist-packages (from aiohttp>=3.5.4->inltk) (1.8.2)\n",
            "Requirement already satisfied: wasabi<1.1.0,>=0.9.1 in /usr/local/lib/python3.8/dist-packages (from spacy>=2.0.18->inltk) (0.10.1)\n",
            "Requirement already satisfied: cymem<2.1.0,>=2.0.2 in /usr/local/lib/python3.8/dist-packages (from spacy>=2.0.18->inltk) (2.0.7)\n",
            "Requirement already satisfied: jinja2 in /usr/local/lib/python3.8/dist-packages (from spacy>=2.0.18->inltk) (2.11.3)\n",
            "Requirement already satisfied: murmurhash<1.1.0,>=0.28.0 in /usr/local/lib/python3.8/dist-packages (from spacy>=2.0.18->inltk) (1.0.9)\n",
            "Requirement already satisfied: typer<0.8.0,>=0.3.0 in /usr/local/lib/python3.8/dist-packages (from spacy>=2.0.18->inltk) (0.7.0)\n",
            "Requirement already satisfied: setuptools in /usr/local/lib/python3.8/dist-packages (from spacy>=2.0.18->inltk) (57.4.0)\n",
            "Requirement already satisfied: preshed<3.1.0,>=3.0.2 in /usr/local/lib/python3.8/dist-packages (from spacy>=2.0.18->inltk) (3.0.8)\n",
            "Requirement already satisfied: spacy-legacy<3.1.0,>=3.0.10 in /usr/local/lib/python3.8/dist-packages (from spacy>=2.0.18->inltk) (3.0.12)\n",
            "Requirement already satisfied: pydantic!=1.8,!=1.8.1,<1.11.0,>=1.7.4 in /usr/local/lib/python3.8/dist-packages (from spacy>=2.0.18->inltk) (1.10.5)\n",
            "Requirement already satisfied: smart-open<7.0.0,>=5.2.1 in /usr/local/lib/python3.8/dist-packages (from spacy>=2.0.18->inltk) (6.3.0)\n",
            "Requirement already satisfied: pathy>=0.3.5 in /usr/local/lib/python3.8/dist-packages (from spacy>=2.0.18->inltk) (0.10.1)\n",
            "Requirement already satisfied: srsly<3.0.0,>=2.4.3 in /usr/local/lib/python3.8/dist-packages (from spacy>=2.0.18->inltk) (2.4.5)\n",
            "Requirement already satisfied: langcodes<4.0.0,>=3.2.0 in /usr/local/lib/python3.8/dist-packages (from spacy>=2.0.18->inltk) (3.3.0)\n",
            "Requirement already satisfied: spacy-loggers<2.0.0,>=1.0.0 in /usr/local/lib/python3.8/dist-packages (from spacy>=2.0.18->inltk) (1.0.4)\n",
            "Requirement already satisfied: tqdm<5.0.0,>=4.38.0 in /usr/local/lib/python3.8/dist-packages (from spacy>=2.0.18->inltk) (4.64.1)\n",
            "Requirement already satisfied: thinc<8.2.0,>=8.1.0 in /usr/local/lib/python3.8/dist-packages (from spacy>=2.0.18->inltk) (8.1.7)\n",
            "Requirement already satisfied: catalogue<2.1.0,>=2.0.6 in /usr/local/lib/python3.8/dist-packages (from spacy>=2.0.18->inltk) (2.0.8)\n",
            "Requirement already satisfied: chardet<5,>=3.0.2 in /usr/local/lib/python3.8/dist-packages (from requests->inltk) (3.0.4)\n",
            "Requirement already satisfied: idna<3,>=2.5 in /usr/local/lib/python3.8/dist-packages (from requests->inltk) (2.10)\n",
            "Requirement already satisfied: certifi>=2017.4.17 in /usr/local/lib/python3.8/dist-packages (from requests->inltk) (2022.12.7)\n",
            "Requirement already satisfied: urllib3<1.27,>=1.21.1 in /usr/local/lib/python3.8/dist-packages (from requests->inltk) (1.24.3)\n",
            "Requirement already satisfied: kiwisolver>=1.0.1 in /usr/local/lib/python3.8/dist-packages (from matplotlib->inltk) (1.4.4)\n",
            "Requirement already satisfied: cycler>=0.10 in /usr/local/lib/python3.8/dist-packages (from matplotlib->inltk) (0.11.0)\n",
            "Requirement already satisfied: pyparsing>=2.2.1 in /usr/local/lib/python3.8/dist-packages (from matplotlib->inltk) (3.0.9)\n",
            "Requirement already satisfied: fonttools>=4.22.0 in /usr/local/lib/python3.8/dist-packages (from matplotlib->inltk) (4.38.0)\n",
            "Requirement already satisfied: python-dateutil>=2.7 in /usr/local/lib/python3.8/dist-packages (from matplotlib->inltk) (2.8.2)\n",
            "Requirement already satisfied: pytz>=2017.3 in /usr/local/lib/python3.8/dist-packages (from pandas->inltk) (2022.7.1)\n",
            "Requirement already satisfied: typing-extensions>=4.2.0 in /usr/local/lib/python3.8/dist-packages (from pydantic!=1.8,!=1.8.1,<1.11.0,>=1.7.4->spacy>=2.0.18->inltk) (4.5.0)\n",
            "Requirement already satisfied: six>=1.5 in /usr/local/lib/python3.8/dist-packages (from python-dateutil>=2.7->matplotlib->inltk) (1.15.0)\n",
            "Requirement already satisfied: blis<0.8.0,>=0.7.8 in /usr/local/lib/python3.8/dist-packages (from thinc<8.2.0,>=8.1.0->spacy>=2.0.18->inltk) (0.7.9)\n",
            "Requirement already satisfied: confection<1.0.0,>=0.0.1 in /usr/local/lib/python3.8/dist-packages (from thinc<8.2.0,>=8.1.0->spacy>=2.0.18->inltk) (0.0.4)\n",
            "Requirement already satisfied: click<9.0.0,>=7.1.1 in /usr/local/lib/python3.8/dist-packages (from typer<0.8.0,>=0.3.0->spacy>=2.0.18->inltk) (7.1.2)\n",
            "Requirement already satisfied: MarkupSafe>=0.23 in /usr/local/lib/python3.8/dist-packages (from jinja2->spacy>=2.0.18->inltk) (2.0.1)\n",
            "Building wheels for collected packages: nvidia-ml-py3, typing\n",
            "  Building wheel for nvidia-ml-py3 (setup.py) ... \u001b[?25l\u001b[?25hdone\n",
            "  Created wheel for nvidia-ml-py3: filename=nvidia_ml_py3-7.352.0-py3-none-any.whl size=19190 sha256=882bff4cebdfbb6a0396a33e7ced0bc437be98a6cc3cd87996921d516981b2b2\n",
            "  Stored in directory: /root/.cache/pip/wheels/b9/b1/68/cb4feab29709d4155310d29a421389665dcab9eb3b679b527b\n",
            "  Building wheel for typing (setup.py) ... \u001b[?25l\u001b[?25hdone\n",
            "  Created wheel for typing: filename=typing-3.7.4.3-py3-none-any.whl size=26323 sha256=9632e80418131a1bd7e026820a5780067ab77773f658523d2fa63e42c565760e\n",
            "  Stored in directory: /root/.cache/pip/wheels/5e/5d/01/3083e091b57809dad979ea543def62d9d878950e3e74f0c930\n",
            "Successfully built nvidia-ml-py3 typing\n",
            "Installing collected packages: sentencepiece, nvidia-ml-py3, typing, bottleneck, fastai, inltk\n",
            "  Attempting uninstall: fastai\n",
            "    Found existing installation: fastai 2.7.11\n",
            "    Uninstalling fastai-2.7.11:\n",
            "      Successfully uninstalled fastai-2.7.11\n",
            "Successfully installed bottleneck-1.3.6 fastai-1.0.57 inltk-0.9 nvidia-ml-py3-7.352.0 sentencepiece-0.1.97 typing-3.7.4.3\n"
          ]
        },
        {
          "output_type": "display_data",
          "data": {
            "application/vnd.colab-display-data+json": {
              "pip_warning": {
                "packages": [
                  "typing"
                ]
              }
            }
          },
          "metadata": {}
        }
      ]
    },
    {
      "cell_type": "code",
      "source": [
        "from inltk.inltk import setup\n"
      ],
      "metadata": {
        "id": "0BQhFhOuN1uv",
        "colab": {
          "base_uri": "https://localhost:8080/"
        },
        "outputId": "f21c4d93-843f-450a-fc98-e8f70c04adfc"
      },
      "execution_count": null,
      "outputs": [
        {
          "output_type": "stream",
          "name": "stderr",
          "text": [
            "/usr/local/lib/python3.8/dist-packages/torch/cuda/__init__.py:497: UserWarning: Can't initialize NVML\n",
            "  warnings.warn(\"Can't initialize NVML\")\n"
          ]
        }
      ]
    },
    {
      "cell_type": "code",
      "source": [
        "def hindi_model():\n",
        "    train_data = indian.tagged_sents('hindi.pos')\n",
        "    tnt_pos_tagger = tnt.TnT()\n",
        "    tnt_pos_tagger.train(train_data)\n",
        "    return tnt_pos_tagger"
      ],
      "metadata": {
        "id": "EBG_cgGgs2FH"
      },
      "execution_count": null,
      "outputs": []
    },
    {
      "cell_type": "code",
      "source": [
        "with open(\"output.txt\",\"a\") as output_file:\n",
        "\n",
        "    output_file.write(str(translated))"
      ],
      "metadata": {
        "id": "U41yopW7tloW"
      },
      "execution_count": null,
      "outputs": []
    },
    {
      "cell_type": "code",
      "source": [
        "!cat output.txt"
      ],
      "metadata": {
        "colab": {
          "base_uri": "https://localhost:8080/"
        },
        "id": "a1_3keZLt_T2",
        "outputId": "1e0c3b83-4fc2-433e-de2d-158dc099d879"
      },
      "execution_count": null,
      "outputs": [
        {
          "output_type": "stream",
          "name": "stdout",
          "text": [
            "Translated(src=en, dest=hi, text=अटलांटिक सिटी सी वेंटनॉर सी मार्गेट सी ओ सी में 0 नीचे...\n",
            "1 म्यूजिकल अवेयरनेस ग्रेट बिग ब्यूटीफुल टुमॉरो...\n",
            "2 रेडियो एफएम पर शुक्रवार अक्टूबर श्रम विश्लेषक शॉन हट्टी ...\n",
            "3 कपन सिह लो न्गेबुक्टिन सीजन एनगोमॉन्ग दोआंग सुस...\n",
            "4 कल आओ और बहस सुनो नया एच नेविगेट करना ...\n",
            "                              ...\n",
            "9679 RT यह सोमवार है और सोमवार की रात फुटबॉल चालू है...\n",
            "9680 मुझे बस इतना पता है कि आज रात उस के लिए सड़क शुरू होगी...\n",
            "9681 ऑल ब्लू एंड व्हाइट फैम हम गोल्डन में मिल रहे हैं ...\n",
            "9682 आज रात ताम्पा खाड़ी के खिलाफ एक शानदार खेल खेलें\n",
            "9683 मुझे लगता है कि मैंने डलास में किड क्यूडी के शो को मिस कर दिया...\n",
            "नाम: clean_tweet, लंबाई: 13497, dtype: वस्तु, pronunciation=[[]], extra_data=\"{'translat...\")"
          ]
        }
      ]
    },
    {
      "cell_type": "markdown",
      "source": [
        "Till translation its ok"
      ],
      "metadata": {
        "id": "Bba3AaOMLYUA"
      }
    },
    {
      "cell_type": "code",
      "source": [
        "pip install indicnlp"
      ],
      "metadata": {
        "colab": {
          "base_uri": "https://localhost:8080/"
        },
        "id": "z6B-WBi-PYMi",
        "outputId": "77110047-b7a3-4d11-b7cc-56afd4dc1b66"
      },
      "execution_count": null,
      "outputs": [
        {
          "output_type": "stream",
          "name": "stdout",
          "text": [
            "Looking in indexes: https://pypi.org/simple, https://us-python.pkg.dev/colab-wheels/public/simple/\n",
            "Collecting indicnlp\n",
            "  Downloading indicnlp-0.0.1-py3-none-any.whl (13 kB)\n",
            "Installing collected packages: indicnlp\n",
            "Successfully installed indicnlp-0.0.1\n"
          ]
        }
      ]
    },
    {
      "cell_type": "code",
      "source": [
        "pip install indic-nlp-library"
      ],
      "metadata": {
        "colab": {
          "base_uri": "https://localhost:8080/",
          "height": 852
        },
        "id": "__KMaq9WQiNx",
        "outputId": "38443419-6e0d-4fa8-a91d-f2102c176b95"
      },
      "execution_count": null,
      "outputs": [
        {
          "output_type": "stream",
          "name": "stdout",
          "text": [
            "Looking in indexes: https://pypi.org/simple, https://us-python.pkg.dev/colab-wheels/public/simple/\n",
            "Collecting indic-nlp-library\n",
            "  Downloading indic_nlp_library-0.81-py3-none-any.whl (40 kB)\n",
            "\u001b[2K     \u001b[90m━━━━━━━━━━━━━━━━━━━━━━━━━━━━━━━━━━━━━━━━\u001b[0m \u001b[32m40.1/40.1 KB\u001b[0m \u001b[31m3.2 MB/s\u001b[0m eta \u001b[36m0:00:00\u001b[0m\n",
            "\u001b[?25hCollecting morfessor\n",
            "  Downloading Morfessor-2.0.6-py3-none-any.whl (35 kB)\n",
            "Requirement already satisfied: numpy in /usr/local/lib/python3.8/dist-packages (from indic-nlp-library) (1.22.4)\n",
            "Collecting sphinx-argparse\n",
            "  Downloading sphinx_argparse-0.4.0-py3-none-any.whl (12 kB)\n",
            "Requirement already satisfied: pandas in /usr/local/lib/python3.8/dist-packages (from indic-nlp-library) (1.3.5)\n",
            "Collecting sphinx-rtd-theme\n",
            "  Downloading sphinx_rtd_theme-1.2.0-py2.py3-none-any.whl (2.8 MB)\n",
            "\u001b[2K     \u001b[90m━━━━━━━━━━━━━━━━━━━━━━━━━━━━━━━━━━━━━━━━\u001b[0m \u001b[32m2.8/2.8 MB\u001b[0m \u001b[31m32.7 MB/s\u001b[0m eta \u001b[36m0:00:00\u001b[0m\n",
            "\u001b[?25hRequirement already satisfied: pytz>=2017.3 in /usr/local/lib/python3.8/dist-packages (from pandas->indic-nlp-library) (2022.7.1)\n",
            "Requirement already satisfied: python-dateutil>=2.7.3 in /usr/local/lib/python3.8/dist-packages (from pandas->indic-nlp-library) (2.8.2)\n",
            "Requirement already satisfied: sphinx>=1.2.0 in /usr/local/lib/python3.8/dist-packages (from sphinx-argparse->indic-nlp-library) (3.5.4)\n",
            "Requirement already satisfied: docutils<0.19 in /usr/local/lib/python3.8/dist-packages (from sphinx-rtd-theme->indic-nlp-library) (0.16)\n",
            "Collecting sphinxcontrib-jquery!=3.0.0,>=2.0.0\n",
            "  Downloading sphinxcontrib_jquery-2.0.0-py3-none-any.whl (3.2 kB)\n",
            "Requirement already satisfied: six>=1.5 in /usr/local/lib/python3.8/dist-packages (from python-dateutil>=2.7.3->pandas->indic-nlp-library) (1.15.0)\n",
            "Requirement already satisfied: alabaster<0.8,>=0.7 in /usr/local/lib/python3.8/dist-packages (from sphinx>=1.2.0->sphinx-argparse->indic-nlp-library) (0.7.13)\n",
            "Requirement already satisfied: sphinxcontrib-jsmath in /usr/local/lib/python3.8/dist-packages (from sphinx>=1.2.0->sphinx-argparse->indic-nlp-library) (1.0.1)\n",
            "Requirement already satisfied: Jinja2>=2.3 in /usr/local/lib/python3.8/dist-packages (from sphinx>=1.2.0->sphinx-argparse->indic-nlp-library) (2.11.3)\n",
            "Requirement already satisfied: Pygments>=2.0 in /usr/local/lib/python3.8/dist-packages (from sphinx>=1.2.0->sphinx-argparse->indic-nlp-library) (2.6.1)\n",
            "Requirement already satisfied: sphinxcontrib-qthelp in /usr/local/lib/python3.8/dist-packages (from sphinx>=1.2.0->sphinx-argparse->indic-nlp-library) (1.0.3)\n",
            "Requirement already satisfied: imagesize in /usr/local/lib/python3.8/dist-packages (from sphinx>=1.2.0->sphinx-argparse->indic-nlp-library) (1.4.1)\n",
            "Requirement already satisfied: packaging in /usr/local/lib/python3.8/dist-packages (from sphinx>=1.2.0->sphinx-argparse->indic-nlp-library) (23.0)\n",
            "Requirement already satisfied: sphinxcontrib-serializinghtml in /usr/local/lib/python3.8/dist-packages (from sphinx>=1.2.0->sphinx-argparse->indic-nlp-library) (1.1.5)\n",
            "Requirement already satisfied: setuptools in /usr/local/lib/python3.8/dist-packages (from sphinx>=1.2.0->sphinx-argparse->indic-nlp-library) (57.4.0)\n",
            "Requirement already satisfied: sphinxcontrib-devhelp in /usr/local/lib/python3.8/dist-packages (from sphinx>=1.2.0->sphinx-argparse->indic-nlp-library) (1.0.2)\n",
            "Requirement already satisfied: sphinxcontrib-applehelp in /usr/local/lib/python3.8/dist-packages (from sphinx>=1.2.0->sphinx-argparse->indic-nlp-library) (1.0.4)\n",
            "Requirement already satisfied: babel>=1.3 in /usr/local/lib/python3.8/dist-packages (from sphinx>=1.2.0->sphinx-argparse->indic-nlp-library) (2.11.0)\n",
            "Requirement already satisfied: sphinxcontrib-htmlhelp in /usr/local/lib/python3.8/dist-packages (from sphinx>=1.2.0->sphinx-argparse->indic-nlp-library) (2.0.1)\n",
            "Requirement already satisfied: snowballstemmer>=1.1 in /usr/local/lib/python3.8/dist-packages (from sphinx>=1.2.0->sphinx-argparse->indic-nlp-library) (2.2.0)\n",
            "Requirement already satisfied: requests>=2.5.0 in /usr/local/lib/python3.8/dist-packages (from sphinx>=1.2.0->sphinx-argparse->indic-nlp-library) (2.25.1)\n",
            "Requirement already satisfied: MarkupSafe>=0.23 in /usr/local/lib/python3.8/dist-packages (from Jinja2>=2.3->sphinx>=1.2.0->sphinx-argparse->indic-nlp-library) (2.0.1)\n",
            "Requirement already satisfied: chardet<5,>=3.0.2 in /usr/local/lib/python3.8/dist-packages (from requests>=2.5.0->sphinx>=1.2.0->sphinx-argparse->indic-nlp-library) (3.0.4)\n",
            "Requirement already satisfied: idna<3,>=2.5 in /usr/local/lib/python3.8/dist-packages (from requests>=2.5.0->sphinx>=1.2.0->sphinx-argparse->indic-nlp-library) (2.10)\n",
            "Requirement already satisfied: urllib3<1.27,>=1.21.1 in /usr/local/lib/python3.8/dist-packages (from requests>=2.5.0->sphinx>=1.2.0->sphinx-argparse->indic-nlp-library) (1.24.3)\n",
            "Requirement already satisfied: certifi>=2017.4.17 in /usr/local/lib/python3.8/dist-packages (from requests>=2.5.0->sphinx>=1.2.0->sphinx-argparse->indic-nlp-library) (2022.12.7)\n",
            "Installing collected packages: morfessor, sphinxcontrib-jquery, sphinx-rtd-theme, sphinx-argparse, indic-nlp-library\n",
            "Successfully installed indic-nlp-library-0.81 morfessor-2.0.6 sphinx-argparse-0.4.0 sphinx-rtd-theme-1.2.0 sphinxcontrib-jquery-2.0.0\n"
          ]
        },
        {
          "output_type": "display_data",
          "data": {
            "application/vnd.colab-display-data+json": {
              "pip_warning": {
                "packages": [
                  "sphinxcontrib"
                ]
              }
            }
          },
          "metadata": {}
        }
      ]
    },
    {
      "cell_type": "code",
      "source": [
        "pip install indicnlp.pos"
      ],
      "metadata": {
        "colab": {
          "base_uri": "https://localhost:8080/"
        },
        "id": "tW2OIJiGR0mK",
        "outputId": "608a17f5-d405-4ad9-f8b1-4f0996782031"
      },
      "execution_count": null,
      "outputs": [
        {
          "output_type": "stream",
          "name": "stdout",
          "text": [
            "Looking in indexes: https://pypi.org/simple, https://us-python.pkg.dev/colab-wheels/public/simple/\n",
            "\u001b[31mERROR: Could not find a version that satisfies the requirement indicnlp.pos (from versions: none)\u001b[0m\u001b[31m\n",
            "\u001b[0m\u001b[31mERROR: No matching distribution found for indicnlp.pos\u001b[0m\u001b[31m\n",
            "\u001b[0m"
          ]
        }
      ]
    },
    {
      "cell_type": "code",
      "source": [
        "pip install indic-nlp-library"
      ],
      "metadata": {
        "id": "ISbQ6nmmaEIY"
      },
      "execution_count": null,
      "outputs": []
    },
    {
      "cell_type": "code",
      "source": [
        "!pip install indic-nlp-library\n",
        "!pip install morfessor\n",
        "!pip install sklearn_crfsuite\n",
        "!python -m indicnlp.download\n"
      ],
      "metadata": {
        "id": "a9wpn_mFYKaC"
      },
      "execution_count": null,
      "outputs": []
    },
    {
      "cell_type": "code",
      "source": [
        "!pip install torch==1.10.1+cu111 -f https://download.pytorch.org/whl/cu111/torch_stable.html\n",
        "!pip install numpy==1.21.5\n"
      ],
      "metadata": {
        "id": "P9ZpdQ8OckSb"
      },
      "execution_count": null,
      "outputs": []
    },
    {
      "cell_type": "code",
      "source": [
        "!pip install stanfordnlp==0.2.0\n",
        "\n",
        "import stanfordnlp\n",
        "\n",
        "# Download the Hindi model for stanfordnlp\n",
        "stanfordnlp.download('hi')\n",
        "\n",
        "# Load the Hindi model\n",
        "nlp = stanfordnlp.Pipeline(lang='hi')\n",
        "\n",
        "# Hindi sentence to be POS tagged\n",
        "sentence = 'यह एक हिंदी वाक्य है।'\n",
        "\n",
        "# Perform POS tagging\n",
        "doc = nlp(sentence)\n",
        "for sentence in doc.sentences:\n",
        "    for word in sentence.words:\n",
        "        print(f\"{word.text}\\t{word.upos}\")\n"
      ],
      "metadata": {
        "id": "_I-XnND_b2AX"
      },
      "execution_count": null,
      "outputs": []
    },
    {
      "cell_type": "code",
      "source": [
        "import torch\n",
        "\n",
        "indices = torch.tensor([0, 2, 1])\n",
        "indices = indices.type(torch.int64)\n"
      ],
      "metadata": {
        "id": "fIDArO6KhI95"
      },
      "execution_count": null,
      "outputs": []
    },
    {
      "cell_type": "code",
      "source": [
        "# Define the list of indices\n",
        "indices = [0, 1, 2, 0, 1, 2]\n",
        "\n",
        "# Convert the indices to a torch tensor of dtype torch.int64\n",
        "positions = torch.tensor(indices).type(torch.int64)\n"
      ],
      "metadata": {
        "id": "Op-NlyYeht2N"
      },
      "execution_count": null,
      "outputs": []
    },
    {
      "cell_type": "code",
      "source": [
        "# Convert indices to torch tensor of dtype torch.int64\n",
        "# Define scores for each element\n",
        "score = [0.1, 0.5, 0.3, 0.2, 0.4]\n",
        "beam_size = 5\n",
        "\n",
        "# Convert indices to torch tensor of dtype torch.int64\n",
        "\n",
        "positions = torch.tensor(sorted(range(len(score)), key=lambda i: score[i], reverse=True)[:beam_size]).to(torch.int32)\n",
        "\n",
        "\n",
        "\n",
        "\n",
        "# Use the modified state update function\n",
        "# Use the modified state update function\n",
        "def update_state(states, idx, positions, beam_size):\n",
        "    for k in states.keys():\n",
        "        if type(states[k]) is tuple:\n",
        "            # LSTM state: tuple of h and c\n",
        "            h, c = states[k]\n",
        "            states[k] = (h.index_select(0, positions), c.index_select(0, positions))\n",
        "        else:\n",
        "            # Embedding and linear layers: simply index select\n",
        "            states[k] = states[k].index_select(0, positions)\n",
        "\n",
        "# Perform POS tagging\n",
        "doc = nlp(sentence)\n",
        "for sentence in doc.sentences:\n",
        "    for word in sentence.words:\n",
        "        print(f\"{word.text}\\t{word.upos}\")\n",
        "\n"
      ],
      "metadata": {
        "id": "JEJNAg6phL1V"
      },
      "execution_count": null,
      "outputs": []
    },
    {
      "cell_type": "code",
      "source": [
        "def process_file(_file, tagger, stemmer, stopwords, filename, printinfo):\n",
        "    sentences = []\n",
        "    _nnp = set()\n",
        "    words = dict()\n",
        "    for line in _file:\n",
        "        for sentence in nltk.tokenize.sent_tokenize(line):\n",
        "            sentences.append(nltk.tokenize.word_tokenize(sentence))\n",
        "    sent_count = 0\n",
        "    for sentence in sentences:\n",
        "        sent_count+=1\n",
        "        tags = tagger.tag(sentence)\n",
        "        for tag in tags:\n",
        "            if tag[1] == \"NNP\" or tag[1] == \"NNPS\":\n",
        "                _nnp.add(tag[0])\n",
        "            else:\n",
        "                if tag[0] not in stopwords:\n",
        "                    stemmed_word = stemmer.stem(tag[0])\n",
        "                    if stemmed_word not in words.keys():\n",
        "                        words[stemmed_word] = 1\n",
        "                    else:\n",
        "                        words[stemmed_word] += 1\n",
        "        print(\"\\r[{0}] Reading file '{1}'[{2:>3.1%}] \".format(printinfo, filename, sent_count/len(sentences)), end='')\n",
        "return _nnp, words"
      ],
      "metadata": {
        "id": "byHf79rYrryb"
      },
      "execution_count": null,
      "outputs": []
    }
  ]
}