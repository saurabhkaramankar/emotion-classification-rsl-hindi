{
  "nbformat": 4,
  "nbformat_minor": 0,
  "metadata": {
    "colab": {
      "provenance": []
    },
    "kernelspec": {
      "name": "python3",
      "display_name": "Python 3"
    },
    "language_info": {
      "name": "python"
    }
  },
  "cells": [
    {
      "cell_type": "code",
      "execution_count": null,
      "metadata": {
        "id": "aXn9Fb-DkvTU"
      },
      "outputs": [],
      "source": [
        "#according to algo 3 we need to traverse emotionet in order to get subgraph, however i went to the networkx documentation in which internal working of subgraph is similar to the \n",
        "#one mentioned in paper.\n",
        "#https://networkx.org/documentation/stable/reference/algorithms/traversal.html\n",
        "\n",
        "#In below link examples section shows how we can get list but for that we need to pass subnodes.\n",
        "#https://networkx.org/documentation/stable/reference/classes/generated/networkx.Graph.subgraph.html\n",
        "\n"
      ]
    },
    {
      "cell_type": "code",
      "source": [
        "उम्मीद बददिममग  डर चिढ़ घृणा हर्ष मनोरंजन आमोद नासमज मुर्ख बेवक़ूफ़ चिढ़ रोष नाराजगी अनिच्छा अरुचि नापसंद नफरत अस्वीकृति नकार \n",
        "उम्मीद बददिममग  डर गुस्सा घृणा हर्ष मनोरंजन आमोद नासमज मुर्ख बेवक़ूफ़ चिढ़ रोष नाराजगी अनिच्छा अरुचि नापसंद नफरत अस्वीकृति नकार "
      ],
      "metadata": {
        "id": "5Ognk9Nb2Ame"
      },
      "execution_count": null,
      "outputs": []
    },
    {
      "cell_type": "markdown",
      "source": [
        "#Rough"
      ],
      "metadata": {
        "id": "DB83CjYDNTvn"
      }
    },
    {
      "cell_type": "code",
      "source": [
        "import networkx as nx\n",
        "\n",
        "# Create a sample graph\n",
        "G = nx.Graph()\n",
        "G.add_edges_from([(1,2), (2,3), (3,4), (4,1), (1,5)])\n",
        "\n",
        "# Compute betweenness centrality\n",
        "bc = nx.betweenness_centrality(G)\n",
        "\n",
        "# Print the betweenness centrality of each node\n",
        "for node, centrality in bc.items():\n",
        "    print(f\" {node}: Betweenness centrality = {centrality}\")\n"
      ],
      "metadata": {
        "colab": {
          "base_uri": "https://localhost:8080/"
        },
        "id": "rvGM87pH27ZU",
        "outputId": "df40a34f-f1e8-4d08-9e87-b7d314c58274"
      },
      "execution_count": null,
      "outputs": [
        {
          "output_type": "stream",
          "name": "stdout",
          "text": [
            " 1: Betweenness centrality = 0.5833333333333333\n",
            " 2: Betweenness centrality = 0.16666666666666666\n",
            " 3: Betweenness centrality = 0.08333333333333333\n",
            " 4: Betweenness centrality = 0.16666666666666666\n",
            " 5: Betweenness centrality = 0.0\n"
          ]
        }
      ]
    },
    {
      "cell_type": "code",
      "source": [
        "#example graph\n",
        "#after pos tagging and neccessary extractions list can be passed on to sub_nodes\n",
        "# the list of hindi labelled nodes will acts as the sub_nodes of the subgraph\n",
        "#the subgraph function will return the subgraph from the main graph but it will give graph of only the subnodes not other nodes\n",
        "#that is why i created my own graph which was similar to the shown one in pdf\n",
        "#we can pass list in subnodes and interpret as if we got subgraph by showing the graph we created .\n",
        "import networkx as nx\n",
        "\n",
        "# create a graph\n",
        "G = nx.Graph()\n",
        "G.add_edges_from([(1,2), (2,3), (3,4), (4,1), (3,5)])\n",
        "\n",
        "# create a subgraph from nodes 2, 3, and 4\n",
        "sub_nodes = [2, 3, 4]\n",
        "subgraph = G.subgraph(sub_nodes)\n",
        "\n",
        "# visualize the subgraph\n",
        "nx.draw(subgraph, with_labels=True)\n"
      ],
      "metadata": {
        "id": "MhJVQB6AoxR7",
        "colab": {
          "base_uri": "https://localhost:8080/",
          "height": 516
        },
        "outputId": "988de214-ca80-4b51-f5df-4f0dbdf24506"
      },
      "execution_count": null,
      "outputs": [
        {
          "output_type": "display_data",
          "data": {
            "text/plain": [
              "<Figure size 640x480 with 1 Axes>"
            ],
            "image/png": "[encoded data removed]"
          },
          "metadata": {}
        }
      ]
    },
    {
      "cell_type": "markdown",
      "source": [
        "Rough work"
      ],
      "metadata": {
        "id": "RJfEe2rPEtSI"
      }
    },
    {
      "cell_type": "code",
      "source": [
        "#below codes are rough work i ws trying for hindi labels to be shown unfortunately the font family for hindi is not available\n",
        "import networkx as nx\n",
        "import matplotlib.pyplot as plt\n",
        "\n",
        "# Create a new empty graph\n",
        "G = nx.Graph()\n",
        "\n",
        "# Add nodes with Hindi labels\n",
        "G.add_node(1, label='अ')\n",
        "G.add_node(2, label='आ')\n",
        "G.add_node(3, label='इ')\n",
        "G.add_node(4, label='ई')\n",
        "G.add_node(5, label='उ')\n",
        "G.add_node(6, label='ऊ')\n",
        "\n",
        "# Add edges between nodes\n",
        "G.add_edge(1, 2)\n",
        "G.add_edge(2, 3)\n",
        "G.add_edge(3, 4)\n",
        "G.add_edge(4, 5)\n",
        "G.add_edge(5, 6)\n",
        "G.add_edge(6, 1)\n",
        "\n",
        "# Draw the graph with labels\n",
        "pos = nx.spring_layout(G)\n",
        "nx.draw(G, pos)\n",
        "labels = nx.get_node_attributes(G, 'label')\n",
        "nx.draw_networkx_labels(G, pos, labels, font_size=16, font_family='Arial')\n",
        "\n",
        "plt.show()\n"
      ],
      "metadata": {
        "colab": {
          "base_uri": "https://localhost:8080/",
          "height": 863
        },
        "id": "kxIdWf4vpVNm",
        "outputId": "932fed46-124b-44e0-abac-fd5a875e53a6"
      },
      "execution_count": null,
      "outputs": [
        {
          "output_type": "stream",
          "name": "stderr",
          "text": [
            "WARNING:matplotlib.font_manager:findfont: Font family 'Arial' not found.\n",
            "WARNING:matplotlib.font_manager:findfont: Font family 'Arial' not found.\n",
            "WARNING:matplotlib.font_manager:findfont: Font family 'Arial' not found.\n",
            "WARNING:matplotlib.font_manager:findfont: Font family 'Arial' not found.\n",
            "WARNING:matplotlib.font_manager:findfont: Font family 'Arial' not found.\n",
            "WARNING:matplotlib.font_manager:findfont: Font family 'Arial' not found.\n",
            "WARNING:matplotlib.font_manager:findfont: Font family 'Arial' not found.\n",
            "WARNING:matplotlib.font_manager:findfont: Font family 'Arial' not found.\n",
            "WARNING:matplotlib.font_manager:findfont: Font family 'Arial' not found.\n",
            "WARNING:matplotlib.font_manager:findfont: Font family 'Arial' not found.\n",
            "WARNING:matplotlib.font_manager:findfont: Font family 'Arial' not found.\n",
            "WARNING:matplotlib.font_manager:findfont: Font family 'Arial' not found.\n",
            "WARNING:matplotlib.font_manager:findfont: Font family 'Arial' not found.\n",
            "WARNING:matplotlib.font_manager:findfont: Font family 'Arial' not found.\n",
            "WARNING:matplotlib.font_manager:findfont: Font family 'Arial' not found.\n",
            "WARNING:matplotlib.font_manager:findfont: Font family 'Arial' not found.\n",
            "WARNING:matplotlib.font_manager:findfont: Font family 'Arial' not found.\n",
            "WARNING:matplotlib.font_manager:findfont: Font family 'Arial' not found.\n",
            "WARNING:matplotlib.font_manager:findfont: Font family 'Arial' not found.\n",
            "WARNING:matplotlib.font_manager:findfont: Font family 'Arial' not found.\n"
          ]
        },
        {
          "output_type": "display_data",
          "data": {
            "text/plain": [
              "<Figure size 640x480 with 1 Axes>"
            ],
            "image/png": "[encoded data removed]"
          },
          "metadata": {}
        }
      ]
    },
    {
      "cell_type": "code",
      "source": [
        "import networkx as nx\n",
        "import matplotlib.pyplot as plt\n",
        "plt.rcParams[\"font.family\"] = \"Nirmala UI\" # or any other Hindi font you have installed\n",
        "\n",
        "# create a graph\n",
        "G = nx.Graph()\n",
        "\n",
        "# add nodes with Hindi labels\n",
        "G.add_node(1, label=\"मानव\")\n",
        "G.add_node(2, label=\"जीव\")\n",
        "G.add_node(3, label=\"वनस्पति\")\n",
        "\n",
        "# add edges\n",
        "G.add_edge(1, 2)\n",
        "G.add_edge(2, 3)\n",
        "\n",
        "# draw the graph with Hindi labels\n",
        "pos = nx.spring_layout(G)\n",
        "nx.draw(G, pos)\n",
        "labels = nx.get_node_attributes(G, \"label\")\n",
        "nx.draw_networkx_labels(G, pos, labels, font_size=16, font_family=\"Nirmala UI\")\n",
        "plt.show()\n"
      ],
      "metadata": {
        "colab": {
          "base_uri": "https://localhost:8080/",
          "height": 707
        },
        "id": "aIv7TYeppyn8",
        "outputId": "6bdbd58a-1072-4ed4-b810-27c88259e81b"
      },
      "execution_count": null,
      "outputs": [
        {
          "output_type": "stream",
          "name": "stderr",
          "text": [
            "WARNING:matplotlib.font_manager:findfont: Font family 'Nirmala UI' not found.\n",
            "WARNING:matplotlib.font_manager:findfont: Font family 'Nirmala UI' not found.\n",
            "WARNING:matplotlib.font_manager:findfont: Font family 'Nirmala UI' not found.\n",
            "WARNING:matplotlib.font_manager:findfont: Font family 'Nirmala UI' not found.\n",
            "WARNING:matplotlib.font_manager:findfont: Font family 'Nirmala UI' not found.\n",
            "WARNING:matplotlib.font_manager:findfont: Font family 'Nirmala UI' not found.\n",
            "WARNING:matplotlib.font_manager:findfont: Font family 'Nirmala UI' not found.\n",
            "WARNING:matplotlib.font_manager:findfont: Font family 'Nirmala UI' not found.\n",
            "WARNING:matplotlib.font_manager:findfont: Font family 'Nirmala UI' not found.\n",
            "WARNING:matplotlib.font_manager:findfont: Font family 'Nirmala UI' not found.\n",
            "WARNING:matplotlib.font_manager:findfont: Font family 'Nirmala UI' not found.\n"
          ]
        },
        {
          "output_type": "display_data",
          "data": {
            "text/plain": [
              "<Figure size 640x480 with 1 Axes>"
            ],
            "image/png": "[encoded data removed]"
          },
          "metadata": {}
        }
      ]
    },
    {
      "cell_type": "code",
      "source": [
        "!sudo apt-get install fonts-indic\n",
        "\n",
        "import matplotlib.pyplot as plt\n",
        "plt.rcParams[\"font.family\"] = \"Nirmala UI\"\n"
      ],
      "metadata": {
        "colab": {
          "base_uri": "https://localhost:8080/"
        },
        "id": "CNxYz03TqGeG",
        "outputId": "dd15e6ff-9067-4929-ab51-ae6b73d7195e"
      },
      "execution_count": null,
      "outputs": [
        {
          "output_type": "stream",
          "name": "stdout",
          "text": [
            "Reading package lists... Done\n",
            "Building dependency tree       \n",
            "Reading state information... Done\n",
            "The following additional packages will be installed:\n",
            "  fonts-beng fonts-beng-extra fonts-deva fonts-deva-extra fonts-gargi\n",
            "  fonts-gubbi fonts-gujr fonts-gujr-extra fonts-guru fonts-guru-extra\n",
            "  fonts-kalapi fonts-knda fonts-lohit-beng-assamese fonts-lohit-beng-bengali\n",
            "  fonts-lohit-deva fonts-lohit-gujr fonts-lohit-guru fonts-lohit-knda\n",
            "  fonts-lohit-mlym fonts-lohit-orya fonts-lohit-taml\n",
            "  fonts-lohit-taml-classical fonts-lohit-telu fonts-mlym fonts-nakula\n",
            "  fonts-navilu fonts-orya fonts-orya-extra fonts-pagul fonts-sahadeva\n",
            "  fonts-samyak-deva fonts-samyak-gujr fonts-samyak-mlym fonts-samyak-taml\n",
            "  fonts-sarai fonts-smc fonts-smc-anjalioldlipi fonts-smc-chilanka\n",
            "  fonts-smc-dyuthi fonts-smc-gayathri fonts-smc-karumbi fonts-smc-keraleeyam\n",
            "  fonts-smc-manjari fonts-smc-meera fonts-smc-rachana\n",
            "  fonts-smc-raghumalayalamsans fonts-smc-suruma fonts-smc-uroob fonts-taml\n",
            "  fonts-telu fonts-telu-extra fonts-yrsa-rasa\n",
            "The following NEW packages will be installed:\n",
            "  fonts-beng fonts-beng-extra fonts-deva fonts-deva-extra fonts-gargi\n",
            "  fonts-gubbi fonts-gujr fonts-gujr-extra fonts-guru fonts-guru-extra\n",
            "  fonts-indic fonts-kalapi fonts-knda fonts-lohit-beng-assamese\n",
            "  fonts-lohit-beng-bengali fonts-lohit-deva fonts-lohit-gujr fonts-lohit-guru\n",
            "  fonts-lohit-knda fonts-lohit-mlym fonts-lohit-orya fonts-lohit-taml\n",
            "  fonts-lohit-taml-classical fonts-lohit-telu fonts-mlym fonts-nakula\n",
            "  fonts-navilu fonts-orya fonts-orya-extra fonts-pagul fonts-sahadeva\n",
            "  fonts-samyak-deva fonts-samyak-gujr fonts-samyak-mlym fonts-samyak-taml\n",
            "  fonts-sarai fonts-smc fonts-smc-anjalioldlipi fonts-smc-chilanka\n",
            "  fonts-smc-dyuthi fonts-smc-gayathri fonts-smc-karumbi fonts-smc-keraleeyam\n",
            "  fonts-smc-manjari fonts-smc-meera fonts-smc-rachana\n",
            "  fonts-smc-raghumalayalamsans fonts-smc-suruma fonts-smc-uroob fonts-taml\n",
            "  fonts-telu fonts-telu-extra fonts-yrsa-rasa\n",
            "0 upgraded, 53 newly installed, 0 to remove and 24 not upgraded.\n",
            "Need to get 5,003 kB of archives.\n",
            "After this operation, 15.9 MB of additional disk space will be used.\n",
            "Get:1 http://archive.ubuntu.com/ubuntu focal/main amd64 fonts-deva-extra all 3.0-5 [577 kB]\n",
            "Get:2 http://archive.ubuntu.com/ubuntu focal/main amd64 fonts-kalapi all 1.0-3 [116 kB]\n",
            "Get:3 http://archive.ubuntu.com/ubuntu focal/main amd64 fonts-smc-anjalioldlipi all 7.1.2-1 [98.5 kB]\n",
            "Get:4 http://archive.ubuntu.com/ubuntu focal/main amd64 fonts-smc-chilanka all 1.400-1 [168 kB]\n",
            "Get:5 http://archive.ubuntu.com/ubuntu focal/main amd64 fonts-smc-dyuthi all 3.0.2-1 [112 kB]\n",
            "Get:6 http://archive.ubuntu.com/ubuntu focal/main amd64 fonts-smc-gayathri all 1.100-1 [291 kB]\n",
            "Get:7 http://archive.ubuntu.com/ubuntu focal/main amd64 fonts-smc-karumbi all 1.1.2-1 [213 kB]\n",
            "Get:8 http://archive.ubuntu.com/ubuntu focal/main amd64 fonts-smc-keraleeyam all 3.0.2-1 [98.6 kB]\n",
            "Get:9 http://archive.ubuntu.com/ubuntu focal/main amd64 fonts-smc-manjari all 1.710-1 [262 kB]\n",
            "Get:10 http://archive.ubuntu.com/ubuntu focal/main amd64 fonts-smc-meera all 7.0.3-1 [142 kB]\n",
            "Get:11 http://archive.ubuntu.com/ubuntu focal/main amd64 fonts-smc-rachana all 7.0.2-1 [270 kB]\n",
            "Get:12 http://archive.ubuntu.com/ubuntu focal/main amd64 fonts-smc-raghumalayalamsans all 2.2.1-1 [33.6 kB]\n",
            "Get:13 http://archive.ubuntu.com/ubuntu focal/main amd64 fonts-smc-suruma all 3.2.3-1 [81.0 kB]\n",
            "Get:14 http://archive.ubuntu.com/ubuntu focal/main amd64 fonts-smc-uroob all 2.0.2-1 [75.9 kB]\n",
            "Get:15 http://archive.ubuntu.com/ubuntu focal/main amd64 fonts-smc all 1:7.1 [3,932 B]\n",
            "Get:16 http://archive.ubuntu.com/ubuntu focal/main amd64 fonts-lohit-beng-bengali all 2.91.5-1 [66.7 kB]\n",
            "Get:17 http://archive.ubuntu.com/ubuntu focal/main amd64 fonts-lohit-beng-assamese all 2.91.5-1 [66.7 kB]\n",
            "Get:18 http://archive.ubuntu.com/ubuntu focal/main amd64 fonts-beng-extra all 1.0-7 [290 kB]\n",
            "Get:19 http://archive.ubuntu.com/ubuntu focal/main amd64 fonts-beng all 2:1.2 [2,852 B]\n",
            "Get:20 http://archive.ubuntu.com/ubuntu focal/main amd64 fonts-lohit-deva all 2.95.4-4 [78.9 kB]\n",
            "Get:21 http://archive.ubuntu.com/ubuntu focal/main amd64 fonts-sahadeva all 1.0-4 [136 kB]\n",
            "Get:22 http://archive.ubuntu.com/ubuntu focal/main amd64 fonts-nakula all 1.0-3 [167 kB]\n",
            "Get:23 http://archive.ubuntu.com/ubuntu focal/main amd64 fonts-samyak-deva all 1.2.2-4 [65.1 kB]\n",
            "Get:24 http://archive.ubuntu.com/ubuntu focal/main amd64 fonts-deva all 2:1.2 [2,918 B]\n",
            "Get:25 http://archive.ubuntu.com/ubuntu focal/main amd64 fonts-gargi all 2.0-4 [42.4 kB]\n",
            "Get:26 http://archive.ubuntu.com/ubuntu focal/main amd64 fonts-gubbi all 1.3-3 [59.4 kB]\n",
            "Get:27 http://archive.ubuntu.com/ubuntu focal/main amd64 fonts-gujr-extra all 1.0.1-1 [150 kB]\n",
            "Get:28 http://archive.ubuntu.com/ubuntu focal/main amd64 fonts-lohit-gujr all 2.92.4-4 [35.2 kB]\n",
            "Get:29 http://archive.ubuntu.com/ubuntu focal/main amd64 fonts-samyak-gujr all 1.2.2-4 [51.6 kB]\n",
            "Get:30 http://archive.ubuntu.com/ubuntu focal/main amd64 fonts-yrsa-rasa all 1.002-2 [356 kB]\n",
            "Get:31 http://archive.ubuntu.com/ubuntu focal/main amd64 fonts-gujr all 2:1.3 [2,992 B]\n",
            "Get:32 http://archive.ubuntu.com/ubuntu focal/main amd64 fonts-lohit-guru all 2.91.2-1 [20.8 kB]\n",
            "Get:33 http://archive.ubuntu.com/ubuntu focal/main amd64 fonts-guru-extra all 2.0-5 [44.4 kB]\n",
            "Get:34 http://archive.ubuntu.com/ubuntu focal/main amd64 fonts-guru all 2:1.2 [2,858 B]\n",
            "Get:35 http://archive.ubuntu.com/ubuntu focal/main amd64 fonts-lohit-knda all 2.5.4-2 [48.2 kB]\n",
            "Get:36 http://archive.ubuntu.com/ubuntu focal/main amd64 fonts-navilu all 1.2-2 [75.3 kB]\n",
            "Get:37 http://archive.ubuntu.com/ubuntu focal/main amd64 fonts-knda all 2:1.2 [3,296 B]\n",
            "Get:38 http://archive.ubuntu.com/ubuntu focal/main amd64 fonts-lohit-mlym all 2.92.2-1 [32.7 kB]\n",
            "Get:39 http://archive.ubuntu.com/ubuntu focal/main amd64 fonts-samyak-mlym all 1.2.2-4 [28.7 kB]\n",
            "Get:40 http://archive.ubuntu.com/ubuntu focal/main amd64 fonts-mlym all 2:1.2 [2,914 B]\n",
            "Get:41 http://archive.ubuntu.com/ubuntu focal/main amd64 fonts-lohit-orya all 2.91.2-1 [49.7 kB]\n",
            "Get:42 http://archive.ubuntu.com/ubuntu focal/main amd64 fonts-orya-extra all 2.0-6 [59.2 kB]\n",
            "Get:43 http://archive.ubuntu.com/ubuntu focal/main amd64 fonts-orya all 2:1.2 [2,878 B]\n",
            "Get:44 http://archive.ubuntu.com/ubuntu focal/main amd64 fonts-pagul all 1.0-7 [75.3 kB]\n",
            "Get:45 http://archive.ubuntu.com/ubuntu focal/main amd64 fonts-lohit-taml all 2.91.3-1 [29.4 kB]\n",
            "Get:46 http://archive.ubuntu.com/ubuntu focal/main amd64 fonts-samyak-taml all 1.2.2-4 [24.6 kB]\n",
            "Get:47 http://archive.ubuntu.com/ubuntu focal/main amd64 fonts-lohit-taml-classical all 2.5.4-1 [32.4 kB]\n",
            "Get:48 http://archive.ubuntu.com/ubuntu focal/main amd64 fonts-taml all 2:1.3 [3,026 B]\n",
            "Get:49 http://archive.ubuntu.com/ubuntu focal/main amd64 fonts-lohit-telu all 2.5.5-1 [114 kB]\n",
            "Get:50 http://archive.ubuntu.com/ubuntu focal/main amd64 fonts-telu-extra all 2.0-4 [182 kB]\n",
            "Get:51 http://archive.ubuntu.com/ubuntu focal/main amd64 fonts-telu all 2:1.2 [2,860 B]\n",
            "Get:52 http://archive.ubuntu.com/ubuntu focal/main amd64 fonts-indic all 2:1.3 [3,336 B]\n",
            "Get:53 http://archive.ubuntu.com/ubuntu focal/main amd64 fonts-sarai all 1.0-2 [47.4 kB]\n",
            "Fetched 5,003 kB in 2s (2,711 kB/s)\n",
            "debconf: unable to initialize frontend: Dialog\n",
            "debconf: (No usable dialog-like program is installed, so the dialog based frontend cannot be used. at /usr/share/perl5/Debconf/FrontEnd/Dialog.pm line 76, <> line 53.)\n",
            "debconf: falling back to frontend: Readline\n",
            "debconf: unable to initialize frontend: Readline\n",
            "debconf: (This frontend requires a controlling tty.)\n",
            "debconf: falling back to frontend: Teletype\n",
            "dpkg-preconfigure: unable to re-open stdin: \n",
            "Selecting previously unselected package fonts-deva-extra.\n",
            "(Reading database ... 122349 files and directories currently installed.)\n",
            "Preparing to unpack .../00-fonts-deva-extra_3.0-5_all.deb ...\n",
            "Unpacking fonts-deva-extra (3.0-5) ...\n",
            "Selecting previously unselected package fonts-kalapi.\n",
            "Preparing to unpack .../01-fonts-kalapi_1.0-3_all.deb ...\n",
            "Unpacking fonts-kalapi (1.0-3) ...\n",
            "Selecting previously unselected package fonts-smc-anjalioldlipi.\n",
            "Preparing to unpack .../02-fonts-smc-anjalioldlipi_7.1.2-1_all.deb ...\n",
            "Unpacking fonts-smc-anjalioldlipi (7.1.2-1) ...\n",
            "Selecting previously unselected package fonts-smc-chilanka.\n",
            "Preparing to unpack .../03-fonts-smc-chilanka_1.400-1_all.deb ...\n",
            "Unpacking fonts-smc-chilanka (1.400-1) ...\n",
            "Selecting previously unselected package fonts-smc-dyuthi.\n",
            "Preparing to unpack .../04-fonts-smc-dyuthi_3.0.2-1_all.deb ...\n",
            "Unpacking fonts-smc-dyuthi (3.0.2-1) ...\n",
            "Selecting previously unselected package fonts-smc-gayathri.\n",
            "Preparing to unpack .../05-fonts-smc-gayathri_1.100-1_all.deb ...\n",
            "Unpacking fonts-smc-gayathri (1.100-1) ...\n",
            "Selecting previously unselected package fonts-smc-karumbi.\n",
            "Preparing to unpack .../06-fonts-smc-karumbi_1.1.2-1_all.deb ...\n",
            "Unpacking fonts-smc-karumbi (1.1.2-1) ...\n",
            "Selecting previously unselected package fonts-smc-keraleeyam.\n",
            "Preparing to unpack .../07-fonts-smc-keraleeyam_3.0.2-1_all.deb ...\n",
            "Unpacking fonts-smc-keraleeyam (3.0.2-1) ...\n",
            "Selecting previously unselected package fonts-smc-manjari.\n",
            "Preparing to unpack .../08-fonts-smc-manjari_1.710-1_all.deb ...\n",
            "Unpacking fonts-smc-manjari (1.710-1) ...\n",
            "Selecting previously unselected package fonts-smc-meera.\n",
            "Preparing to unpack .../09-fonts-smc-meera_7.0.3-1_all.deb ...\n",
            "Unpacking fonts-smc-meera (7.0.3-1) ...\n",
            "Selecting previously unselected package fonts-smc-rachana.\n",
            "Preparing to unpack .../10-fonts-smc-rachana_7.0.2-1_all.deb ...\n",
            "Unpacking fonts-smc-rachana (7.0.2-1) ...\n",
            "Selecting previously unselected package fonts-smc-raghumalayalamsans.\n",
            "Preparing to unpack .../11-fonts-smc-raghumalayalamsans_2.2.1-1_all.deb ...\n",
            "Unpacking fonts-smc-raghumalayalamsans (2.2.1-1) ...\n",
            "Selecting previously unselected package fonts-smc-suruma.\n",
            "Preparing to unpack .../12-fonts-smc-suruma_3.2.3-1_all.deb ...\n",
            "Unpacking fonts-smc-suruma (3.2.3-1) ...\n",
            "Selecting previously unselected package fonts-smc-uroob.\n",
            "Preparing to unpack .../13-fonts-smc-uroob_2.0.2-1_all.deb ...\n",
            "Unpacking fonts-smc-uroob (2.0.2-1) ...\n",
            "Selecting previously unselected package fonts-smc.\n",
            "Preparing to unpack .../14-fonts-smc_1%3a7.1_all.deb ...\n",
            "Unpacking fonts-smc (1:7.1) ...\n",
            "Selecting previously unselected package fonts-lohit-beng-bengali.\n",
            "Preparing to unpack .../15-fonts-lohit-beng-bengali_2.91.5-1_all.deb ...\n",
            "Unpacking fonts-lohit-beng-bengali (2.91.5-1) ...\n",
            "Selecting previously unselected package fonts-lohit-beng-assamese.\n",
            "Preparing to unpack .../16-fonts-lohit-beng-assamese_2.91.5-1_all.deb ...\n",
            "Unpacking fonts-lohit-beng-assamese (2.91.5-1) ...\n",
            "Selecting previously unselected package fonts-beng-extra.\n",
            "Preparing to unpack .../17-fonts-beng-extra_1.0-7_all.deb ...\n",
            "Unpacking fonts-beng-extra (1.0-7) ...\n",
            "Selecting previously unselected package fonts-beng.\n",
            "Preparing to unpack .../18-fonts-beng_2%3a1.2_all.deb ...\n",
            "Unpacking fonts-beng (2:1.2) ...\n",
            "Selecting previously unselected package fonts-lohit-deva.\n",
            "Preparing to unpack .../19-fonts-lohit-deva_2.95.4-4_all.deb ...\n",
            "Unpacking fonts-lohit-deva (2.95.4-4) ...\n",
            "Selecting previously unselected package fonts-sahadeva.\n",
            "Preparing to unpack .../20-fonts-sahadeva_1.0-4_all.deb ...\n",
            "Unpacking fonts-sahadeva (1.0-4) ...\n",
            "Selecting previously unselected package fonts-nakula.\n",
            "Preparing to unpack .../21-fonts-nakula_1.0-3_all.deb ...\n",
            "Unpacking fonts-nakula (1.0-3) ...\n",
            "Selecting previously unselected package fonts-samyak-deva.\n",
            "Preparing to unpack .../22-fonts-samyak-deva_1.2.2-4_all.deb ...\n",
            "Unpacking fonts-samyak-deva (1.2.2-4) ...\n",
            "Selecting previously unselected package fonts-deva.\n",
            "Preparing to unpack .../23-fonts-deva_2%3a1.2_all.deb ...\n",
            "Unpacking fonts-deva (2:1.2) ...\n",
            "Selecting previously unselected package fonts-gargi.\n",
            "Preparing to unpack .../24-fonts-gargi_2.0-4_all.deb ...\n",
            "Unpacking fonts-gargi (2.0-4) ...\n",
            "Selecting previously unselected package fonts-gubbi.\n",
            "Preparing to unpack .../25-fonts-gubbi_1.3-3_all.deb ...\n",
            "Unpacking fonts-gubbi (1.3-3) ...\n",
            "Selecting previously unselected package fonts-gujr-extra.\n",
            "Preparing to unpack .../26-fonts-gujr-extra_1.0.1-1_all.deb ...\n",
            "Unpacking fonts-gujr-extra (1.0.1-1) ...\n",
            "Selecting previously unselected package fonts-lohit-gujr.\n",
            "Preparing to unpack .../27-fonts-lohit-gujr_2.92.4-4_all.deb ...\n",
            "Unpacking fonts-lohit-gujr (2.92.4-4) ...\n",
            "Selecting previously unselected package fonts-samyak-gujr.\n",
            "Preparing to unpack .../28-fonts-samyak-gujr_1.2.2-4_all.deb ...\n",
            "Unpacking fonts-samyak-gujr (1.2.2-4) ...\n",
            "Selecting previously unselected package fonts-yrsa-rasa.\n",
            "Preparing to unpack .../29-fonts-yrsa-rasa_1.002-2_all.deb ...\n",
            "Unpacking fonts-yrsa-rasa (1.002-2) ...\n",
            "Selecting previously unselected package fonts-gujr.\n",
            "Preparing to unpack .../30-fonts-gujr_2%3a1.3_all.deb ...\n",
            "Unpacking fonts-gujr (2:1.3) ...\n",
            "Selecting previously unselected package fonts-lohit-guru.\n",
            "Preparing to unpack .../31-fonts-lohit-guru_2.91.2-1_all.deb ...\n",
            "Unpacking fonts-lohit-guru (2.91.2-1) ...\n",
            "Selecting previously unselected package fonts-guru-extra.\n",
            "Preparing to unpack .../32-fonts-guru-extra_2.0-5_all.deb ...\n",
            "Unpacking fonts-guru-extra (2.0-5) ...\n",
            "Selecting previously unselected package fonts-guru.\n",
            "Preparing to unpack .../33-fonts-guru_2%3a1.2_all.deb ...\n",
            "Unpacking fonts-guru (2:1.2) ...\n",
            "Selecting previously unselected package fonts-lohit-knda.\n",
            "Preparing to unpack .../34-fonts-lohit-knda_2.5.4-2_all.deb ...\n",
            "Unpacking fonts-lohit-knda (2.5.4-2) ...\n",
            "Selecting previously unselected package fonts-navilu.\n",
            "Preparing to unpack .../35-fonts-navilu_1.2-2_all.deb ...\n",
            "Unpacking fonts-navilu (1.2-2) ...\n",
            "Selecting previously unselected package fonts-knda.\n",
            "Preparing to unpack .../36-fonts-knda_2%3a1.2_all.deb ...\n",
            "Unpacking fonts-knda (2:1.2) ...\n",
            "Selecting previously unselected package fonts-lohit-mlym.\n",
            "Preparing to unpack .../37-fonts-lohit-mlym_2.92.2-1_all.deb ...\n",
            "Unpacking fonts-lohit-mlym (2.92.2-1) ...\n",
            "Selecting previously unselected package fonts-samyak-mlym.\n",
            "Preparing to unpack .../38-fonts-samyak-mlym_1.2.2-4_all.deb ...\n",
            "Unpacking fonts-samyak-mlym (1.2.2-4) ...\n",
            "Selecting previously unselected package fonts-mlym.\n",
            "Preparing to unpack .../39-fonts-mlym_2%3a1.2_all.deb ...\n",
            "Unpacking fonts-mlym (2:1.2) ...\n",
            "Selecting previously unselected package fonts-lohit-orya.\n",
            "Preparing to unpack .../40-fonts-lohit-orya_2.91.2-1_all.deb ...\n",
            "Unpacking fonts-lohit-orya (2.91.2-1) ...\n",
            "Selecting previously unselected package fonts-orya-extra.\n",
            "Preparing to unpack .../41-fonts-orya-extra_2.0-6_all.deb ...\n",
            "Unpacking fonts-orya-extra (2.0-6) ...\n",
            "Selecting previously unselected package fonts-orya.\n",
            "Preparing to unpack .../42-fonts-orya_2%3a1.2_all.deb ...\n",
            "Unpacking fonts-orya (2:1.2) ...\n",
            "Selecting previously unselected package fonts-pagul.\n",
            "Preparing to unpack .../43-fonts-pagul_1.0-7_all.deb ...\n",
            "Unpacking fonts-pagul (1.0-7) ...\n",
            "Selecting previously unselected package fonts-lohit-taml.\n",
            "Preparing to unpack .../44-fonts-lohit-taml_2.91.3-1_all.deb ...\n",
            "Unpacking fonts-lohit-taml (2.91.3-1) ...\n",
            "Selecting previously unselected package fonts-samyak-taml.\n",
            "Preparing to unpack .../45-fonts-samyak-taml_1.2.2-4_all.deb ...\n",
            "Unpacking fonts-samyak-taml (1.2.2-4) ...\n",
            "Selecting previously unselected package fonts-lohit-taml-classical.\n",
            "Preparing to unpack .../46-fonts-lohit-taml-classical_2.5.4-1_all.deb ...\n",
            "Unpacking fonts-lohit-taml-classical (2.5.4-1) ...\n",
            "Selecting previously unselected package fonts-taml.\n",
            "Preparing to unpack .../47-fonts-taml_2%3a1.3_all.deb ...\n",
            "Unpacking fonts-taml (2:1.3) ...\n",
            "Selecting previously unselected package fonts-lohit-telu.\n",
            "Preparing to unpack .../48-fonts-lohit-telu_2.5.5-1_all.deb ...\n",
            "Unpacking fonts-lohit-telu (2.5.5-1) ...\n",
            "Selecting previously unselected package fonts-telu-extra.\n",
            "Preparing to unpack .../49-fonts-telu-extra_2.0-4_all.deb ...\n",
            "Unpacking fonts-telu-extra (2.0-4) ...\n",
            "Selecting previously unselected package fonts-telu.\n",
            "Preparing to unpack .../50-fonts-telu_2%3a1.2_all.deb ...\n",
            "Unpacking fonts-telu (2:1.2) ...\n",
            "Selecting previously unselected package fonts-indic.\n",
            "Preparing to unpack .../51-fonts-indic_2%3a1.3_all.deb ...\n",
            "Unpacking fonts-indic (2:1.3) ...\n",
            "Selecting previously unselected package fonts-sarai.\n",
            "Preparing to unpack .../52-fonts-sarai_1.0-2_all.deb ...\n",
            "Unpacking fonts-sarai (1.0-2) ...\n",
            "Setting up fonts-samyak-taml (1.2.2-4) ...\n",
            "Setting up fonts-lohit-guru (2.91.2-1) ...\n",
            "Setting up fonts-sahadeva (1.0-4) ...\n",
            "Setting up fonts-smc-rachana (7.0.2-1) ...\n",
            "Setting up fonts-lohit-orya (2.91.2-1) ...\n",
            "Setting up fonts-smc-meera (7.0.3-1) ...\n",
            "Setting up fonts-pagul (1.0-7) ...\n",
            "Setting up fonts-lohit-taml (2.91.3-1) ...\n",
            "Setting up fonts-lohit-deva (2.95.4-4) ...\n",
            "Setting up fonts-smc-keraleeyam (3.0.2-1) ...\n",
            "Setting up fonts-gujr-extra (1.0.1-1) ...\n",
            "Setting up fonts-lohit-beng-bengali (2.91.5-1) ...\n",
            "Setting up fonts-beng-extra (1.0-7) ...\n",
            "Setting up fonts-smc-anjalioldlipi (7.1.2-1) ...\n",
            "Setting up fonts-smc-manjari (1.710-1) ...\n",
            "Setting up fonts-lohit-mlym (2.92.2-1) ...\n",
            "Setting up fonts-lohit-knda (2.5.4-2) ...\n",
            "Setting up fonts-samyak-gujr (1.2.2-4) ...\n",
            "Setting up fonts-nakula (1.0-3) ...\n",
            "Setting up fonts-samyak-mlym (1.2.2-4) ...\n",
            "Setting up fonts-lohit-beng-assamese (2.91.5-1) ...\n",
            "Setting up fonts-smc-gayathri (1.100-1) ...\n",
            "Setting up fonts-navilu (1.2-2) ...\n",
            "Setting up fonts-smc-raghumalayalamsans (2.2.1-1) ...\n",
            "Setting up fonts-lohit-taml-classical (2.5.4-1) ...\n",
            "Setting up fonts-smc-chilanka (1.400-1) ...\n",
            "Setting up fonts-lohit-telu (2.5.5-1) ...\n",
            "Setting up fonts-smc-uroob (2.0.2-1) ...\n",
            "Setting up fonts-gargi (2.0-4) ...\n",
            "Setting up fonts-smc-karumbi (1.1.2-1) ...\n",
            "Setting up fonts-smc-dyuthi (3.0.2-1) ...\n",
            "Setting up fonts-kalapi (1.0-3) ...\n",
            "Setting up fonts-gubbi (1.3-3) ...\n",
            "Setting up fonts-deva-extra (3.0-5) ...\n",
            "Setting up fonts-samyak-deva (1.2.2-4) ...\n",
            "Setting up fonts-beng (2:1.2) ...\n",
            "Setting up fonts-smc-suruma (3.2.3-1) ...\n",
            "Setting up fonts-guru-extra (2.0-5) ...\n",
            "Setting up fonts-knda (2:1.2) ...\n",
            "Setting up fonts-orya-extra (2.0-6) ...\n",
            "Setting up fonts-lohit-gujr (2.92.4-4) ...\n",
            "Setting up fonts-sarai (1.0-2) ...\n",
            "Setting up fonts-yrsa-rasa (1.002-2) ...\n",
            "Setting up fonts-telu-extra (2.0-4) ...\n",
            "Setting up fonts-smc (1:7.1) ...\n",
            "Setting up fonts-orya (2:1.2) ...\n",
            "Setting up fonts-telu (2:1.2) ...\n",
            "Setting up fonts-guru (2:1.2) ...\n",
            "Setting up fonts-taml (2:1.3) ...\n",
            "Setting up fonts-gujr (2:1.3) ...\n",
            "Setting up fonts-deva (2:1.2) ...\n",
            "Setting up fonts-mlym (2:1.2) ...\n",
            "Setting up fonts-indic (2:1.3) ...\n",
            "Processing triggers for fontconfig (2.13.1-2ubuntu3) ...\n"
          ]
        }
      ]
    },
    {
      "cell_type": "code",
      "source": [
        "import matplotlib.pyplot as plt\n",
        "import networkx as nx\n",
        "\n",
        "# Create a graph\n",
        "G = nx.Graph()\n",
        "\n",
        "# Add nodes\n",
        "G.add_node('भारत', label='Country')\n",
        "G.add_node('मुंबई', label='City')\n",
        "\n",
        "# Add edges\n",
        "G.add_edge('भारत', 'मुंबई')\n",
        "\n",
        "# Set the font to Nirmala UI (a font that supports Hindi characters)\n",
        "plt.rcParams['font.family'] = 'Nirmala UI'\n",
        "\n",
        "# Draw the graph\n",
        "nx.draw(G, with_labels=True)\n",
        "plt.show()\n"
      ],
      "metadata": {
        "colab": {
          "base_uri": "https://localhost:8080/",
          "height": 690
        },
        "id": "oAk9Ek4yqgq6",
        "outputId": "7a22dcae-02e3-4da9-bfac-dc0db439e0de"
      },
      "execution_count": null,
      "outputs": [
        {
          "output_type": "stream",
          "name": "stderr",
          "text": [
            "/usr/local/lib/python3.9/dist-packages/IPython/core/pylabtools.py:151: UserWarning: Glyph 2349 (\\N{DEVANAGARI LETTER BHA}) missing from current font.\n",
            "  fig.canvas.print_figure(bytes_io, **kw)\n",
            "/usr/local/lib/python3.9/dist-packages/IPython/core/pylabtools.py:151: UserWarning: Glyph 2352 (\\N{DEVANAGARI LETTER RA}) missing from current font.\n",
            "  fig.canvas.print_figure(bytes_io, **kw)\n",
            "/usr/local/lib/python3.9/dist-packages/IPython/core/pylabtools.py:151: UserWarning: Glyph 2369 (\\N{DEVANAGARI VOWEL SIGN U}) missing from current font.\n",
            "  fig.canvas.print_figure(bytes_io, **kw)\n",
            "/usr/local/lib/python3.9/dist-packages/IPython/core/pylabtools.py:151: UserWarning: Glyph 2306 (\\N{DEVANAGARI SIGN ANUSVARA}) missing from current font.\n",
            "  fig.canvas.print_figure(bytes_io, **kw)\n",
            "/usr/local/lib/python3.9/dist-packages/IPython/core/pylabtools.py:151: UserWarning: Glyph 2348 (\\N{DEVANAGARI LETTER BA}) missing from current font.\n",
            "  fig.canvas.print_figure(bytes_io, **kw)\n"
          ]
        },
        {
          "output_type": "display_data",
          "data": {
            "text/plain": [
              "<Figure size 640x480 with 1 Axes>"
            ],
            "image/png": "[encoded data removed]"
          },
          "metadata": {}
        }
      ]
    },
    {
      "cell_type": "code",
      "source": [
        "import networkx as nx\n",
        "import matplotlib.pyplot as plt\n",
        "\n",
        "# Create a graph with Hindi labels\n",
        "G = nx.Graph()\n",
        "G.add_node('भारत')\n",
        "G.add_node('नेपाल')\n",
        "G.add_edge('भारत', 'नेपाल')\n",
        "\n",
        "# Set the font to a font that supports Devanagari script\n",
        "plt.rcParams['font.family'] = 'Nirmala UI'\n",
        "\n",
        "# Draw the graph\n",
        "nx.draw(G, with_labels=True, font_size=16)\n",
        "\n",
        "# Show the plot\n",
        "plt.show()\n"
      ],
      "metadata": {
        "colab": {
          "base_uri": "https://localhost:8080/",
          "height": 585
        },
        "id": "BMwjCih0q0IH",
        "outputId": "e03631dc-92f5-41b7-e683-6a8a1eaa3c35"
      },
      "execution_count": null,
      "outputs": [
        {
          "output_type": "stream",
          "name": "stderr",
          "text": [
            "/usr/local/lib/python3.9/dist-packages/IPython/core/pylabtools.py:151: UserWarning: Glyph 2375 (\\N{DEVANAGARI VOWEL SIGN E}) missing from current font.\n",
            "  fig.canvas.print_figure(bytes_io, **kw)\n",
            "/usr/local/lib/python3.9/dist-packages/IPython/core/pylabtools.py:151: UserWarning: Glyph 2354 (\\N{DEVANAGARI LETTER LA}) missing from current font.\n",
            "  fig.canvas.print_figure(bytes_io, **kw)\n"
          ]
        },
        {
          "output_type": "display_data",
          "data": {
            "text/plain": [
              "<Figure size 640x480 with 1 Axes>"
            ],
            "image/png": "[encoded data removed]"
          },
          "metadata": {}
        }
      ]
    },
    {
      "cell_type": "code",
      "source": [
        "import matplotlib.pyplot as plt\n",
        "\n",
        "# Install the font of your choice\n",
        "# For example, to install the Lohit Hindi font on Ubuntu, you can run the following command:\n",
        "# sudo apt-get install fonts-lohit-deva\n",
        "\n",
        "# Set the font family to the installed font\n",
        "plt.rcParams[\"font.family\"] = \"Lohit Devanagari\"\n",
        "\n",
        "# Create a graph with Hindi labels\n",
        "G = nx.Graph()\n",
        "G.add_node(\"संगणक\")\n",
        "G.add_node(\"डाटा\")\n",
        "G.add_edge(\"संगणक\", \"डाटा\")\n",
        "\n",
        "# Draw the graph\n",
        "pos = nx.spring_layout(G)\n",
        "nx.draw(G, pos, with_labels=True)\n",
        "plt.show()\n"
      ],
      "metadata": {
        "colab": {
          "base_uri": "https://localhost:8080/",
          "height": 690
        },
        "id": "hHifyQqMrNtJ",
        "outputId": "0e0efc6b-9177-4a59-95fc-b975c860241f"
      },
      "execution_count": null,
      "outputs": [
        {
          "output_type": "stream",
          "name": "stderr",
          "text": [
            "/usr/local/lib/python3.9/dist-packages/IPython/core/pylabtools.py:151: UserWarning: Glyph 2327 (\\N{DEVANAGARI LETTER GA}) missing from current font.\n",
            "  fig.canvas.print_figure(bytes_io, **kw)\n",
            "/usr/local/lib/python3.9/dist-packages/IPython/core/pylabtools.py:151: UserWarning: Glyph 2339 (\\N{DEVANAGARI LETTER NNA}) missing from current font.\n",
            "  fig.canvas.print_figure(bytes_io, **kw)\n",
            "/usr/local/lib/python3.9/dist-packages/IPython/core/pylabtools.py:151: UserWarning: Glyph 2325 (\\N{DEVANAGARI LETTER KA}) missing from current font.\n",
            "  fig.canvas.print_figure(bytes_io, **kw)\n",
            "/usr/local/lib/python3.9/dist-packages/IPython/core/pylabtools.py:151: UserWarning: Glyph 2337 (\\N{DEVANAGARI LETTER DDA}) missing from current font.\n",
            "  fig.canvas.print_figure(bytes_io, **kw)\n",
            "/usr/local/lib/python3.9/dist-packages/IPython/core/pylabtools.py:151: UserWarning: Glyph 2335 (\\N{DEVANAGARI LETTER TTA}) missing from current font.\n",
            "  fig.canvas.print_figure(bytes_io, **kw)\n"
          ]
        },
        {
          "output_type": "display_data",
          "data": {
            "text/plain": [
              "<Figure size 640x480 with 1 Axes>"
            ],
            "image/png": "[encoded data removed]"
          },
          "metadata": {}
        }
      ]
    },
    {
      "cell_type": "code",
      "source": [
        "import matplotlib.pyplot as plt\n",
        "\n",
        "plt.plot([1,2,3], [2,4,3])\n",
        "plt.text(1, 2, 'शीर्षक', fontfamily='Noto Sans Devanagari', fontsize=14)\n",
        "plt.text(2.5, 3, 'लेबल', fontfamily='Noto Sans Devanagari', fontsize=14)\n",
        "plt.show()\n",
        "\n"
      ],
      "metadata": {
        "colab": {
          "base_uri": "https://localhost:8080/",
          "height": 1000
        },
        "id": "40ohjrEyroF5",
        "outputId": "a97e1dd5-6791-4eeb-c76a-0843d513384e"
      },
      "execution_count": null,
      "outputs": [
        {
          "output_type": "stream",
          "name": "stderr",
          "text": [
            "WARNING:matplotlib.font_manager:findfont: Font family 'Lohit Devanagari' not found.\n",
            "WARNING:matplotlib.font_manager:findfont: Font family 'Lohit Devanagari' not found.\n",
            "WARNING:matplotlib.font_manager:findfont: Font family 'Lohit Devanagari' not found.\n",
            "WARNING:matplotlib.font_manager:findfont: Font family 'Lohit Devanagari' not found.\n",
            "WARNING:matplotlib.font_manager:findfont: Font family 'Lohit Devanagari' not found.\n",
            "WARNING:matplotlib.font_manager:findfont: Font family 'Lohit Devanagari' not found.\n",
            "WARNING:matplotlib.font_manager:findfont: Font family 'Lohit Devanagari' not found.\n",
            "WARNING:matplotlib.font_manager:findfont: Font family 'Lohit Devanagari' not found.\n",
            "WARNING:matplotlib.font_manager:findfont: Font family 'Lohit Devanagari' not found.\n",
            "WARNING:matplotlib.font_manager:findfont: Font family 'Lohit Devanagari' not found.\n",
            "WARNING:matplotlib.font_manager:findfont: Font family 'Lohit Devanagari' not found.\n",
            "WARNING:matplotlib.font_manager:findfont: Font family 'Lohit Devanagari' not found.\n",
            "WARNING:matplotlib.font_manager:findfont: Font family 'Lohit Devanagari' not found.\n",
            "WARNING:matplotlib.font_manager:findfont: Font family 'Lohit Devanagari' not found.\n",
            "WARNING:matplotlib.font_manager:findfont: Font family 'Noto Sans Devanagari' not found.\n",
            "WARNING:matplotlib.font_manager:findfont: Font family 'Noto Sans Devanagari' not found.\n",
            "/usr/local/lib/python3.9/dist-packages/IPython/core/pylabtools.py:151: UserWarning: Glyph 2358 (\\N{DEVANAGARI LETTER SHA}) missing from current font.\n",
            "  fig.canvas.print_figure(bytes_io, **kw)\n",
            "/usr/local/lib/python3.9/dist-packages/IPython/core/pylabtools.py:151: UserWarning: Glyph 2359 (\\N{DEVANAGARI LETTER SSA}) missing from current font.\n",
            "  fig.canvas.print_figure(bytes_io, **kw)\n",
            "WARNING:matplotlib.font_manager:findfont: Font family 'Noto Sans Devanagari' not found.\n",
            "WARNING:matplotlib.font_manager:findfont: Font family 'Lohit Devanagari' not found.\n",
            "WARNING:matplotlib.font_manager:findfont: Font family 'Lohit Devanagari' not found.\n",
            "WARNING:matplotlib.font_manager:findfont: Font family 'Lohit Devanagari' not found.\n",
            "WARNING:matplotlib.font_manager:findfont: Font family 'Lohit Devanagari' not found.\n",
            "WARNING:matplotlib.font_manager:findfont: Font family 'Lohit Devanagari' not found.\n",
            "WARNING:matplotlib.font_manager:findfont: Font family 'Lohit Devanagari' not found.\n",
            "WARNING:matplotlib.font_manager:findfont: Font family 'Lohit Devanagari' not found.\n",
            "WARNING:matplotlib.font_manager:findfont: Font family 'Lohit Devanagari' not found.\n",
            "WARNING:matplotlib.font_manager:findfont: Font family 'Lohit Devanagari' not found.\n",
            "WARNING:matplotlib.font_manager:findfont: Font family 'Lohit Devanagari' not found.\n",
            "WARNING:matplotlib.font_manager:findfont: Font family 'Lohit Devanagari' not found.\n",
            "WARNING:matplotlib.font_manager:findfont: Font family 'Lohit Devanagari' not found.\n",
            "WARNING:matplotlib.font_manager:findfont: Font family 'Lohit Devanagari' not found.\n",
            "WARNING:matplotlib.font_manager:findfont: Font family 'Lohit Devanagari' not found.\n",
            "WARNING:matplotlib.font_manager:findfont: Font family 'Lohit Devanagari' not found.\n",
            "WARNING:matplotlib.font_manager:findfont: Font family 'Lohit Devanagari' not found.\n",
            "WARNING:matplotlib.font_manager:findfont: Font family 'Lohit Devanagari' not found.\n",
            "WARNING:matplotlib.font_manager:findfont: Font family 'Lohit Devanagari' not found.\n",
            "WARNING:matplotlib.font_manager:findfont: Font family 'Lohit Devanagari' not found.\n",
            "WARNING:matplotlib.font_manager:findfont: Font family 'Lohit Devanagari' not found.\n",
            "WARNING:matplotlib.font_manager:findfont: Font family 'Lohit Devanagari' not found.\n",
            "WARNING:matplotlib.font_manager:findfont: Font family 'Lohit Devanagari' not found.\n",
            "WARNING:matplotlib.font_manager:findfont: Font family 'Lohit Devanagari' not found.\n",
            "WARNING:matplotlib.font_manager:findfont: Font family 'Lohit Devanagari' not found.\n",
            "WARNING:matplotlib.font_manager:findfont: Font family 'Lohit Devanagari' not found.\n",
            "WARNING:matplotlib.font_manager:findfont: Font family 'Lohit Devanagari' not found.\n",
            "WARNING:matplotlib.font_manager:findfont: Font family 'Lohit Devanagari' not found.\n",
            "WARNING:matplotlib.font_manager:findfont: Font family 'Lohit Devanagari' not found.\n",
            "WARNING:matplotlib.font_manager:findfont: Font family 'Lohit Devanagari' not found.\n",
            "WARNING:matplotlib.font_manager:findfont: Font family 'Lohit Devanagari' not found.\n",
            "WARNING:matplotlib.font_manager:findfont: Font family 'Lohit Devanagari' not found.\n",
            "WARNING:matplotlib.font_manager:findfont: Font family 'Lohit Devanagari' not found.\n",
            "WARNING:matplotlib.font_manager:findfont: Font family 'Noto Sans Devanagari' not found.\n",
            "WARNING:matplotlib.font_manager:findfont: Font family 'Noto Sans Devanagari' not found.\n",
            "WARNING:matplotlib.font_manager:findfont: Font family 'Noto Sans Devanagari' not found.\n",
            "WARNING:matplotlib.font_manager:findfont: Font family 'Noto Sans Devanagari' not found.\n",
            "WARNING:matplotlib.font_manager:findfont: Font family 'Noto Sans Devanagari' not found.\n"
          ]
        },
        {
          "output_type": "display_data",
          "data": {
            "text/plain": [
              "<Figure size 640x480 with 1 Axes>"
            ],
            "image/png": "[encoded data removed]"
          },
          "metadata": {}
        }
      ]
    },
    {
      "cell_type": "code",
      "source": [
        "nx.draw(G, pos = nx.spring_layout(G), with_labels = True)"
      ],
      "metadata": {
        "colab": {
          "base_uri": "https://localhost:8080/",
          "height": 1000
        },
        "id": "SLHSGrS0sNHB",
        "outputId": "79313e89-b4c2-4a4f-ecb6-883bbfed683d"
      },
      "execution_count": null,
      "outputs": [
        {
          "output_type": "stream",
          "name": "stderr",
          "text": [
            "/usr/local/lib/python3.9/dist-packages/IPython/core/events.py:89: UserWarning: Glyph 2360 (\\N{DEVANAGARI LETTER SA}) missing from current font.\n",
            "  func(*args, **kwargs)\n",
            "/usr/local/lib/python3.9/dist-packages/IPython/core/events.py:89: UserWarning: Matplotlib currently does not support Devanagari natively.\n",
            "  func(*args, **kwargs)\n",
            "/usr/local/lib/python3.9/dist-packages/IPython/core/events.py:89: UserWarning: Glyph 2306 (\\N{DEVANAGARI SIGN ANUSVARA}) missing from current font.\n",
            "  func(*args, **kwargs)\n",
            "/usr/local/lib/python3.9/dist-packages/IPython/core/events.py:89: UserWarning: Glyph 2327 (\\N{DEVANAGARI LETTER GA}) missing from current font.\n",
            "  func(*args, **kwargs)\n",
            "/usr/local/lib/python3.9/dist-packages/IPython/core/events.py:89: UserWarning: Glyph 2339 (\\N{DEVANAGARI LETTER NNA}) missing from current font.\n",
            "  func(*args, **kwargs)\n",
            "/usr/local/lib/python3.9/dist-packages/IPython/core/events.py:89: UserWarning: Glyph 2325 (\\N{DEVANAGARI LETTER KA}) missing from current font.\n",
            "  func(*args, **kwargs)\n",
            "/usr/local/lib/python3.9/dist-packages/IPython/core/events.py:89: UserWarning: Glyph 2337 (\\N{DEVANAGARI LETTER DDA}) missing from current font.\n",
            "  func(*args, **kwargs)\n",
            "/usr/local/lib/python3.9/dist-packages/IPython/core/events.py:89: UserWarning: Glyph 2366 (\\N{DEVANAGARI VOWEL SIGN AA}) missing from current font.\n",
            "  func(*args, **kwargs)\n",
            "/usr/local/lib/python3.9/dist-packages/IPython/core/events.py:89: UserWarning: Glyph 2335 (\\N{DEVANAGARI LETTER TTA}) missing from current font.\n",
            "  func(*args, **kwargs)\n",
            "/usr/local/lib/python3.9/dist-packages/IPython/core/pylabtools.py:151: UserWarning: Glyph 2360 (\\N{DEVANAGARI LETTER SA}) missing from current font.\n",
            "  fig.canvas.print_figure(bytes_io, **kw)\n",
            "/usr/local/lib/python3.9/dist-packages/IPython/core/pylabtools.py:151: UserWarning: Matplotlib currently does not support Devanagari natively.\n",
            "  fig.canvas.print_figure(bytes_io, **kw)\n",
            "/usr/local/lib/python3.9/dist-packages/IPython/core/pylabtools.py:151: UserWarning: Glyph 2306 (\\N{DEVANAGARI SIGN ANUSVARA}) missing from current font.\n",
            "  fig.canvas.print_figure(bytes_io, **kw)\n",
            "/usr/local/lib/python3.9/dist-packages/IPython/core/pylabtools.py:151: UserWarning: Glyph 2327 (\\N{DEVANAGARI LETTER GA}) missing from current font.\n",
            "  fig.canvas.print_figure(bytes_io, **kw)\n",
            "/usr/local/lib/python3.9/dist-packages/IPython/core/pylabtools.py:151: UserWarning: Glyph 2339 (\\N{DEVANAGARI LETTER NNA}) missing from current font.\n",
            "  fig.canvas.print_figure(bytes_io, **kw)\n",
            "/usr/local/lib/python3.9/dist-packages/IPython/core/pylabtools.py:151: UserWarning: Glyph 2325 (\\N{DEVANAGARI LETTER KA}) missing from current font.\n",
            "  fig.canvas.print_figure(bytes_io, **kw)\n",
            "/usr/local/lib/python3.9/dist-packages/IPython/core/pylabtools.py:151: UserWarning: Glyph 2337 (\\N{DEVANAGARI LETTER DDA}) missing from current font.\n",
            "  fig.canvas.print_figure(bytes_io, **kw)\n",
            "/usr/local/lib/python3.9/dist-packages/IPython/core/pylabtools.py:151: UserWarning: Glyph 2366 (\\N{DEVANAGARI VOWEL SIGN AA}) missing from current font.\n",
            "  fig.canvas.print_figure(bytes_io, **kw)\n",
            "/usr/local/lib/python3.9/dist-packages/IPython/core/pylabtools.py:151: UserWarning: Glyph 2335 (\\N{DEVANAGARI LETTER TTA}) missing from current font.\n",
            "  fig.canvas.print_figure(bytes_io, **kw)\n"
          ]
        },
        {
          "output_type": "display_data",
          "data": {
            "text/plain": [
              "<Figure size 640x480 with 1 Axes>"
            ],
            "image/png": "[encoded data removed]"
          },
          "metadata": {}
        }
      ]
    },
    {
      "cell_type": "markdown",
      "source": [
        "Centrality functions"
      ],
      "metadata": {
        "id": "PN51-44ZEir3"
      }
    },
    {
      "cell_type": "code",
      "source": [
        "# graph created from pdf by adding hindi labelled nodes.\n",
        "import networkx as nx\n",
        "\n",
        "# Create a sample graph\n",
        "G = nx.Graph()\n",
        "G.add_edges_from([(\"उम्मीद\",\"बददिममग\"), (\"उम्मीद\" ,\"डर\"), (\"डर\",\"negative\"), (\"negative\",\"गुस्सा\"), (\"negative\",\"घृणा\"),(\"negative\",\"emotion\"),(\"emotion\",\"positive\"),(\"positive\",\"हर्ष\"),(\"हर्ष\",\"मनोरंजन\"),(\"हर्ष\",\"आमोद\"),(\"मनोरंजन\" ,\"आमोद\"),\n",
        "                  (\"नासमज\",\"मुर्ख\"),(\"मुर्ख\", \"बेवक़ूफ़\"),(\"बेवक़ूफ़\",\"चिढ़\"),(\"चिढ़\",\"गुस्सा\"),(\"गुस्सा\",\"रोष\"),(\"रोष\",\"नाराजगी\"),(\"नाराजगी\",\"अनिच्छा\"),(\"अनिच्छा\",\"अरुचि\"),(\"अरुचि\",\"नापसंद\"),(\"अरुचि\",\"घृणा\"),(\"घृणा\",\"नापसंद\"),(\"घृणा\",\"नफरत\"),(\"घृणा\",\"अस्वीकृति\"),(\"अस्वीकृति\",\"नकार\" )])\n",
        "\n",
        "\n",
        "# Compute betweenness centrality\n",
        "bc = nx.betweenness_centrality(G)\n",
        "\n",
        "nx.draw(G)\n"
      ],
      "metadata": {
        "colab": {
          "base_uri": "https://localhost:8080/",
          "height": 516
        },
        "id": "m6nfOE393Y3D",
        "outputId": "0d924306-b719-45c2-ae4a-9a17b441474d"
      },
      "execution_count": null,
      "outputs": [
        {
          "output_type": "display_data",
          "data": {
            "text/plain": [
              "<Figure size 640x480 with 1 Axes>"
            ],
            "image/png": "[encoded data removed]"
          },
          "metadata": {}
        }
      ]
    },
    {
      "cell_type": "code",
      "source": [
        "deg_centrality = nx.degree_centrality(G)\n",
        "\n",
        "# G will act as subgraph here\n",
        "print(deg_centrality)\n"
      ],
      "metadata": {
        "colab": {
          "base_uri": "https://localhost:8080/"
        },
        "id": "eoPEB8QVxxKS",
        "outputId": "2048ba3c-327a-4fe5-90ef-949da5569f32"
      },
      "execution_count": null,
      "outputs": [
        {
          "output_type": "stream",
          "name": "stdout",
          "text": [
            "{'उम्मीद': 0.09090909090909091, 'बददिममग': 0.045454545454545456, 'डर': 0.09090909090909091, 'negative': 0.18181818181818182, 'गुस्सा': 0.13636363636363635, 'घृणा': 0.2272727272727273, 'emotion': 0.09090909090909091, 'positive': 0.09090909090909091, 'हर्ष': 0.13636363636363635, 'मनोरंजन': 0.09090909090909091, 'आमोद': 0.09090909090909091, 'नासमज': 0.045454545454545456, 'मुर्ख': 0.09090909090909091, 'बेवक़ूफ़': 0.09090909090909091, 'चिढ़': 0.09090909090909091, 'रोष': 0.09090909090909091, 'नाराजगी': 0.09090909090909091, 'अनिच्छा': 0.09090909090909091, 'अरुचि': 0.13636363636363635, 'नापसंद': 0.09090909090909091, 'नफरत': 0.045454545454545456, 'अस्वीकृति': 0.09090909090909091, 'नकार': 0.045454545454545456}\n"
          ]
        }
      ]
    },
    {
      "cell_type": "code",
      "source": [
        "close_centrality = nx.closeness_centrality(G)\n",
        "\n",
        "# G will act as subgraph here\n",
        "print(close_centrality)\n",
        "\n"
      ],
      "metadata": {
        "colab": {
          "base_uri": "https://localhost:8080/"
        },
        "id": "Y0qWdPT3xzV_",
        "outputId": "487069de-2940-4d6b-827b-9eb527849cc3"
      },
      "execution_count": null,
      "outputs": [
        {
          "output_type": "stream",
          "name": "stdout",
          "text": [
            "{'उम्मीद': 0.24175824175824176, 'बददिममग': 0.19642857142857142, 'डर': 0.3055555555555556, 'negative': 0.4, 'गुस्सा': 0.3492063492063492, 'घृणा': 0.3492063492063492, 'emotion': 0.3235294117647059, 'positive': 0.26506024096385544, 'हर्ष': 0.22, 'मनोरंजन': 0.18333333333333332, 'आमोद': 0.18333333333333332, 'नासमज': 0.16296296296296298, 'मुर्ख': 0.19298245614035087, 'बेवक़ूफ़': 0.23157894736842105, 'चिढ़': 0.28205128205128205, 'रोष': 0.27848101265822783, 'नाराजगी': 0.24444444444444444, 'अनिच्छा': 0.24444444444444444, 'अरुचि': 0.28205128205128205, 'नापसंद': 0.2716049382716049, 'नफरत': 0.2619047619047619, 'अस्वीकृति': 0.2682926829268293, 'नकार': 0.21359223300970873}\n"
          ]
        }
      ]
    },
    {
      "cell_type": "code",
      "source": [
        "bet_centrality = nx.betweenness_centrality(G, normalized = True,\n",
        "\t\t\t\t\t\t\t\t\t\t\tendpoints = False)\n",
        "\n",
        "# G will act as the subgraph, parameters normalized\n",
        "# and endpoints ensure whether we normalize the value\n",
        "# and consider the endpoints respectively.\n",
        "print(bet_centrality)\n"
      ],
      "metadata": {
        "colab": {
          "base_uri": "https://localhost:8080/"
        },
        "id": "ekrTP-dYyHqe",
        "outputId": "d3eff46f-7678-47fd-c29f-db1e5dca25c1"
      },
      "execution_count": null,
      "outputs": [
        {
          "output_type": "stream",
          "name": "stdout",
          "text": [
            "{'उम्मीद': 0.09090909090909091, 'बददिममग': 0.0, 'डर': 0.17316017316017315, 'negative': 0.6991341991341992, 'गुस्सा': 0.4090909090909091, 'घृणा': 0.41774891774891776, 'emotion': 0.3116883116883117, 'positive': 0.24675324675324675, 'हर्ष': 0.17316017316017315, 'मनोरंजन': 0.0, 'आमोद': 0.0, 'नासमज': 0.0, 'मुर्ख': 0.09090909090909091, 'बेवक़ूफ़': 0.17316017316017315, 'चिढ़': 0.24675324675324675, 'रोष': 0.08225108225108226, 'नाराजगी': 0.032467532467532464, 'अनिच्छा': 0.032467532467532464, 'अरुचि': 0.08441558441558442, 'नापसंद': 0.0, 'नफरत': 0.0, 'अस्वीकृति': 0.09090909090909091, 'नकार': 0.0}\n"
          ]
        }
      ]
    },
    {
      "cell_type": "code",
      "source": [
        "pr = nx.pagerank(G, alpha = 0.8)\n",
        "\n",
        "# G will act as sub Graph\n",
        "print(pr)\n"
      ],
      "metadata": {
        "colab": {
          "base_uri": "https://localhost:8080/"
        },
        "id": "lR0MiBc-yP2w",
        "outputId": "f6c94d6f-bd01-43b3-967e-bc640592d7ae"
      },
      "execution_count": null,
      "outputs": [
        {
          "output_type": "stream",
          "name": "stdout",
          "text": [
            "{'उम्मीद': 0.04738275301343888, 'बददिममग': 0.02764823924414565, 'डर': 0.04141877400961159, 'negative': 0.06885445891095952, 'गुस्सा': 0.05465843234918479, 'घृणा': 0.08651074522852562, 'emotion': 0.037931543426410134, 'positive': 0.038663880974273146, 'हर्ष': 0.05548219617148214, 'मनोरंजन': 0.0391515769206252, 'आमोद': 0.0391515769206252, 'नासमज': 0.028490486763024816, 'मुर्ख': 0.0494892269812197, 'बेवक़ूफ़': 0.04499863171968709, 'चिढ़': 0.041271988067431244, 'रोष': 0.0392112546149581, 'नाराजगी': 0.03984808501004758, 'अनिच्छा': 0.03867126615432169, 'अरुचि': 0.05263519181470183, 'नापसंद': 0.03657360674167158, 'नफरत': 0.022537520551959976, 'अस्वीकृति': 0.04337363250789201, 'नकार': 0.02604493190380253}\n"
          ]
        }
      ]
    }
  ]
}